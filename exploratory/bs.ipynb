{
 "cells": [
  {
   "cell_type": "code",
   "execution_count": 79,
   "metadata": {},
   "outputs": [],
   "source": [
    "from bs4 import BeautifulSoup as bs\n",
    "import random\n",
    "from urllib.parse import urlparse\n",
    "from urllib.request import Request, urlopen\n",
    "import re\n",
    "import requests\n",
    "import csv\n",
    "import pandas as pd"
   ]
  },
  {
   "cell_type": "markdown",
   "metadata": {},
   "source": [
    "## Website with directions\n",
    "https://blog.jovian.ai/web-scraping-yahoo-finance-using-python-7c4612fab70c"
   ]
  },
  {
   "cell_type": "code",
   "execution_count": 60,
   "metadata": {},
   "outputs": [],
   "source": [
    "my_url = 'https://ca.finance.yahoo.com/quote/HBM.TO?p=HBM.TO&.tsrc=fin-srch'\n",
    "response = requests.get(my_url)"
   ]
  },
  {
   "cell_type": "code",
   "execution_count": 61,
   "metadata": {},
   "outputs": [
    {
     "name": "stdout",
     "output_type": "stream",
     "text": [
      "response.ok : True , response.status_code : 200\n"
     ]
    }
   ],
   "source": [
    "print(\"response.ok : {} , response.status_code : {}\".format(response.ok , response.status_code))"
   ]
  },
  {
   "cell_type": "code",
   "execution_count": 62,
   "metadata": {},
   "outputs": [
    {
     "name": "stdout",
     "output_type": "stream",
     "text": [
      "Preview of response.text :  <!doctype html><html data-color-theme=\"light\" id=\"atomic\" class=\"NoJs chrome desktop failsafe\" lang=\"en-CA\"><head prefix=\"og: https://ogp.me/ns#\"><script>window.performance && window.performance.mark && window.performance.mark('PageStart');</script><meta charset=\"utf-8\"><title>Hudbay Minerals Inc. (HBM.TO) Stock Price, News, Quote &amp; History - Yahoo Finance</title><meta name=\"keywords\" content=\"HBM.TO, Hudbay Minerals Inc., HBM.TO stock chart, Hudbay Minerals Inc. stock chart, stock chart, st\n"
     ]
    }
   ],
   "source": [
    "print(\"Preview of response.text : \", response.text[:500])"
   ]
  },
  {
   "cell_type": "code",
   "execution_count": 64,
   "metadata": {},
   "outputs": [],
   "source": [
    "def get_page(url):\n",
    "    \"\"\"Download a webpage and return a beautiful soup doc\"\"\"\n",
    "    response = requests.get(url)\n",
    "    if not response.ok:\n",
    "        print('Status code:', response.status_code)\n",
    "        raise Exception('Failed to load page {}'.format(url))\n",
    "    page_content = response.text\n",
    "    doc = bs(page_content, 'html.parser')\n",
    "    return doc"
   ]
  },
  {
   "cell_type": "code",
   "execution_count": 65,
   "metadata": {},
   "outputs": [
    {
     "name": "stdout",
     "output_type": "stream",
     "text": [
      "Type of doc:  <class 'bs4.BeautifulSoup'>\n"
     ]
    }
   ],
   "source": [
    "doc = get_page(my_url)\n",
    "print('Type of doc: ',type(doc))"
   ]
  },
  {
   "cell_type": "code",
   "execution_count": 66,
   "metadata": {},
   "outputs": [
    {
     "data": {
      "text/plain": [
       "<title>Hudbay Minerals Inc. (HBM.TO) Stock Price, News, Quote &amp; History - Yahoo Finance</title>"
      ]
     },
     "execution_count": 66,
     "metadata": {},
     "output_type": "execute_result"
    }
   ],
   "source": [
    "doc.find('title')"
   ]
  },
  {
   "cell_type": "code",
   "execution_count": 67,
   "metadata": {},
   "outputs": [],
   "source": [
    "div_tags = doc.find_all('div', {'class': \"Ov(h) Pend(44px) Pstart(25px)\"})"
   ]
  },
  {
   "cell_type": "code",
   "execution_count": 68,
   "metadata": {},
   "outputs": [
    {
     "data": {
      "text/plain": [
       "9"
      ]
     },
     "execution_count": 68,
     "metadata": {},
     "output_type": "execute_result"
    }
   ],
   "source": [
    "len(div_tags)"
   ]
  },
  {
   "cell_type": "code",
   "execution_count": 69,
   "metadata": {},
   "outputs": [
    {
     "name": "stdout",
     "output_type": "stream",
     "text": [
      "<div class=\"Ov(h) Pend(44px) Pstart(25px)\"><div class=\"C(#959595) Fz(11px) D(ib) Mb(6px)\">Zacks</div><h3 class=\"Mb(5px)\"><a class=\"js-content-viewer wafer-caas Fw(b) Fz(18px) Lh(23px) LineClamp(2,46px) Fz(17px)--sm1024 Lh(19px)--sm1024 LineClamp(2,38px)--sm1024 mega-item-header-link Td(n) C(#0078ff):h C(#000) LineClamp(2,46px) LineClamp(2,38px)--sm1024 not-isInStreamVideoEnabled\" data-uuid=\"bc5ae09d-2fbf-3c28-9520-7723ea6049a7\" data-wf-caas-prefetch=\"1\" data-wf-caas-uuid=\"bc5ae09d-2fbf-3c28-9520-7723ea6049a7\" href=\"/news/hudbay-minerals-hbm-reports-q3-004512113.html\"><u class=\"StretchedBox\"></u>HudBay Minerals (HBM) Reports Q3 Loss, Tops Revenue Estimates</a></h3><p class=\"Fz(14px) Lh(19px) Fz(13px)--sm1024 Lh(17px)--sm1024 LineClamp(2,38px) LineClamp(2,34px)--sm1024 M(0)\">HudBay Minerals (HBM) delivered earnings and revenue surprises of 16.67% and 19.33%, respectively, for the quarter ended September 2022. Do the numbers hold clues to what lies ahead for the stock?</p></div>\n"
     ]
    }
   ],
   "source": [
    "print(div_tags[1])"
   ]
  },
  {
   "cell_type": "code",
   "execution_count": 72,
   "metadata": {},
   "outputs": [
    {
     "name": "stdout",
     "output_type": "stream",
     "text": [
      "Source:  Zacks\n",
      "Headline : HudBay Minerals (HBM) Reports Q3 Loss, Tops Revenue Estimates\n"
     ]
    }
   ],
   "source": [
    "print(\"Source: \", div_tags[1].find('div').text)\n",
    "print(\"Headline : {}\".format(div_tags[1].find('a').text))"
   ]
  },
  {
   "cell_type": "code",
   "execution_count": 71,
   "metadata": {},
   "outputs": [
    {
     "name": "stdout",
     "output_type": "stream",
     "text": [
      "Image URL:  https://s.yimg.com/uu/api/res/1.2/E0X8OtP1N.eOKR9Mkc84cw--~B/Zmk9c3RyaW07aD0xMjM7cT04MDt3PTIyMDthcHBpZD15dGFjaHlvbg--/https://media.zenfs.com/en/zacks.com/bdc2850a48a0f40806db817a9e24f36f\n"
     ]
    }
   ],
   "source": [
    "print(\"Image URL: \",div_tags[1].findParent().find('img')['src'])"
   ]
  },
  {
   "cell_type": "code",
   "execution_count": 73,
   "metadata": {},
   "outputs": [],
   "source": [
    "def get_news_tags(doc):\n",
    "    \"\"\"Get the list of tags containing news information\"\"\"\n",
    "    news_class = \"Ov(h) Pend(44px) Pstart(25px)\" ## class name of div tag \n",
    "    news_list  = doc.find_all('div', {'class': news_class})\n",
    "    return news_list"
   ]
  },
  {
   "cell_type": "code",
   "execution_count": 76,
   "metadata": {},
   "outputs": [],
   "source": [
    "BASE_URL = 'https://ca.finance.yahoo.com' #Global Variable \n",
    "\n",
    "def parse_news(news_tag):\n",
    "    \"\"\"Get the news data point and return dictionary\"\"\"\n",
    "    news_source = news_tag.find('div').text #source\n",
    "    news_headline = news_tag.find('a').text #heading\n",
    "    news_url = news_tag.find('a')['href'] #link\n",
    "    news_content = news_tag.find('p').text #content\n",
    "    news_image = news_tag.findParent().find('img')['src'] #thumb image\n",
    "    return { 'source' : news_source,\n",
    "            'headline' : news_headline,\n",
    "            'url' : BASE_URL + news_url,\n",
    "            'content' : news_content,\n",
    "            'image' : news_image\n",
    "           }"
   ]
  },
  {
   "cell_type": "code",
   "execution_count": 77,
   "metadata": {},
   "outputs": [],
   "source": [
    "def scrape_yahoo_news(url, path=None):\n",
    "    \"\"\"Get the yahoo finance market news and write them to CSV file \"\"\"\n",
    "    if path is None:\n",
    "        path = 'stock-market-news.csv'\n",
    "        \n",
    "    print('Requesting html page')\n",
    "    doc = get_page(url)\n",
    "\n",
    "    print('Extracting news tags')\n",
    "    news_list = get_news_tags(doc)\n",
    "\n",
    "    print('Parsing news tags')\n",
    "    news_data = [parse_news(news_tag) for news_tag in news_list]\n",
    "\n",
    "    print('Save the data to a CSV')\n",
    "    news_df = pd.DataFrame(news_data)\n",
    "    news_df.to_csv(path, index=None)\n",
    "    \n",
    "    #This return statement is optional, we are doing this just analyze the final output \n",
    "    return news_df "
   ]
  },
  {
   "cell_type": "code",
   "execution_count": 80,
   "metadata": {},
   "outputs": [
    {
     "name": "stdout",
     "output_type": "stream",
     "text": [
      "Requesting html page\n",
      "Extracting news tags\n",
      "Parsing news tags\n",
      "Save the data to a CSV\n"
     ]
    }
   ],
   "source": [
    "YAHOO_NEWS_URL = BASE_URL+'/quote/HBM.TO?p=HBM.TO&.tsrc=fin-srch'\n",
    "news_df = scrape_yahoo_news(YAHOO_NEWS_URL)"
   ]
  },
  {
   "cell_type": "code",
   "execution_count": 82,
   "metadata": {},
   "outputs": [
    {
     "data": {
      "text/html": [
       "<div>\n",
       "<style scoped>\n",
       "    .dataframe tbody tr th:only-of-type {\n",
       "        vertical-align: middle;\n",
       "    }\n",
       "\n",
       "    .dataframe tbody tr th {\n",
       "        vertical-align: top;\n",
       "    }\n",
       "\n",
       "    .dataframe thead th {\n",
       "        text-align: right;\n",
       "    }\n",
       "</style>\n",
       "<table border=\"1\" class=\"dataframe\">\n",
       "  <thead>\n",
       "    <tr style=\"text-align: right;\">\n",
       "      <th></th>\n",
       "      <th>source</th>\n",
       "      <th>headline</th>\n",
       "      <th>url</th>\n",
       "      <th>content</th>\n",
       "      <th>image</th>\n",
       "    </tr>\n",
       "  </thead>\n",
       "  <tbody>\n",
       "    <tr>\n",
       "      <th>0</th>\n",
       "      <td>Simply Wall St.</td>\n",
       "      <td>Hudbay Minerals Inc.'s (TSE:HBM) Financials Ar...</td>\n",
       "      <td>https://ca.finance.yahoo.com/news/hudbay-miner...</td>\n",
       "      <td>Most readers would already be aware that Hudba...</td>\n",
       "      <td>https://s.yimg.com/uu/api/res/1.2/6i6i2YmC9jlI...</td>\n",
       "    </tr>\n",
       "    <tr>\n",
       "      <th>1</th>\n",
       "      <td>Zacks</td>\n",
       "      <td>HudBay Minerals (HBM) Reports Q3 Loss, Tops Re...</td>\n",
       "      <td>https://ca.finance.yahoo.com/news/hudbay-miner...</td>\n",
       "      <td>HudBay Minerals (HBM) delivered earnings and r...</td>\n",
       "      <td>https://s.yimg.com/uu/api/res/1.2/E0X8OtP1N.eO...</td>\n",
       "    </tr>\n",
       "    <tr>\n",
       "      <th>2</th>\n",
       "      <td>GlobeNewswire</td>\n",
       "      <td>Hudbay Provides Exploration Update and Announc...</td>\n",
       "      <td>https://ca.finance.yahoo.com/news/hudbay-provi...</td>\n",
       "      <td>Figure 1: General Location of the Llaguen Proj...</td>\n",
       "      <td>https://s.yimg.com/uu/api/res/1.2/x.zCs4auA5v4...</td>\n",
       "    </tr>\n",
       "    <tr>\n",
       "      <th>3</th>\n",
       "      <td>GlobeNewswire</td>\n",
       "      <td>Hudbay Announces Third Quarter 2022 Results</td>\n",
       "      <td>https://ca.finance.yahoo.com/news/hudbay-annou...</td>\n",
       "      <td>TORONTO, Nov. 02, 2022 (GLOBE NEWSWIRE) -- Hud...</td>\n",
       "      <td>https://s.yimg.com/uu/api/res/1.2/lKO0k3O7IQeV...</td>\n",
       "    </tr>\n",
       "    <tr>\n",
       "      <th>4</th>\n",
       "      <td>Zacks</td>\n",
       "      <td>MP Materials Corp. (MP) Earnings Expected to G...</td>\n",
       "      <td>https://ca.finance.yahoo.com/news/mp-materials...</td>\n",
       "      <td>MP Materials Corp. (MP) doesn't possess the ri...</td>\n",
       "      <td>https://s.yimg.com/uu/api/res/1.2/kcRyCd4gFTHy...</td>\n",
       "    </tr>\n",
       "    <tr>\n",
       "      <th>5</th>\n",
       "      <td>Zacks</td>\n",
       "      <td>Earnings Preview: HudBay Minerals (HBM) Q3 Ear...</td>\n",
       "      <td>https://ca.finance.yahoo.com/news/earnings-pre...</td>\n",
       "      <td>HudBay Minerals (HBM) doesn't possess the righ...</td>\n",
       "      <td>https://s.yimg.com/uu/api/res/1.2/A6eDU7Slc_f2...</td>\n",
       "    </tr>\n",
       "    <tr>\n",
       "      <th>6</th>\n",
       "      <td>GlobeNewswire</td>\n",
       "      <td>Hudbay Announces Senior Management Appointments</td>\n",
       "      <td>https://ca.finance.yahoo.com/news/hudbay-annou...</td>\n",
       "      <td>TORONTO, Oct. 13, 2022 (GLOBE NEWSWIRE) -- Hud...</td>\n",
       "      <td>https://s.yimg.com/uu/api/res/1.2/lKO0k3O7IQeV...</td>\n",
       "    </tr>\n",
       "    <tr>\n",
       "      <th>7</th>\n",
       "      <td>GlobeNewswire</td>\n",
       "      <td>Hudbay to Host Conference Call for Third Quart...</td>\n",
       "      <td>https://ca.finance.yahoo.com/news/hudbay-host-...</td>\n",
       "      <td>TORONTO, Oct. 06, 2022 (GLOBE NEWSWIRE) -- Hud...</td>\n",
       "      <td>https://s.yimg.com/uu/api/res/1.2/lKO0k3O7IQeV...</td>\n",
       "    </tr>\n",
       "    <tr>\n",
       "      <th>8</th>\n",
       "      <td>Simply Wall St.</td>\n",
       "      <td>Institutional owners may take dramatic actions...</td>\n",
       "      <td>https://ca.finance.yahoo.com/news/institutiona...</td>\n",
       "      <td>If you want to know who really controls Hudbay...</td>\n",
       "      <td>https://s.yimg.com/uu/api/res/1.2/6i6i2YmC9jlI...</td>\n",
       "    </tr>\n",
       "  </tbody>\n",
       "</table>\n",
       "</div>"
      ],
      "text/plain": [
       "            source                                           headline  \\\n",
       "0  Simply Wall St.  Hudbay Minerals Inc.'s (TSE:HBM) Financials Ar...   \n",
       "1            Zacks  HudBay Minerals (HBM) Reports Q3 Loss, Tops Re...   \n",
       "2    GlobeNewswire  Hudbay Provides Exploration Update and Announc...   \n",
       "3    GlobeNewswire        Hudbay Announces Third Quarter 2022 Results   \n",
       "4            Zacks  MP Materials Corp. (MP) Earnings Expected to G...   \n",
       "5            Zacks  Earnings Preview: HudBay Minerals (HBM) Q3 Ear...   \n",
       "6    GlobeNewswire    Hudbay Announces Senior Management Appointments   \n",
       "7    GlobeNewswire  Hudbay to Host Conference Call for Third Quart...   \n",
       "8  Simply Wall St.  Institutional owners may take dramatic actions...   \n",
       "\n",
       "                                                 url  \\\n",
       "0  https://ca.finance.yahoo.com/news/hudbay-miner...   \n",
       "1  https://ca.finance.yahoo.com/news/hudbay-miner...   \n",
       "2  https://ca.finance.yahoo.com/news/hudbay-provi...   \n",
       "3  https://ca.finance.yahoo.com/news/hudbay-annou...   \n",
       "4  https://ca.finance.yahoo.com/news/mp-materials...   \n",
       "5  https://ca.finance.yahoo.com/news/earnings-pre...   \n",
       "6  https://ca.finance.yahoo.com/news/hudbay-annou...   \n",
       "7  https://ca.finance.yahoo.com/news/hudbay-host-...   \n",
       "8  https://ca.finance.yahoo.com/news/institutiona...   \n",
       "\n",
       "                                             content  \\\n",
       "0  Most readers would already be aware that Hudba...   \n",
       "1  HudBay Minerals (HBM) delivered earnings and r...   \n",
       "2  Figure 1: General Location of the Llaguen Proj...   \n",
       "3  TORONTO, Nov. 02, 2022 (GLOBE NEWSWIRE) -- Hud...   \n",
       "4  MP Materials Corp. (MP) doesn't possess the ri...   \n",
       "5  HudBay Minerals (HBM) doesn't possess the righ...   \n",
       "6  TORONTO, Oct. 13, 2022 (GLOBE NEWSWIRE) -- Hud...   \n",
       "7  TORONTO, Oct. 06, 2022 (GLOBE NEWSWIRE) -- Hud...   \n",
       "8  If you want to know who really controls Hudbay...   \n",
       "\n",
       "                                               image  \n",
       "0  https://s.yimg.com/uu/api/res/1.2/6i6i2YmC9jlI...  \n",
       "1  https://s.yimg.com/uu/api/res/1.2/E0X8OtP1N.eO...  \n",
       "2  https://s.yimg.com/uu/api/res/1.2/x.zCs4auA5v4...  \n",
       "3  https://s.yimg.com/uu/api/res/1.2/lKO0k3O7IQeV...  \n",
       "4  https://s.yimg.com/uu/api/res/1.2/kcRyCd4gFTHy...  \n",
       "5  https://s.yimg.com/uu/api/res/1.2/A6eDU7Slc_f2...  \n",
       "6  https://s.yimg.com/uu/api/res/1.2/lKO0k3O7IQeV...  \n",
       "7  https://s.yimg.com/uu/api/res/1.2/lKO0k3O7IQeV...  \n",
       "8  https://s.yimg.com/uu/api/res/1.2/6i6i2YmC9jlI...  "
      ]
     },
     "execution_count": 82,
     "metadata": {},
     "output_type": "execute_result"
    }
   ],
   "source": [
    "news_df"
   ]
  },
  {
   "cell_type": "code",
   "execution_count": null,
   "metadata": {},
   "outputs": [],
   "source": []
  },
  {
   "cell_type": "code",
   "execution_count": null,
   "metadata": {},
   "outputs": [],
   "source": []
  },
  {
   "cell_type": "code",
   "execution_count": null,
   "metadata": {},
   "outputs": [],
   "source": []
  },
  {
   "cell_type": "code",
   "execution_count": null,
   "metadata": {},
   "outputs": [],
   "source": []
  },
  {
   "cell_type": "code",
   "execution_count": null,
   "metadata": {},
   "outputs": [],
   "source": []
  }
 ],
 "metadata": {
  "kernelspec": {
   "display_name": "Python 3.9.13 64-bit",
   "language": "python",
   "name": "python3"
  },
  "language_info": {
   "codemirror_mode": {
    "name": "ipython",
    "version": 3
   },
   "file_extension": ".py",
   "mimetype": "text/x-python",
   "name": "python",
   "nbconvert_exporter": "python",
   "pygments_lexer": "ipython3",
   "version": "3.9.13"
  },
  "orig_nbformat": 4,
  "vscode": {
   "interpreter": {
    "hash": "11938c6bc6919ae2720b4d5011047913343b08a43b18698fd82dedb0d4417594"
   }
  }
 },
 "nbformat": 4,
 "nbformat_minor": 2
}
