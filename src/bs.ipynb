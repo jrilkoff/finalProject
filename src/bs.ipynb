{
 "cells": [
  {
   "cell_type": "code",
   "execution_count": 7,
   "metadata": {},
   "outputs": [],
   "source": [
    "from bs4 import BeautifulSoup as bs\n",
    "from urllib.parse import urlparse\n",
    "from urllib.request import Request, urlopen\n",
    "import urllib\n",
    "import re\n",
    "import requests\n",
    "import csv\n",
    "import pandas as pd\n",
    "from datetime import datetime, date\n",
    "import yfinance as yf"
   ]
  },
  {
   "cell_type": "markdown",
   "metadata": {},
   "source": [
    "## Website with directions\n",
    "https://blog.jovian.ai/web-scraping-yahoo-finance-using-python-7c4612fab70c"
   ]
  },
  {
   "cell_type": "markdown",
   "metadata": {},
   "source": [
    "### Main Yahoo Finance Webscraping"
   ]
  },
  {
   "cell_type": "code",
   "execution_count": 24,
   "metadata": {},
   "outputs": [],
   "source": [
    "def get_page(url):\n",
    "    \"\"\"Download a webpage and return a beautiful soup doc\"\"\"\n",
    "    \n",
    "    response = requests.get(url)\n",
    "    if not response.ok:\n",
    "        print('Status code:', response.status_code)\n",
    "        # raise Exception('Failed to load page {}'.format(url))\n",
    "    page_content = response.text\n",
    "    doc = bs(page_content, 'html.parser')\n",
    "    return doc"
   ]
  },
  {
   "cell_type": "code",
   "execution_count": 25,
   "metadata": {},
   "outputs": [],
   "source": [
    "def get_news_tags(doc):\n",
    "    \"\"\"Get the list of tags containing news information\"\"\"\n",
    "    \n",
    "    news_class = \"Ov(h) Pend(44px) Pstart(25px)\" ## class name of div tag \n",
    "    news_list  = doc.find_all('div', {'class': news_class})\n",
    "    return news_list"
   ]
  },
  {
   "cell_type": "code",
   "execution_count": 26,
   "metadata": {},
   "outputs": [],
   "source": [
    "def parse_news(news_tag):\n",
    "    \"\"\"Get the news data point and return dictionary\"\"\"\n",
    "    \n",
    "    base_url = 'https://ca.finance.yahoo.com'\n",
    "    news_source = news_tag.find('div').text #source\n",
    "    news_headline = news_tag.find('a').text #heading\n",
    "    news_url = news_tag.find('a')['href'] #link\n",
    "    return { 'source' : news_source,\n",
    "            'headline' : news_headline,\n",
    "            'url' : base_url + news_url\n",
    "           }"
   ]
  },
  {
   "cell_type": "code",
   "execution_count": 27,
   "metadata": {},
   "outputs": [],
   "source": [
    "def scrape_yahoo_news(ticker):\n",
    "    \"\"\"Get the yahoo finance market news and write them to CSV file \"\"\"\n",
    "    \n",
    "    yahoo_url = 'https://ca.finance.yahoo.com/quote/'\n",
    "    url = yahoo_url + ticker\n",
    "    \n",
    "    doc = get_page(url)\n",
    "    news_list = get_news_tags(doc)\n",
    "    news_data = [parse_news(news_tag) for news_tag in news_list]\n",
    "    news_df = pd.DataFrame(news_data)\n",
    "\n",
    "    return news_df "
   ]
  },
  {
   "cell_type": "markdown",
   "metadata": {},
   "source": [
    "### Individual Article Page Scraping Functions"
   ]
  },
  {
   "cell_type": "code",
   "execution_count": 18,
   "metadata": {},
   "outputs": [],
   "source": [
    "def parse_paragraphs(doc):\n",
    "    \"\"\"Get the list of tags containing news information\"\"\"\n",
    "    news_class = \"caas-body\" ## class name of div tag \n",
    "    news_list  = doc.find_all('div', {'class': news_class})\n",
    "    \n",
    "    return news_list"
   ]
  },
  {
   "cell_type": "code",
   "execution_count": 29,
   "metadata": {},
   "outputs": [],
   "source": [
    "def parse_news_article(news_tag):\n",
    "    print('-----------------')\n",
    "    table = news_tag[0].find_all('p')\n",
    "    para_list = []\n",
    "    body_string = ''\n",
    "    \n",
    "    for x in table:\n",
    "        para_list.append(x.text)\n",
    "\n",
    "    for x in para_list:\n",
    "        body_string += ' ' + x\n",
    "\n",
    "    body_string = body_string.replace(\"\\\"\", '')\n",
    "    \n",
    "    return body_string"
   ]
  },
  {
   "cell_type": "code",
   "execution_count": 20,
   "metadata": {},
   "outputs": [],
   "source": [
    "def get_article_date(url):\n",
    "    date_class = 'caas-attr-meta-time' ## class name of time stamp\n",
    "    doc = get_page(url)\n",
    "    date_stamp = doc.find_all('time', {'class': date_class})\n",
    "    date = date_stamp[0].get('datetime')\n",
    "    \n",
    "    return date"
   ]
  },
  {
   "cell_type": "code",
   "execution_count": 21,
   "metadata": {},
   "outputs": [],
   "source": [
    "def get_article_body(url):\n",
    "        \n",
    "    doc = get_page(url)\n",
    "    article = parse_paragraphs(doc)\n",
    "    article_body = parse_news_article(article)\n",
    "\n",
    "    return article_body"
   ]
  },
  {
   "cell_type": "code",
   "execution_count": 22,
   "metadata": {},
   "outputs": [],
   "source": [
    "def dataframe_prep(news_df):\n",
    "    news_df['body'] = news_df['url'][:2].apply(lambda x: get_article_body(x))\n",
    "    news_df['date'] = news_df['url'][:2].apply(lambda x: get_article_date(x))\n",
    "    news_df['date'] = pd.to_datetime(news_df['date'], format='%Y-%m-%dT%H:%M:%S.%fZ').dt.date\n",
    "    news_df[['prob_posi', 'prob_nega', 'prob_neut']] = float()\n",
    "    news_df['sentiment'] = int()\n",
    "\n",
    "    return news_df"
   ]
  },
  {
   "cell_type": "markdown",
   "metadata": {},
   "source": [
    "### Scrape Yahoo Finance, Individual Pages, Create Sentiment Columns"
   ]
  },
  {
   "cell_type": "code",
   "execution_count": 40,
   "metadata": {},
   "outputs": [],
   "source": [
    "def stock_price(ticker, start, end):\n",
    "    df = yf.download(\n",
    "        ticker, \n",
    "        start=start, \n",
    "        end=end, \n",
    "        progress=False\n",
    "    )\n",
    "\n",
    "    df.loc[df['Open'] > df['Close'], 'target'] = 0\n",
    "    df.loc[df['Open'] < df['Close'], 'target'] = 1\n",
    "    df.loc[df['Open'] == df['Close'], 'target'] = 0\n",
    "    df['target'] = df['target'].astype('int')\n",
    "\n",
    "    df = df.reset_index()\n",
    "    df['Date'] = pd.to_datetime(df['Date'], format='%Y-%m-%d').dt.date\n",
    "\n",
    "    return df"
   ]
  },
  {
   "cell_type": "code",
   "execution_count": 41,
   "metadata": {},
   "outputs": [],
   "source": [
    "def dataframe_price_sentiment(ticker, start, end):\n",
    "\n",
    "    df_price = stock_price(ticker, start, end)\n",
    "    df_news = scrape_yahoo_news(ticker)\n",
    "    df_prepped = dataframe_prep(df_news)\n",
    "\n",
    "    df_final = pd.merge(df_price, df_prepped, right_on='date', left_on='Date')\n",
    "\n",
    "    return df_final"
   ]
  },
  {
   "cell_type": "code",
   "execution_count": 42,
   "metadata": {},
   "outputs": [
    {
     "data": {
      "text/html": [
       "<div>\n",
       "<style scoped>\n",
       "    .dataframe tbody tr th:only-of-type {\n",
       "        vertical-align: middle;\n",
       "    }\n",
       "\n",
       "    .dataframe tbody tr th {\n",
       "        vertical-align: top;\n",
       "    }\n",
       "\n",
       "    .dataframe thead th {\n",
       "        text-align: right;\n",
       "    }\n",
       "</style>\n",
       "<table border=\"1\" class=\"dataframe\">\n",
       "  <thead>\n",
       "    <tr style=\"text-align: right;\">\n",
       "      <th></th>\n",
       "      <th>Date</th>\n",
       "      <th>Open</th>\n",
       "      <th>High</th>\n",
       "      <th>Low</th>\n",
       "      <th>Close</th>\n",
       "      <th>Adj Close</th>\n",
       "      <th>Volume</th>\n",
       "      <th>target</th>\n",
       "      <th>source</th>\n",
       "      <th>headline</th>\n",
       "      <th>url</th>\n",
       "      <th>body</th>\n",
       "      <th>date</th>\n",
       "      <th>prob_posi</th>\n",
       "      <th>prob_nega</th>\n",
       "      <th>prob_neut</th>\n",
       "      <th>sentiment</th>\n",
       "    </tr>\n",
       "  </thead>\n",
       "  <tbody>\n",
       "    <tr>\n",
       "      <th>0</th>\n",
       "      <td>2022-11-11</td>\n",
       "      <td>33.000000</td>\n",
       "      <td>34.849998</td>\n",
       "      <td>32.529999</td>\n",
       "      <td>33.560001</td>\n",
       "      <td>33.560001</td>\n",
       "      <td>4618400</td>\n",
       "      <td>1</td>\n",
       "      <td>Bloomberg</td>\n",
       "      <td>China Has Links to Dozens of Canadian Miners T...</td>\n",
       "      <td>https://ca.finance.yahoo.com/news/china-links-...</td>\n",
       "      <td>(Bloomberg) -- China has built up stakes in m...</td>\n",
       "      <td>2022-11-11</td>\n",
       "      <td>0.0</td>\n",
       "      <td>0.0</td>\n",
       "      <td>0.0</td>\n",
       "      <td>0</td>\n",
       "    </tr>\n",
       "    <tr>\n",
       "      <th>1</th>\n",
       "      <td>2022-11-22</td>\n",
       "      <td>30.790001</td>\n",
       "      <td>31.440001</td>\n",
       "      <td>30.059999</td>\n",
       "      <td>31.170000</td>\n",
       "      <td>31.170000</td>\n",
       "      <td>1707400</td>\n",
       "      <td>1</td>\n",
       "      <td>CNW Group</td>\n",
       "      <td>VOX ACQUIRES AUSTRALIAN GOLD ROYALTY OVER CARD...</td>\n",
       "      <td>https://ca.finance.yahoo.com/news/vox-acquires...</td>\n",
       "      <td>TORONTO, Nov. 22, 2022 /CNW/ - Vox Royalty Co...</td>\n",
       "      <td>2022-11-22</td>\n",
       "      <td>0.0</td>\n",
       "      <td>0.0</td>\n",
       "      <td>0.0</td>\n",
       "      <td>0</td>\n",
       "    </tr>\n",
       "  </tbody>\n",
       "</table>\n",
       "</div>"
      ],
      "text/plain": [
       "         Date       Open       High        Low      Close  Adj Close   Volume  \\\n",
       "0  2022-11-11  33.000000  34.849998  32.529999  33.560001  33.560001  4618400   \n",
       "1  2022-11-22  30.790001  31.440001  30.059999  31.170000  31.170000  1707400   \n",
       "\n",
       "   target     source                                           headline  \\\n",
       "0       1  Bloomberg  China Has Links to Dozens of Canadian Miners T...   \n",
       "1       1  CNW Group  VOX ACQUIRES AUSTRALIAN GOLD ROYALTY OVER CARD...   \n",
       "\n",
       "                                                 url  \\\n",
       "0  https://ca.finance.yahoo.com/news/china-links-...   \n",
       "1  https://ca.finance.yahoo.com/news/vox-acquires...   \n",
       "\n",
       "                                                body        date  prob_posi  \\\n",
       "0   (Bloomberg) -- China has built up stakes in m...  2022-11-11        0.0   \n",
       "1   TORONTO, Nov. 22, 2022 /CNW/ - Vox Royalty Co...  2022-11-22        0.0   \n",
       "\n",
       "   prob_nega  prob_neut  sentiment  \n",
       "0        0.0        0.0          0  \n",
       "1        0.0        0.0          0  "
      ]
     },
     "execution_count": 42,
     "metadata": {},
     "output_type": "execute_result"
    }
   ],
   "source": [
    "ticker = 'FM.TO'\n",
    "start = '2021-01-01'\n",
    "end = '2022-11-25'\n",
    "\n",
    "df = dataframe_price_sentiment(\n",
    "    ticker,\n",
    "    start,\n",
    "    end\n",
    ")\n",
    "\n",
    "df"
   ]
  },
  {
   "cell_type": "markdown",
   "metadata": {},
   "source": [
    "## NLP Work"
   ]
  },
  {
   "cell_type": "markdown",
   "metadata": {},
   "source": [
    "### Sentiment Analysis"
   ]
  },
  {
   "cell_type": "code",
   "execution_count": 43,
   "metadata": {},
   "outputs": [],
   "source": [
    "import finbert as fb"
   ]
  },
  {
   "cell_type": "code",
   "execution_count": 44,
   "metadata": {},
   "outputs": [],
   "source": [
    "def sentiment_applier(df):\n",
    "\n",
    "    proba_list = fb.sentiment_analysis(df, bert_model='finbert')\n",
    "    mean, sentiment, stacks = fb.get_mean_from_proba(proba_list)\n",
    "\n",
    "    return mean, sentiment"
   ]
  },
  {
   "cell_type": "code",
   "execution_count": 45,
   "metadata": {},
   "outputs": [],
   "source": [
    "def sentiment_poster(df):\n",
    "\n",
    "    sent_list = []\n",
    "    sent_list.append(df['body'].apply(lambda x: sentiment_applier(x)))\n",
    "    list2 = sent_list[0]\n",
    "\n",
    "    for n in range(len(list2)): \n",
    "        df.at[n, 'prob_posi'] = float(list2[n][0][0])\n",
    "        df.at[n, 'prob_nega'] = float(list2[n][0][1])\n",
    "        df.at[n, 'prob_neut'] = float(list2[n][0][2])\n",
    "        df.at[n, 'sentiment'] = int(list2[n][1])\n",
    "\n",
    "    return df"
   ]
  },
  {
   "cell_type": "code",
   "execution_count": 46,
   "metadata": {},
   "outputs": [],
   "source": [
    "# df_new = sentiment_poster(df)\n",
    "# df_new"
   ]
  },
  {
   "cell_type": "code",
   "execution_count": null,
   "metadata": {},
   "outputs": [],
   "source": []
  },
  {
   "cell_type": "markdown",
   "metadata": {},
   "source": [
    "## Test - Successful!"
   ]
  },
  {
   "cell_type": "code",
   "execution_count": 1,
   "metadata": {},
   "outputs": [],
   "source": [
    "import ws_yahoo as wsy\n",
    "import finbert as fb"
   ]
  },
  {
   "cell_type": "code",
   "execution_count": 2,
   "metadata": {},
   "outputs": [
    {
     "data": {
      "text/html": [
       "<div>\n",
       "<style scoped>\n",
       "    .dataframe tbody tr th:only-of-type {\n",
       "        vertical-align: middle;\n",
       "    }\n",
       "\n",
       "    .dataframe tbody tr th {\n",
       "        vertical-align: top;\n",
       "    }\n",
       "\n",
       "    .dataframe thead th {\n",
       "        text-align: right;\n",
       "    }\n",
       "</style>\n",
       "<table border=\"1\" class=\"dataframe\">\n",
       "  <thead>\n",
       "    <tr style=\"text-align: right;\">\n",
       "      <th></th>\n",
       "      <th>Date</th>\n",
       "      <th>Open</th>\n",
       "      <th>High</th>\n",
       "      <th>Low</th>\n",
       "      <th>Close</th>\n",
       "      <th>Adj Close</th>\n",
       "      <th>Volume</th>\n",
       "      <th>target</th>\n",
       "      <th>source</th>\n",
       "      <th>headline</th>\n",
       "      <th>url</th>\n",
       "      <th>body</th>\n",
       "      <th>date</th>\n",
       "      <th>prob_posi</th>\n",
       "      <th>prob_nega</th>\n",
       "      <th>prob_neut</th>\n",
       "      <th>sentiment</th>\n",
       "    </tr>\n",
       "  </thead>\n",
       "  <tbody>\n",
       "    <tr>\n",
       "      <th>0</th>\n",
       "      <td>2022-11-02</td>\n",
       "      <td>5.72</td>\n",
       "      <td>5.79</td>\n",
       "      <td>5.42</td>\n",
       "      <td>5.46</td>\n",
       "      <td>5.46</td>\n",
       "      <td>1919000</td>\n",
       "      <td>0</td>\n",
       "      <td>GlobeNewswire</td>\n",
       "      <td>Hudbay Provides Exploration Update and Announc...</td>\n",
       "      <td>https://ca.finance.yahoo.com/news/hudbay-provi...</td>\n",
       "      <td>Figure 1: General Location of the Llaguen Pro...</td>\n",
       "      <td>2022-11-02</td>\n",
       "      <td>0.0</td>\n",
       "      <td>0.0</td>\n",
       "      <td>0.0</td>\n",
       "      <td>0</td>\n",
       "    </tr>\n",
       "    <tr>\n",
       "      <th>1</th>\n",
       "      <td>2022-11-02</td>\n",
       "      <td>5.72</td>\n",
       "      <td>5.79</td>\n",
       "      <td>5.42</td>\n",
       "      <td>5.46</td>\n",
       "      <td>5.46</td>\n",
       "      <td>1919000</td>\n",
       "      <td>0</td>\n",
       "      <td>GlobeNewswire</td>\n",
       "      <td>Hudbay Announces Third Quarter 2022 Results</td>\n",
       "      <td>https://ca.finance.yahoo.com/news/hudbay-annou...</td>\n",
       "      <td>TORONTO, Nov. 02, 2022 (GLOBE NEWSWIRE) -- Hu...</td>\n",
       "      <td>2022-11-02</td>\n",
       "      <td>0.0</td>\n",
       "      <td>0.0</td>\n",
       "      <td>0.0</td>\n",
       "      <td>0</td>\n",
       "    </tr>\n",
       "    <tr>\n",
       "      <th>2</th>\n",
       "      <td>2022-11-03</td>\n",
       "      <td>5.24</td>\n",
       "      <td>5.93</td>\n",
       "      <td>5.24</td>\n",
       "      <td>5.87</td>\n",
       "      <td>5.87</td>\n",
       "      <td>2530200</td>\n",
       "      <td>1</td>\n",
       "      <td>Zacks</td>\n",
       "      <td>HudBay Minerals (HBM) Reports Q3 Loss, Tops Re...</td>\n",
       "      <td>https://ca.finance.yahoo.com/news/hudbay-miner...</td>\n",
       "      <td>HudBay Minerals (HBM) came out with a quarter...</td>\n",
       "      <td>2022-11-03</td>\n",
       "      <td>0.0</td>\n",
       "      <td>0.0</td>\n",
       "      <td>0.0</td>\n",
       "      <td>0</td>\n",
       "    </tr>\n",
       "    <tr>\n",
       "      <th>3</th>\n",
       "      <td>2022-11-11</td>\n",
       "      <td>7.30</td>\n",
       "      <td>7.43</td>\n",
       "      <td>7.16</td>\n",
       "      <td>7.27</td>\n",
       "      <td>7.27</td>\n",
       "      <td>1277800</td>\n",
       "      <td>0</td>\n",
       "      <td>Simply Wall St.</td>\n",
       "      <td>Hudbay Minerals Inc.'s (TSE:HBM) Financials Ar...</td>\n",
       "      <td>https://ca.finance.yahoo.com/news/hudbay-miner...</td>\n",
       "      <td>Most readers would already be aware that Hudb...</td>\n",
       "      <td>2022-11-11</td>\n",
       "      <td>0.0</td>\n",
       "      <td>0.0</td>\n",
       "      <td>0.0</td>\n",
       "      <td>0</td>\n",
       "    </tr>\n",
       "  </tbody>\n",
       "</table>\n",
       "</div>"
      ],
      "text/plain": [
       "         Date  Open  High   Low  Close  Adj Close   Volume  target  \\\n",
       "0  2022-11-02  5.72  5.79  5.42   5.46       5.46  1919000       0   \n",
       "1  2022-11-02  5.72  5.79  5.42   5.46       5.46  1919000       0   \n",
       "2  2022-11-03  5.24  5.93  5.24   5.87       5.87  2530200       1   \n",
       "3  2022-11-11  7.30  7.43  7.16   7.27       7.27  1277800       0   \n",
       "\n",
       "            source                                           headline  \\\n",
       "0    GlobeNewswire  Hudbay Provides Exploration Update and Announc...   \n",
       "1    GlobeNewswire        Hudbay Announces Third Quarter 2022 Results   \n",
       "2            Zacks  HudBay Minerals (HBM) Reports Q3 Loss, Tops Re...   \n",
       "3  Simply Wall St.  Hudbay Minerals Inc.'s (TSE:HBM) Financials Ar...   \n",
       "\n",
       "                                                 url  \\\n",
       "0  https://ca.finance.yahoo.com/news/hudbay-provi...   \n",
       "1  https://ca.finance.yahoo.com/news/hudbay-annou...   \n",
       "2  https://ca.finance.yahoo.com/news/hudbay-miner...   \n",
       "3  https://ca.finance.yahoo.com/news/hudbay-miner...   \n",
       "\n",
       "                                                body        date  prob_posi  \\\n",
       "0   Figure 1: General Location of the Llaguen Pro...  2022-11-02        0.0   \n",
       "1   TORONTO, Nov. 02, 2022 (GLOBE NEWSWIRE) -- Hu...  2022-11-02        0.0   \n",
       "2   HudBay Minerals (HBM) came out with a quarter...  2022-11-03        0.0   \n",
       "3   Most readers would already be aware that Hudb...  2022-11-11        0.0   \n",
       "\n",
       "   prob_nega  prob_neut  sentiment  \n",
       "0        0.0        0.0          0  \n",
       "1        0.0        0.0          0  \n",
       "2        0.0        0.0          0  \n",
       "3        0.0        0.0          0  "
      ]
     },
     "execution_count": 2,
     "metadata": {},
     "output_type": "execute_result"
    }
   ],
   "source": [
    "ticker = 'HBM' #.TO\n",
    "start = '2021-01-01'\n",
    "end = '2022-11-25'\n",
    "\n",
    "df = wsy.dataframe_price_sentiment(\n",
    "    ticker,\n",
    "    start,\n",
    "    end\n",
    ")\n",
    "\n",
    "df"
   ]
  },
  {
   "cell_type": "code",
   "execution_count": 3,
   "metadata": {},
   "outputs": [
    {
     "name": "stderr",
     "output_type": "stream",
     "text": [
      "Token indices sequence length is longer than the specified maximum sequence length for this model (10848 > 512). Running this sequence through the model will result in indexing errors\n",
      "C:\\Users\\jrilk\\AppData\\Roaming\\Python\\Python39\\site-packages\\torch\\_tensor.py:760: UserWarning: non-inplace resize is deprecated\n",
      "  warnings.warn(\"non-inplace resize is deprecated\")\n",
      "Token indices sequence length is longer than the specified maximum sequence length for this model (11902 > 512). Running this sequence through the model will result in indexing errors\n",
      "Token indices sequence length is longer than the specified maximum sequence length for this model (882 > 512). Running this sequence through the model will result in indexing errors\n",
      "Token indices sequence length is longer than the specified maximum sequence length for this model (1123 > 512). Running this sequence through the model will result in indexing errors\n"
     ]
    }
   ],
   "source": [
    "df_final = fb.sentiment_poster(df)"
   ]
  },
  {
   "cell_type": "code",
   "execution_count": 4,
   "metadata": {},
   "outputs": [
    {
     "data": {
      "text/html": [
       "<div>\n",
       "<style scoped>\n",
       "    .dataframe tbody tr th:only-of-type {\n",
       "        vertical-align: middle;\n",
       "    }\n",
       "\n",
       "    .dataframe tbody tr th {\n",
       "        vertical-align: top;\n",
       "    }\n",
       "\n",
       "    .dataframe thead th {\n",
       "        text-align: right;\n",
       "    }\n",
       "</style>\n",
       "<table border=\"1\" class=\"dataframe\">\n",
       "  <thead>\n",
       "    <tr style=\"text-align: right;\">\n",
       "      <th></th>\n",
       "      <th>Date</th>\n",
       "      <th>Open</th>\n",
       "      <th>High</th>\n",
       "      <th>Low</th>\n",
       "      <th>Close</th>\n",
       "      <th>Adj Close</th>\n",
       "      <th>Volume</th>\n",
       "      <th>target</th>\n",
       "      <th>source</th>\n",
       "      <th>headline</th>\n",
       "      <th>url</th>\n",
       "      <th>body</th>\n",
       "      <th>date</th>\n",
       "      <th>prob_posi</th>\n",
       "      <th>prob_nega</th>\n",
       "      <th>prob_neut</th>\n",
       "      <th>sentiment</th>\n",
       "    </tr>\n",
       "  </thead>\n",
       "  <tbody>\n",
       "    <tr>\n",
       "      <th>0</th>\n",
       "      <td>2022-11-02</td>\n",
       "      <td>5.72</td>\n",
       "      <td>5.79</td>\n",
       "      <td>5.42</td>\n",
       "      <td>5.46</td>\n",
       "      <td>5.46</td>\n",
       "      <td>1919000</td>\n",
       "      <td>0</td>\n",
       "      <td>GlobeNewswire</td>\n",
       "      <td>Hudbay Provides Exploration Update and Announc...</td>\n",
       "      <td>https://ca.finance.yahoo.com/news/hudbay-provi...</td>\n",
       "      <td>Figure 1: General Location of the Llaguen Pro...</td>\n",
       "      <td>2022-11-02</td>\n",
       "      <td>0.096997</td>\n",
       "      <td>0.043384</td>\n",
       "      <td>0.859619</td>\n",
       "      <td>2</td>\n",
       "    </tr>\n",
       "    <tr>\n",
       "      <th>1</th>\n",
       "      <td>2022-11-02</td>\n",
       "      <td>5.72</td>\n",
       "      <td>5.79</td>\n",
       "      <td>5.42</td>\n",
       "      <td>5.46</td>\n",
       "      <td>5.46</td>\n",
       "      <td>1919000</td>\n",
       "      <td>0</td>\n",
       "      <td>GlobeNewswire</td>\n",
       "      <td>Hudbay Announces Third Quarter 2022 Results</td>\n",
       "      <td>https://ca.finance.yahoo.com/news/hudbay-annou...</td>\n",
       "      <td>TORONTO, Nov. 02, 2022 (GLOBE NEWSWIRE) -- Hu...</td>\n",
       "      <td>2022-11-02</td>\n",
       "      <td>0.186034</td>\n",
       "      <td>0.290473</td>\n",
       "      <td>0.523494</td>\n",
       "      <td>2</td>\n",
       "    </tr>\n",
       "    <tr>\n",
       "      <th>2</th>\n",
       "      <td>2022-11-03</td>\n",
       "      <td>5.24</td>\n",
       "      <td>5.93</td>\n",
       "      <td>5.24</td>\n",
       "      <td>5.87</td>\n",
       "      <td>5.87</td>\n",
       "      <td>2530200</td>\n",
       "      <td>1</td>\n",
       "      <td>Zacks</td>\n",
       "      <td>HudBay Minerals (HBM) Reports Q3 Loss, Tops Re...</td>\n",
       "      <td>https://ca.finance.yahoo.com/news/hudbay-miner...</td>\n",
       "      <td>HudBay Minerals (HBM) came out with a quarter...</td>\n",
       "      <td>2022-11-03</td>\n",
       "      <td>0.101192</td>\n",
       "      <td>0.266295</td>\n",
       "      <td>0.632513</td>\n",
       "      <td>2</td>\n",
       "    </tr>\n",
       "    <tr>\n",
       "      <th>3</th>\n",
       "      <td>2022-11-11</td>\n",
       "      <td>7.30</td>\n",
       "      <td>7.43</td>\n",
       "      <td>7.16</td>\n",
       "      <td>7.27</td>\n",
       "      <td>7.27</td>\n",
       "      <td>1277800</td>\n",
       "      <td>0</td>\n",
       "      <td>Simply Wall St.</td>\n",
       "      <td>Hudbay Minerals Inc.'s (TSE:HBM) Financials Ar...</td>\n",
       "      <td>https://ca.finance.yahoo.com/news/hudbay-miner...</td>\n",
       "      <td>Most readers would already be aware that Hudb...</td>\n",
       "      <td>2022-11-11</td>\n",
       "      <td>0.053361</td>\n",
       "      <td>0.558811</td>\n",
       "      <td>0.387828</td>\n",
       "      <td>1</td>\n",
       "    </tr>\n",
       "  </tbody>\n",
       "</table>\n",
       "</div>"
      ],
      "text/plain": [
       "         Date  Open  High   Low  Close  Adj Close   Volume  target  \\\n",
       "0  2022-11-02  5.72  5.79  5.42   5.46       5.46  1919000       0   \n",
       "1  2022-11-02  5.72  5.79  5.42   5.46       5.46  1919000       0   \n",
       "2  2022-11-03  5.24  5.93  5.24   5.87       5.87  2530200       1   \n",
       "3  2022-11-11  7.30  7.43  7.16   7.27       7.27  1277800       0   \n",
       "\n",
       "            source                                           headline  \\\n",
       "0    GlobeNewswire  Hudbay Provides Exploration Update and Announc...   \n",
       "1    GlobeNewswire        Hudbay Announces Third Quarter 2022 Results   \n",
       "2            Zacks  HudBay Minerals (HBM) Reports Q3 Loss, Tops Re...   \n",
       "3  Simply Wall St.  Hudbay Minerals Inc.'s (TSE:HBM) Financials Ar...   \n",
       "\n",
       "                                                 url  \\\n",
       "0  https://ca.finance.yahoo.com/news/hudbay-provi...   \n",
       "1  https://ca.finance.yahoo.com/news/hudbay-annou...   \n",
       "2  https://ca.finance.yahoo.com/news/hudbay-miner...   \n",
       "3  https://ca.finance.yahoo.com/news/hudbay-miner...   \n",
       "\n",
       "                                                body        date  prob_posi  \\\n",
       "0   Figure 1: General Location of the Llaguen Pro...  2022-11-02   0.096997   \n",
       "1   TORONTO, Nov. 02, 2022 (GLOBE NEWSWIRE) -- Hu...  2022-11-02   0.186034   \n",
       "2   HudBay Minerals (HBM) came out with a quarter...  2022-11-03   0.101192   \n",
       "3   Most readers would already be aware that Hudb...  2022-11-11   0.053361   \n",
       "\n",
       "   prob_nega  prob_neut  sentiment  \n",
       "0   0.043384   0.859619          2  \n",
       "1   0.290473   0.523494          2  \n",
       "2   0.266295   0.632513          2  \n",
       "3   0.558811   0.387828          1  "
      ]
     },
     "execution_count": 4,
     "metadata": {},
     "output_type": "execute_result"
    }
   ],
   "source": [
    "df_final"
   ]
  },
  {
   "cell_type": "code",
   "execution_count": null,
   "metadata": {},
   "outputs": [],
   "source": []
  },
  {
   "cell_type": "code",
   "execution_count": 10,
   "metadata": {},
   "outputs": [],
   "source": [
    "def fv_get_page(ticker):\n",
    "    \"\"\"Download a webpage and return a beautiful soup doc\"\"\"\n",
    "\n",
    "    headers = {\n",
    "    'User-Agent': 'Mozilla/5.0',\n",
    "    \"Accept\": \"text/html,application/xhtml+xml,application/xml;q=0.9,image/webp,*/*;q=0.8\"}\n",
    "\n",
    "    base_url = f'https://finviz.com/quote.ashx?t={ticker}&p=d'\n",
    "    html = requests.get(base_url, headers=headers)\n",
    "    doc = bs(html.content, \"html.parser\")\n",
    "    \n",
    "    # response = requests.get(url)\n",
    "    # if not response.ok:\n",
    "    #     print('Status code:', response.status_code)\n",
    "    #     # raise Exception('Failed to load page {}'.format(url))\n",
    "    # page_content = response.text\n",
    "    # doc = bs(page_content, 'html.parser')\n",
    "       \n",
    "    return doc"
   ]
  },
  {
   "cell_type": "code",
   "execution_count": 11,
   "metadata": {},
   "outputs": [],
   "source": [
    "def fv_get_news_tags(doc):\n",
    "    \"\"\"Get the list of tags containing news information\"\"\"\n",
    "    \n",
    "    # news_class = \"Ov(h) Pend(44px) Pstart(25px)\" ## class name of div tag \n",
    "    news_list  = doc.find('table', {'id': 'news-table'}) #attrs=\n",
    "    return news_list"
   ]
  },
  {
   "cell_type": "code",
   "execution_count": 12,
   "metadata": {},
   "outputs": [],
   "source": [
    "def fv_parse_news(news_tag):\n",
    "    \"\"\"Get the news data point and return dictionary\"\"\"\n",
    "\n",
    "    news_source = news_tag.find('div').text #source\n",
    "    news_headline = news_tag.find('a').text #heading\n",
    "    news_url = news_tag.find('a')['href'] #link\n",
    "    \n",
    "    # base_url = 'https://ca.finance.yahoo.com'\n",
    "    # news_source = news_tag.find('div', {'class': 'news-link-left'}).text #source\n",
    "    # news_headline = news_tag.find('a') #heading .text\n",
    "    \n",
    "    # if news_headline == -1:\n",
    "    #     print('yes')\n",
    "\n",
    "    # news_headline = news_tag.find('div', {'class': 'news-link-left'})\n",
    "    # print(news_headline)\n",
    "    # news_url = news_tag.find('a')\n",
    "    # news = news_url.find('href') #link ['href']\n",
    "    # print(news)\n",
    "    return {# 'source' : news_source,\n",
    "            'headline' : news_headline,\n",
    "            'url' : news_url # base_url + \n",
    "           }"
   ]
  },
  {
   "cell_type": "code",
   "execution_count": 36,
   "metadata": {},
   "outputs": [],
   "source": [
    "def fv_get_article_body(url):\n",
    "        \n",
    "    doc = fv_get_page(url)\n",
    "    article = parse_paragraphs(doc)\n",
    "    article_body = parse_news_article(article)\n",
    "\n",
    "    return article_body"
   ]
  },
  {
   "cell_type": "code",
   "execution_count": 13,
   "metadata": {},
   "outputs": [],
   "source": [
    "def scrape_finviz2(ticker):\n",
    "    \"\"\"Get the yahoo finance market news and write them to CSV file \"\"\"\n",
    "    \n",
    "    finviz_url = f'https://finviz.com/quote.ashx?t={ticker}&p=d'\n",
    "    url = finviz_url + ticker\n",
    "    \n",
    "    doc = get_page(url)\n",
    "    news_list = get_news_tags(doc)\n",
    "    news_data = [parse_news(news_tag) for news_tag in news_list]\n",
    "    news_df = pd.DataFrame(news_data)\n",
    "\n",
    "    return news_df "
   ]
  },
  {
   "cell_type": "code",
   "execution_count": 48,
   "metadata": {},
   "outputs": [],
   "source": [
    "def fv_dataframe(news_list):\n",
    "\n",
    "    url_list = news_list.find_all('a')\n",
    "\n",
    "    df_finviz = pd.DataFrame()\n",
    "    df_finviz[['url', 'headline', 'source']] = \"\"\n",
    "\n",
    "    for n in range(len(url_list)):\n",
    "            url = url_list[n]['href']\n",
    "            headline = url_list[n].text\n",
    "            if 'finance.yahoo' in url:\n",
    "                df_finviz.at[n, 'url'] = url\n",
    "                df_finviz.at[n, 'headline'] = headline\n",
    "            else:\n",
    "                pass\n",
    "\n",
    "    return df_finviz\n"
   ]
  },
  {
   "cell_type": "code",
   "execution_count": null,
   "metadata": {},
   "outputs": [],
   "source": [
    "def get_article_date(url):\n",
    "    date_class = 'caas-attr-meta-time' ## class name of time stamp\n",
    "    doc = get_page(url)\n",
    "    date_stamp = doc.find_all('time', {'class': date_class})\n",
    "    date = date_stamp[0].get('datetime')\n",
    "    \n",
    "    return date"
   ]
  },
  {
   "cell_type": "code",
   "execution_count": null,
   "metadata": {},
   "outputs": [],
   "source": [
    "def get_article_body(url):\n",
    "        \n",
    "    doc = get_page(url)\n",
    "    article = parse_paragraphs(doc)\n",
    "    article_body = parse_news_article(article)\n",
    "\n",
    "    return article_body"
   ]
  },
  {
   "cell_type": "code",
   "execution_count": null,
   "metadata": {},
   "outputs": [],
   "source": [
    "def dataframe_prep(news_df):\n",
    "    news_df['body'] = news_df['url'][:4].apply(lambda x: get_article_body(x))\n",
    "    news_df['date'] = news_df['url'][:4].apply(lambda x: get_article_date(x))\n",
    "    news_df['date'] = pd.to_datetime(news_df['date'], format='%Y-%m-%dT%H:%M:%S.%fZ').dt.date\n",
    "    news_df[['prob_posi', 'prob_nega', 'prob_neut']] = float()\n",
    "    news_df['sentiment'] = int()\n",
    "\n",
    "    return news_df"
   ]
  },
  {
   "cell_type": "markdown",
   "metadata": {},
   "source": [
    "#### Working with FinViz scraping"
   ]
  },
  {
   "cell_type": "code",
   "execution_count": 66,
   "metadata": {},
   "outputs": [
    {
     "name": "stderr",
     "output_type": "stream",
     "text": [
      "C:\\Users\\jrilk\\AppData\\Local\\Temp\\ipykernel_23548\\776772620.py:2: FutureWarning: The behavior of `series[i:j]` with an integer-dtype index is deprecated. In a future version, this will be treated as *label-based* indexing, consistent with e.g. `series[i]` lookups. To retain the old behavior, use `series.iloc[i:j]`. To get the future behavior, use `series.loc[i:j]`.\n",
      "  news_df['body'] = news_df['url'][:4].apply(lambda x: get_article_body(x))\n"
     ]
    },
    {
     "name": "stdout",
     "output_type": "stream",
     "text": [
      "-----------------\n",
      "-----------------\n",
      "-----------------\n",
      "-----------------\n"
     ]
    },
    {
     "name": "stderr",
     "output_type": "stream",
     "text": [
      "C:\\Users\\jrilk\\AppData\\Local\\Temp\\ipykernel_23548\\776772620.py:3: FutureWarning: The behavior of `series[i:j]` with an integer-dtype index is deprecated. In a future version, this will be treated as *label-based* indexing, consistent with e.g. `series[i]` lookups. To retain the old behavior, use `series.iloc[i:j]`. To get the future behavior, use `series.loc[i:j]`.\n",
      "  news_df['date'] = news_df['url'][:4].apply(lambda x: get_article_date(x))\n"
     ]
    }
   ],
   "source": [
    "doc = fv_get_page('HBM')\n",
    "news_list = fv_get_news_tags(doc)\n",
    "df_fv = fv_dataframe(news_list)\n",
    "df_final = dataframe_prep(df_fv)"
   ]
  },
  {
   "cell_type": "code",
   "execution_count": 70,
   "metadata": {},
   "outputs": [
    {
     "name": "stderr",
     "output_type": "stream",
     "text": [
      "Token indices sequence length is longer than the specified maximum sequence length for this model (1123 > 512). Running this sequence through the model will result in indexing errors\n",
      "C:\\Users\\jrilk\\AppData\\Roaming\\Python\\Python39\\site-packages\\torch\\_tensor.py:760: UserWarning: non-inplace resize is deprecated\n",
      "  warnings.warn(\"non-inplace resize is deprecated\")\n",
      "Token indices sequence length is longer than the specified maximum sequence length for this model (2323 > 512). Running this sequence through the model will result in indexing errors\n",
      "Token indices sequence length is longer than the specified maximum sequence length for this model (882 > 512). Running this sequence through the model will result in indexing errors\n",
      "Token indices sequence length is longer than the specified maximum sequence length for this model (10848 > 512). Running this sequence through the model will result in indexing errors\n"
     ]
    }
   ],
   "source": [
    "df_fv_final = fb.sentiment_poster(df_final[:4])"
   ]
  },
  {
   "cell_type": "code",
   "execution_count": 72,
   "metadata": {},
   "outputs": [
    {
     "data": {
      "text/html": [
       "<div>\n",
       "<style scoped>\n",
       "    .dataframe tbody tr th:only-of-type {\n",
       "        vertical-align: middle;\n",
       "    }\n",
       "\n",
       "    .dataframe tbody tr th {\n",
       "        vertical-align: top;\n",
       "    }\n",
       "\n",
       "    .dataframe thead th {\n",
       "        text-align: right;\n",
       "    }\n",
       "</style>\n",
       "<table border=\"1\" class=\"dataframe\">\n",
       "  <thead>\n",
       "    <tr style=\"text-align: right;\">\n",
       "      <th></th>\n",
       "      <th>url</th>\n",
       "      <th>headline</th>\n",
       "      <th>body</th>\n",
       "      <th>date</th>\n",
       "      <th>prob_posi</th>\n",
       "      <th>prob_nega</th>\n",
       "      <th>prob_neut</th>\n",
       "      <th>sentiment</th>\n",
       "    </tr>\n",
       "  </thead>\n",
       "  <tbody>\n",
       "    <tr>\n",
       "      <th>0</th>\n",
       "      <td>https://finance.yahoo.com/news/hudbay-minerals...</td>\n",
       "      <td>Hudbay Minerals Inc.'s (TSE:HBM) Financials Ar...</td>\n",
       "      <td>Most readers would already be aware that Hudb...</td>\n",
       "      <td>2022-11-11</td>\n",
       "      <td>0.053361</td>\n",
       "      <td>0.558811</td>\n",
       "      <td>0.387828</td>\n",
       "      <td>1</td>\n",
       "    </tr>\n",
       "    <tr>\n",
       "      <th>1</th>\n",
       "      <td>https://finance.yahoo.com/news/10-best-copper-...</td>\n",
       "      <td>10 Best Copper Stocks to Buy Now</td>\n",
       "      <td>In this article, we discuss the 10 best coppe...</td>\n",
       "      <td>2022-11-08</td>\n",
       "      <td>0.396365</td>\n",
       "      <td>0.232585</td>\n",
       "      <td>0.371050</td>\n",
       "      <td>0</td>\n",
       "    </tr>\n",
       "    <tr>\n",
       "      <th>2</th>\n",
       "      <td>https://finance.yahoo.com/news/hudbay-minerals...</td>\n",
       "      <td>HudBay Minerals (HBM) Reports Q3 Loss, Tops Re...</td>\n",
       "      <td>HudBay Minerals (HBM) came out with a quarter...</td>\n",
       "      <td>2022-11-03</td>\n",
       "      <td>0.101192</td>\n",
       "      <td>0.266295</td>\n",
       "      <td>0.632513</td>\n",
       "      <td>2</td>\n",
       "    </tr>\n",
       "    <tr>\n",
       "      <th>3</th>\n",
       "      <td>https://finance.yahoo.com/news/hudbay-provides...</td>\n",
       "      <td>Hudbay Provides Exploration Update and Announc...</td>\n",
       "      <td>Figure 1: General Location of the Llaguen Pro...</td>\n",
       "      <td>2022-11-02</td>\n",
       "      <td>0.096997</td>\n",
       "      <td>0.043384</td>\n",
       "      <td>0.859619</td>\n",
       "      <td>2</td>\n",
       "    </tr>\n",
       "  </tbody>\n",
       "</table>\n",
       "</div>"
      ],
      "text/plain": [
       "                                                 url  \\\n",
       "0  https://finance.yahoo.com/news/hudbay-minerals...   \n",
       "1  https://finance.yahoo.com/news/10-best-copper-...   \n",
       "2  https://finance.yahoo.com/news/hudbay-minerals...   \n",
       "3  https://finance.yahoo.com/news/hudbay-provides...   \n",
       "\n",
       "                                            headline  \\\n",
       "0  Hudbay Minerals Inc.'s (TSE:HBM) Financials Ar...   \n",
       "1                   10 Best Copper Stocks to Buy Now   \n",
       "2  HudBay Minerals (HBM) Reports Q3 Loss, Tops Re...   \n",
       "3  Hudbay Provides Exploration Update and Announc...   \n",
       "\n",
       "                                                body        date  prob_posi  \\\n",
       "0   Most readers would already be aware that Hudb...  2022-11-11   0.053361   \n",
       "1   In this article, we discuss the 10 best coppe...  2022-11-08   0.396365   \n",
       "2   HudBay Minerals (HBM) came out with a quarter...  2022-11-03   0.101192   \n",
       "3   Figure 1: General Location of the Llaguen Pro...  2022-11-02   0.096997   \n",
       "\n",
       "   prob_nega  prob_neut  sentiment  \n",
       "0   0.558811   0.387828          1  \n",
       "1   0.232585   0.371050          0  \n",
       "2   0.266295   0.632513          2  \n",
       "3   0.043384   0.859619          2  "
      ]
     },
     "execution_count": 72,
     "metadata": {},
     "output_type": "execute_result"
    }
   ],
   "source": [
    "df_fv_final"
   ]
  },
  {
   "cell_type": "code",
   "execution_count": null,
   "metadata": {},
   "outputs": [],
   "source": []
  },
  {
   "cell_type": "code",
   "execution_count": null,
   "metadata": {},
   "outputs": [],
   "source": []
  },
  {
   "cell_type": "code",
   "execution_count": null,
   "metadata": {},
   "outputs": [],
   "source": []
  }
 ],
 "metadata": {
  "kernelspec": {
   "display_name": "Python 3.9.13 64-bit",
   "language": "python",
   "name": "python3"
  },
  "language_info": {
   "codemirror_mode": {
    "name": "ipython",
    "version": 3
   },
   "file_extension": ".py",
   "mimetype": "text/x-python",
   "name": "python",
   "nbconvert_exporter": "python",
   "pygments_lexer": "ipython3",
   "version": "3.9.13"
  },
  "orig_nbformat": 4,
  "vscode": {
   "interpreter": {
    "hash": "11938c6bc6919ae2720b4d5011047913343b08a43b18698fd82dedb0d4417594"
   }
  }
 },
 "nbformat": 4,
 "nbformat_minor": 2
}
