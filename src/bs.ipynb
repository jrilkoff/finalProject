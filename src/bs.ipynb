{
 "cells": [
  {
   "cell_type": "code",
   "execution_count": 1,
   "metadata": {},
   "outputs": [],
   "source": [
    "from bs4 import BeautifulSoup as bs\n",
    "from urllib.parse import urlparse\n",
    "from urllib.request import Request, urlopen\n",
    "import urllib\n",
    "import re\n",
    "import requests\n",
    "import csv\n",
    "import pandas as pd\n",
    "from datetime import datetime, date\n",
    "import yfinance as yf"
   ]
  },
  {
   "cell_type": "markdown",
   "metadata": {},
   "source": [
    "## Website with directions\n",
    "https://blog.jovian.ai/web-scraping-yahoo-finance-using-python-7c4612fab70c"
   ]
  },
  {
   "cell_type": "markdown",
   "metadata": {},
   "source": [
    "### Main Yahoo Finance Webscraping"
   ]
  },
  {
   "cell_type": "code",
   "execution_count": 50,
   "metadata": {},
   "outputs": [],
   "source": [
    "def get_page(url):\n",
    "    \"\"\"Download a webpage and return a beautiful soup doc\"\"\"\n",
    "\n",
    "    headers = {\n",
    "    'authority': 'www.spot.im',\n",
    "    'accept': 'application/json',\n",
    "    'accept-language': 'en-US,en;q=0.9',\n",
    "    'content-type': 'application/json',\n",
    "    # Requests sorts cookies= alphabetically\n",
    "    'cookie': 'device_uuid=80e01093-d9cb-4199-9a8d-5302402b793a; access_token=eyJhbGciOiJIUzI1NiIsInR5cCI6IkpXVCJ9.eyJlbWFpbCI6IiIsInZlcmlmaWVkIjpmYWxzZSwidXNlcl9pZCI6InVfS2tRM2pYV1lDN3JLIiwiZGlzcGxheV9uYW1lIjoiT3JhbmdlQ29uZSIsInVzZXJfbmFtZSI6Ik9yYW5nZUNvbmUiLCJyZWdpc3RlcmVkIjpmYWxzZSwiaW1hZ2VfaWQiOiIjT3JhbmdlLUNvbmUiLCJyb2xlcyI6W10sInNzb19kYXRhIjpudWxsLCJwcm92aWRlcnMiOm51bGwsInJlcHV0YXRpb24iOnt9LCJzcG90X2lkIjoic3BfUmJhOWFGcEciLCJsYXN0X2NoZWNrIjoxNjY5NzU3MjQ2LCJ2ZXJzaW9uIjo0LCJ4LXNwb3RpbS10b2tlbiI6IjAxMjIxMTI5ZXRSQzFMLjUxZjQzNDEwMWE3NTQ3YzdmOGIxYTE3NDIxMTg3MTA1ZDZiNTY0YjM5MDhkM2ViNTIzZmU5M2FiMGNjYWNiZjAiLCJwZXJtaXNzaW9ucyI6bnVsbCwic3BvdGltLWRldmljZS12MiI6ImRfVzMwRURPVFZkcUpjSjdBTzVpT3YiLCJuZXR3b3JrIjp7Im5ldHdvcmtfaWQiOiJuZXRfeWFob28iLCJuZXR3b3JrX25hbWUiOiJ5YWhvbyIsIm5ldHdvcmtfaW1hZ2VfaWQiOiI5ZDAwMWIwMTMxMzIyYTBiMmFmYWM1MjYyMGU3MzI4MSIsIm5ldHdvcmtfY29sb3IiOiIifSwic3BvdF9uYW1lIjoiIiwiZG9tYWluIjoiIiwicm9sZXNfbnVtYmVyIjowLCJ0ZW1wX3VzZXIiOmZhbHNlLCJleHAiOjE2Njk3NjA4NDYsInN1YiI6InVfS2tRM2pYV1lDN3JLIn0.u-U5dUwDE5pGhfMtOgju8_mD6vnJW2tgb8iOB3jCy_k; spotim-device-v2=d_W30EDOTVdqJcJ7AO5iOv',\n",
    "    'origin': 'https://openweb.jac.yahoosandbox.com',\n",
    "    'referer': 'https://openweb.jac.yahoosandbox.com/0.8.1/safeframe.html',\n",
    "    'sec-ch-ua': '\"Microsoft Edge\";v=\"107\", \"Chromium\";v=\"107\", \"Not=A?Brand\";v=\"24\"',\n",
    "    'sec-ch-ua-mobile': '?0',\n",
    "    'sec-ch-ua-platform': '\"Windows\"',\n",
    "    'sec-fetch-dest': 'empty',\n",
    "    'sec-fetch-mode': 'cors',\n",
    "    'sec-fetch-site': 'cross-site',\n",
    "    'user-agent': 'Mozilla/5.0 (Windows NT 10.0; Win64; x64) AppleWebKit/537.36 (KHTML, like Gecko) Chrome/107.0.0.0 Safari/537.36 Edg/107.0.1418.56',\n",
    "    'x-spotim-device-uuid': '80e01093-d9cb-4199-9a8d-5302402b793a',\n",
    "    'x-spotim-page-view-id': '343b3bd3-f548-46c3-935e-30e483be67c2',\n",
    "    'x-spotim-spotid': 'sp_Rba9aFpG',\n",
    "    'x-spotim-token': '01221129etRC1L.51f434101a7547c7f8b1a17421187105d6b564b3908d3eb523fe93ab0ccacbf0',\n",
    "    }\n",
    "    \n",
    "    response = requests.get(url, headers=headers)\n",
    "    \n",
    "    if not response.ok:\n",
    "        print('Status code - get_page:', response.status_code)\n",
    "        doc = \"\"\n",
    "        # raise Exception('Failed to load page {}'.format(url))\n",
    "    else:\n",
    "        page_content = response.text\n",
    "        doc = bs(page_content, 'html.parser')\n",
    "\n",
    "    return doc\n"
   ]
  },
  {
   "cell_type": "code",
   "execution_count": 51,
   "metadata": {},
   "outputs": [],
   "source": [
    "def get_news_tags(doc):\n",
    "    \"\"\"Get the list of tags containing news information\"\"\"\n",
    "    \n",
    "    news_class = \"Ov(h) Pend(44px) Pstart(25px)\" ## class name of div tag \n",
    "    news_list  = doc.find_all('div', {'class': news_class})\n",
    "    return news_list"
   ]
  },
  {
   "cell_type": "code",
   "execution_count": 52,
   "metadata": {},
   "outputs": [],
   "source": [
    "def parse_news(news_tag):\n",
    "    \"\"\"Get the news data point and return dictionary\"\"\"\n",
    "    \n",
    "    base_url = 'https://ca.finance.yahoo.com'\n",
    "    news_source = news_tag.find('div').text #source\n",
    "    news_headline = news_tag.find('a').text #heading\n",
    "    news_url = news_tag.find('a')['href'] #link\n",
    "    return { 'source' : news_source,\n",
    "            'headline' : news_headline,\n",
    "            'url' : base_url + news_url\n",
    "           }"
   ]
  },
  {
   "cell_type": "code",
   "execution_count": 53,
   "metadata": {},
   "outputs": [],
   "source": [
    "def scrape_yahoo_news(ticker):\n",
    "    \"\"\"Get the yahoo finance market news and write them to CSV file \"\"\"\n",
    "    \n",
    "    yahoo_url = 'https://ca.finance.yahoo.com/quote/'\n",
    "    url = yahoo_url + ticker\n",
    "    \n",
    "    doc = get_page(url)\n",
    "    news_list = get_news_tags(doc)\n",
    "    news_data = [parse_news(news_tag) for news_tag in news_list]\n",
    "    news_df = pd.DataFrame(news_data)\n",
    "\n",
    "    return news_df "
   ]
  },
  {
   "cell_type": "markdown",
   "metadata": {},
   "source": [
    "### Individual Article Page Scraping Functions"
   ]
  },
  {
   "cell_type": "code",
   "execution_count": 54,
   "metadata": {},
   "outputs": [],
   "source": [
    "def parse_paragraphs(doc):\n",
    "    \"\"\"Get the list of tags containing news information\"\"\"\n",
    "    if doc == \"\":\n",
    "        news_list = \"\"\n",
    "    else:\n",
    "        news_class = \"caas-body\" ## class name of div tag \n",
    "        news_list  = doc.find_all('div', {'class': news_class})\n",
    "    \n",
    "    return news_list"
   ]
  },
  {
   "cell_type": "code",
   "execution_count": 55,
   "metadata": {},
   "outputs": [],
   "source": [
    "def parse_news_article(news_tag):\n",
    "    print('-----------------')\n",
    "    if news_tag == \"\":\n",
    "        body_string = \"\"\n",
    "    else:\n",
    "        table = news_tag[0].find_all('p')\n",
    "        para_list = []\n",
    "        body_string = ''\n",
    "        \n",
    "        for x in table:\n",
    "            para_list.append(x.text)\n",
    "\n",
    "        for x in para_list:\n",
    "            body_string += ' ' + x\n",
    "\n",
    "        body_string = body_string.replace(\"\\\"\", '')\n",
    "    \n",
    "    return body_string"
   ]
  },
  {
   "cell_type": "code",
   "execution_count": 56,
   "metadata": {},
   "outputs": [],
   "source": [
    "def get_article_date(url):\n",
    "    date_class = 'caas-attr-meta-time' ## class name of time stamp\n",
    "    doc = get_page(url)\n",
    "    if doc == \"\":\n",
    "        date = \"\"\n",
    "    else:\n",
    "        date_stamp = doc.find_all('time', {'class': date_class})\n",
    "        date = date_stamp[0].get('datetime')\n",
    "    \n",
    "    return date"
   ]
  },
  {
   "cell_type": "code",
   "execution_count": 57,
   "metadata": {},
   "outputs": [],
   "source": [
    "def get_article_body(url):\n",
    "        \n",
    "    doc = get_page(url)\n",
    "    article = parse_paragraphs(doc)\n",
    "    article_body = parse_news_article(article)\n",
    "\n",
    "    return article_body"
   ]
  },
  {
   "cell_type": "code",
   "execution_count": 58,
   "metadata": {},
   "outputs": [],
   "source": [
    "def dataframe_prep(news_df):\n",
    "\n",
    "    news_df['body'] = news_df['url'].apply(lambda x: get_article_body(x))\n",
    "    news_df['date'] = news_df['url'].apply(lambda x: get_article_date(x))\n",
    "    news_df = news_df.drop(news_df[news_df.date == \"\"].index)\n",
    "    news_df['date'] = pd.to_datetime(news_df['date'], format='%Y-%m-%dT%H:%M:%S.%fZ').dt.date\n",
    "    news_df[['prob_posi', 'prob_nega', 'prob_neut']] = float()\n",
    "    news_df['sentiment'] = int()\n",
    "    news_df = news_df.reset_index()\n",
    "\n",
    "    return news_df"
   ]
  },
  {
   "cell_type": "markdown",
   "metadata": {},
   "source": [
    "### Finviz Functions"
   ]
  },
  {
   "cell_type": "code",
   "execution_count": 59,
   "metadata": {},
   "outputs": [],
   "source": [
    "def fv_get_page(ticker):\n",
    "    \"\"\"Download a webpage and return a beautiful soup doc\"\"\"\n",
    "\n",
    "    headers = {\n",
    "    'authority': 'www.spot.im',\n",
    "    'accept': 'application/json',\n",
    "    'accept-language': 'en-US,en;q=0.9',\n",
    "    'content-type': 'application/json',\n",
    "    # Requests sorts cookies= alphabetically\n",
    "    'cookie': 'device_uuid=80e01093-d9cb-4199-9a8d-5302402b793a; access_token=eyJhbGciOiJIUzI1NiIsInR5cCI6IkpXVCJ9.eyJlbWFpbCI6IiIsInZlcmlmaWVkIjpmYWxzZSwidXNlcl9pZCI6InVfS2tRM2pYV1lDN3JLIiwiZGlzcGxheV9uYW1lIjoiT3JhbmdlQ29uZSIsInVzZXJfbmFtZSI6Ik9yYW5nZUNvbmUiLCJyZWdpc3RlcmVkIjpmYWxzZSwiaW1hZ2VfaWQiOiIjT3JhbmdlLUNvbmUiLCJyb2xlcyI6W10sInNzb19kYXRhIjpudWxsLCJwcm92aWRlcnMiOm51bGwsInJlcHV0YXRpb24iOnt9LCJzcG90X2lkIjoic3BfUmJhOWFGcEciLCJsYXN0X2NoZWNrIjoxNjY5NzU3MjQ2LCJ2ZXJzaW9uIjo0LCJ4LXNwb3RpbS10b2tlbiI6IjAxMjIxMTI5ZXRSQzFMLjUxZjQzNDEwMWE3NTQ3YzdmOGIxYTE3NDIxMTg3MTA1ZDZiNTY0YjM5MDhkM2ViNTIzZmU5M2FiMGNjYWNiZjAiLCJwZXJtaXNzaW9ucyI6bnVsbCwic3BvdGltLWRldmljZS12MiI6ImRfVzMwRURPVFZkcUpjSjdBTzVpT3YiLCJuZXR3b3JrIjp7Im5ldHdvcmtfaWQiOiJuZXRfeWFob28iLCJuZXR3b3JrX25hbWUiOiJ5YWhvbyIsIm5ldHdvcmtfaW1hZ2VfaWQiOiI5ZDAwMWIwMTMxMzIyYTBiMmFmYWM1MjYyMGU3MzI4MSIsIm5ldHdvcmtfY29sb3IiOiIifSwic3BvdF9uYW1lIjoiIiwiZG9tYWluIjoiIiwicm9sZXNfbnVtYmVyIjowLCJ0ZW1wX3VzZXIiOmZhbHNlLCJleHAiOjE2Njk3NjA4NDYsInN1YiI6InVfS2tRM2pYV1lDN3JLIn0.u-U5dUwDE5pGhfMtOgju8_mD6vnJW2tgb8iOB3jCy_k; spotim-device-v2=d_W30EDOTVdqJcJ7AO5iOv',\n",
    "    'origin': 'https://openweb.jac.yahoosandbox.com',\n",
    "    'referer': 'https://openweb.jac.yahoosandbox.com/0.8.1/safeframe.html',\n",
    "    'sec-ch-ua': '\"Microsoft Edge\";v=\"107\", \"Chromium\";v=\"107\", \"Not=A?Brand\";v=\"24\"',\n",
    "    'sec-ch-ua-mobile': '?0',\n",
    "    'sec-ch-ua-platform': '\"Windows\"',\n",
    "    'sec-fetch-dest': 'empty',\n",
    "    'sec-fetch-mode': 'cors',\n",
    "    'sec-fetch-site': 'cross-site',\n",
    "    'user-agent': 'Mozilla/5.0 (Windows NT 10.0; Win64; x64) AppleWebKit/537.36 (KHTML, like Gecko) Chrome/107.0.0.0 Safari/537.36 Edg/107.0.1418.56',\n",
    "    'x-spotim-device-uuid': '80e01093-d9cb-4199-9a8d-5302402b793a',\n",
    "    'x-spotim-page-view-id': '343b3bd3-f548-46c3-935e-30e483be67c2',\n",
    "    'x-spotim-spotid': 'sp_Rba9aFpG',\n",
    "    'x-spotim-token': '01221129etRC1L.51f434101a7547c7f8b1a17421187105d6b564b3908d3eb523fe93ab0ccacbf0',\n",
    "    }\n",
    "   \n",
    "    base_url = f'https://finviz.com/quote.ashx?t={ticker}&p=d'\n",
    "    html = requests.get(base_url, headers=headers)\n",
    "    \n",
    "    if not html.ok:\n",
    "        print('Status code - fv_page:', html.status_code)\n",
    "   \n",
    "    doc = bs(html.content, \"html.parser\")\n",
    "       \n",
    "    return doc"
   ]
  },
  {
   "cell_type": "code",
   "execution_count": 60,
   "metadata": {},
   "outputs": [],
   "source": [
    "def fv_get_news_tags(doc):\n",
    "    \"\"\"Get the list of tags containing news information\"\"\"\n",
    "    \n",
    "    news_list  = doc.find('table', {'id': 'news-table'}) #attrs=\n",
    "       \n",
    "    return news_list"
   ]
  },
  {
   "cell_type": "code",
   "execution_count": 61,
   "metadata": {},
   "outputs": [],
   "source": [
    "def fv_parse_news(news_tag):\n",
    "    \"\"\"Get the news data point and return dictionary\"\"\"\n",
    "\n",
    "    news_source = news_tag.find('div').text #source\n",
    "    news_headline = news_tag.find('a').text #heading\n",
    "    news_url = news_tag.find('a')['href'] #link\n",
    "\n",
    "    return { 'source' : news_source,\n",
    "            'headline' : news_headline,\n",
    "            'url' : news_url # base_url + \n",
    "           }"
   ]
  },
  {
   "cell_type": "code",
   "execution_count": 62,
   "metadata": {},
   "outputs": [],
   "source": [
    "def fv_get_article_body(url):\n",
    "        \n",
    "    doc = fv_get_page(url)\n",
    "    article = parse_paragraphs(doc)\n",
    "    article_body = parse_news_article(article)\n",
    "\n",
    "    return article_body"
   ]
  },
  {
   "cell_type": "code",
   "execution_count": 63,
   "metadata": {},
   "outputs": [],
   "source": [
    "def scrape_finviz2(ticker):\n",
    "    \"\"\"Get the yahoo finance market news and write them to CSV file \"\"\"\n",
    "    \n",
    "    finviz_url = f'https://finviz.com/quote.ashx?t={ticker}&p=d'\n",
    "    url = finviz_url + ticker\n",
    "    \n",
    "    doc = get_page(url)\n",
    "    news_list = get_news_tags(doc)\n",
    "    news_data = [parse_news(news_tag) for news_tag in news_list]\n",
    "    news_df = pd.DataFrame(news_data)\n",
    "\n",
    "    return news_df "
   ]
  },
  {
   "cell_type": "code",
   "execution_count": 64,
   "metadata": {},
   "outputs": [],
   "source": [
    "def fv_dataframe(news_list):\n",
    "\n",
    "    url_list = news_list.find_all('a')\n",
    "    source_list = news_list.find_all('span')\n",
    "\n",
    "    df_finviz = pd.DataFrame()\n",
    "    df_finviz[['url', 'headline', 'source']] = \"\"\n",
    "\n",
    "    for n in range(len(url_list)):\n",
    "            url = url_list[n]['href']\n",
    "            headline = url_list[n].text\n",
    "            if '%' not in source_list[n].text:\n",
    "                source = source_list[n].text\n",
    "            else:\n",
    "                pass                \n",
    "                            \n",
    "            if 'finance.yahoo' in url:\n",
    "                df_finviz.loc[n, 'url'] = url\n",
    "                df_finviz.loc[n, 'headline'] = headline\n",
    "                df_finviz.loc[n, 'source'] = source\n",
    "            else:\n",
    "                pass\n",
    "\n",
    "    return df_finviz\n"
   ]
  },
  {
   "cell_type": "code",
   "execution_count": 65,
   "metadata": {},
   "outputs": [],
   "source": [
    "# def df_timed_url_grab(df_fv):\n",
    "\n",
    "#     window_length = 10\n",
    "#     num_iter = len(df_fv) // 10\n",
    "#     start = 0\n",
    "#     df_list = []\n",
    "    \n",
    "#     for n in range(num_iter):    \n",
    "#         end = start + window_length\n",
    "#         df_to_grab = df_fv.iloc[start:end]\n",
    "#         df_partial = dataframe_prep(df_to_grab)\n",
    "#         df_list.append(df_partial)\n",
    "#         start = end\n",
    "#         n += 1\n",
    "#         time.sleep(30)\n",
    "#         print(n)\n",
    "        \n",
    "#     df_final = pd.concat(df_list).reset_index(drop=True)\n",
    "\n",
    "#     return df_final"
   ]
  },
  {
   "cell_type": "markdown",
   "metadata": {},
   "source": [
    "## Testing - Pre Stock Price Merger"
   ]
  },
  {
   "cell_type": "code",
   "execution_count": 68,
   "metadata": {},
   "outputs": [
    {
     "name": "stdout",
     "output_type": "stream",
     "text": [
      "-----------------\n",
      "-----------------\n",
      "-----------------\n",
      "-----------------\n",
      "-----------------\n",
      "-----------------\n",
      "-----------------\n",
      "-----------------\n",
      "-----------------\n",
      "-----------------\n"
     ]
    },
    {
     "name": "stderr",
     "output_type": "stream",
     "text": [
      "C:\\Users\\jrilk\\AppData\\Local\\Temp\\ipykernel_20800\\2352007808.py:3: SettingWithCopyWarning: \n",
      "A value is trying to be set on a copy of a slice from a DataFrame.\n",
      "Try using .loc[row_indexer,col_indexer] = value instead\n",
      "\n",
      "See the caveats in the documentation: https://pandas.pydata.org/pandas-docs/stable/user_guide/indexing.html#returning-a-view-versus-a-copy\n",
      "  news_df['body'] = news_df['url'].apply(lambda x: get_article_body(x))\n",
      "C:\\Users\\jrilk\\AppData\\Local\\Temp\\ipykernel_20800\\2352007808.py:4: SettingWithCopyWarning: \n",
      "A value is trying to be set on a copy of a slice from a DataFrame.\n",
      "Try using .loc[row_indexer,col_indexer] = value instead\n",
      "\n",
      "See the caveats in the documentation: https://pandas.pydata.org/pandas-docs/stable/user_guide/indexing.html#returning-a-view-versus-a-copy\n",
      "  news_df['date'] = news_df['url'].apply(lambda x: get_article_date(x))\n"
     ]
    }
   ],
   "source": [
    "doc = fv_get_page('HBM')\n",
    "news_list = fv_get_news_tags(doc)\n",
    "df_fv = fv_dataframe(news_list)\n",
    "df_final = dataframe_prep(df_fv[:10])"
   ]
  },
  {
   "cell_type": "code",
   "execution_count": 67,
   "metadata": {},
   "outputs": [
    {
     "data": {
      "text/html": [
       "<div>\n",
       "<style scoped>\n",
       "    .dataframe tbody tr th:only-of-type {\n",
       "        vertical-align: middle;\n",
       "    }\n",
       "\n",
       "    .dataframe tbody tr th {\n",
       "        vertical-align: top;\n",
       "    }\n",
       "\n",
       "    .dataframe thead th {\n",
       "        text-align: right;\n",
       "    }\n",
       "</style>\n",
       "<table border=\"1\" class=\"dataframe\">\n",
       "  <thead>\n",
       "    <tr style=\"text-align: right;\">\n",
       "      <th></th>\n",
       "      <th>index</th>\n",
       "      <th>url</th>\n",
       "      <th>headline</th>\n",
       "      <th>source</th>\n",
       "      <th>body</th>\n",
       "      <th>date</th>\n",
       "      <th>prob_posi</th>\n",
       "      <th>prob_nega</th>\n",
       "      <th>prob_neut</th>\n",
       "      <th>sentiment</th>\n",
       "    </tr>\n",
       "  </thead>\n",
       "  <tbody>\n",
       "    <tr>\n",
       "      <th>0</th>\n",
       "      <td>0</td>\n",
       "      <td>https://finance.yahoo.com/video/china-protests...</td>\n",
       "      <td>Chinas protests made enough of impact on party...</td>\n",
       "      <td>Yahoo Finance Video</td>\n",
       "      <td>Constellation Research Principal Analyst and ...</td>\n",
       "      <td>2022-12-05</td>\n",
       "      <td>0.0</td>\n",
       "      <td>0.0</td>\n",
       "      <td>0.0</td>\n",
       "      <td>0</td>\n",
       "    </tr>\n",
       "    <tr>\n",
       "      <th>1</th>\n",
       "      <td>1</td>\n",
       "      <td>https://finance.yahoo.com/video/streaming-hulu...</td>\n",
       "      <td>Streaming: Hulu CEO predicts major acquisition...</td>\n",
       "      <td>Yahoo Finance Video</td>\n",
       "      <td>Yahoo Finance entertainment reporter Allie Ca...</td>\n",
       "      <td>2022-12-05</td>\n",
       "      <td>0.0</td>\n",
       "      <td>0.0</td>\n",
       "      <td>0.0</td>\n",
       "      <td>0</td>\n",
       "    </tr>\n",
       "    <tr>\n",
       "      <th>2</th>\n",
       "      <td>2</td>\n",
       "      <td>https://finance.yahoo.com/news/apple-store-emp...</td>\n",
       "      <td>Apple Store Employees Chide Union in Rare Disp...</td>\n",
       "      <td>Bloomberg</td>\n",
       "      <td>(Bloomberg) -- Apple Inc. retail employees pu...</td>\n",
       "      <td>2022-12-05</td>\n",
       "      <td>0.0</td>\n",
       "      <td>0.0</td>\n",
       "      <td>0.0</td>\n",
       "      <td>0</td>\n",
       "    </tr>\n",
       "    <tr>\n",
       "      <th>3</th>\n",
       "      <td>4</td>\n",
       "      <td>https://finance.yahoo.com/video/apple-amazon-r...</td>\n",
       "      <td>Apple and Amazon resume Twitter advertising</td>\n",
       "      <td>Yahoo Finance Video</td>\n",
       "      <td>Yahoo Finance tech editor Dan Howley outlines...</td>\n",
       "      <td>2022-12-05</td>\n",
       "      <td>0.0</td>\n",
       "      <td>0.0</td>\n",
       "      <td>0.0</td>\n",
       "      <td>0</td>\n",
       "    </tr>\n",
       "    <tr>\n",
       "      <th>4</th>\n",
       "      <td>5</td>\n",
       "      <td>https://finance.yahoo.com/news/foxconn-plans-r...</td>\n",
       "      <td>Foxconn plans to reopen worlds largest iPhone ...</td>\n",
       "      <td>Fox Business</td>\n",
       "      <td>Foxconn, the supplier of Apple's smartphone d...</td>\n",
       "      <td>2022-12-05</td>\n",
       "      <td>0.0</td>\n",
       "      <td>0.0</td>\n",
       "      <td>0.0</td>\n",
       "      <td>0</td>\n",
       "    </tr>\n",
       "    <tr>\n",
       "      <th>5</th>\n",
       "      <td>6</td>\n",
       "      <td>https://finance.yahoo.com/news/1-mercadolibre-...</td>\n",
       "      <td>UPDATE 1-MercadoLibre files complaints against...</td>\n",
       "      <td>Reuters</td>\n",
       "      <td>(Adds details) By Andre Romani SAO PAULO, Dec...</td>\n",
       "      <td>2022-12-05</td>\n",
       "      <td>0.0</td>\n",
       "      <td>0.0</td>\n",
       "      <td>0.0</td>\n",
       "      <td>0</td>\n",
       "    </tr>\n",
       "    <tr>\n",
       "      <th>6</th>\n",
       "      <td>7</td>\n",
       "      <td>https://finance.yahoo.com/news/clock-struck-mi...</td>\n",
       "      <td>The clock has struck midnight in China: Wedbus...</td>\n",
       "      <td>Fortune</td>\n",
       "      <td>Apple and China have been tied at the hip sin...</td>\n",
       "      <td>2022-12-05</td>\n",
       "      <td>0.0</td>\n",
       "      <td>0.0</td>\n",
       "      <td>0.0</td>\n",
       "      <td>0</td>\n",
       "    </tr>\n",
       "    <tr>\n",
       "      <th>7</th>\n",
       "      <td>8</td>\n",
       "      <td>https://finance.yahoo.com/news/apple-big-heads...</td>\n",
       "      <td>Apples big new headset release date is going t...</td>\n",
       "      <td>The Independent</td>\n",
       "      <td>The launch of Apple’s major new augmented rea...</td>\n",
       "      <td>2022-12-05</td>\n",
       "      <td>0.0</td>\n",
       "      <td>0.0</td>\n",
       "      <td>0.0</td>\n",
       "      <td>0</td>\n",
       "    </tr>\n",
       "    <tr>\n",
       "      <th>8</th>\n",
       "      <td>9</td>\n",
       "      <td>https://finance.yahoo.com/news/mercadolibre-fi...</td>\n",
       "      <td>MercadoLibre files complaints against Apple fo...</td>\n",
       "      <td>Reuters</td>\n",
       "      <td>By Andre Romani SAO PAULO (Reuters) -E-commer...</td>\n",
       "      <td>2022-12-05</td>\n",
       "      <td>0.0</td>\n",
       "      <td>0.0</td>\n",
       "      <td>0.0</td>\n",
       "      <td>0</td>\n",
       "    </tr>\n",
       "    <tr>\n",
       "      <th>9</th>\n",
       "      <td>10</td>\n",
       "      <td>https://finance.yahoo.com/news/mercadolibre-fi...</td>\n",
       "      <td>MercadoLibre files complaints against Apple fo...</td>\n",
       "      <td>Reuters</td>\n",
       "      <td>By Andre Romani SAO PAULO, Dec 5 (Reuters) - ...</td>\n",
       "      <td>2022-12-05</td>\n",
       "      <td>0.0</td>\n",
       "      <td>0.0</td>\n",
       "      <td>0.0</td>\n",
       "      <td>0</td>\n",
       "    </tr>\n",
       "  </tbody>\n",
       "</table>\n",
       "</div>"
      ],
      "text/plain": [
       "   index                                                url  \\\n",
       "0      0  https://finance.yahoo.com/video/china-protests...   \n",
       "1      1  https://finance.yahoo.com/video/streaming-hulu...   \n",
       "2      2  https://finance.yahoo.com/news/apple-store-emp...   \n",
       "3      4  https://finance.yahoo.com/video/apple-amazon-r...   \n",
       "4      5  https://finance.yahoo.com/news/foxconn-plans-r...   \n",
       "5      6  https://finance.yahoo.com/news/1-mercadolibre-...   \n",
       "6      7  https://finance.yahoo.com/news/clock-struck-mi...   \n",
       "7      8  https://finance.yahoo.com/news/apple-big-heads...   \n",
       "8      9  https://finance.yahoo.com/news/mercadolibre-fi...   \n",
       "9     10  https://finance.yahoo.com/news/mercadolibre-fi...   \n",
       "\n",
       "                                            headline                source  \\\n",
       "0  Chinas protests made enough of impact on party...   Yahoo Finance Video   \n",
       "1  Streaming: Hulu CEO predicts major acquisition...   Yahoo Finance Video   \n",
       "2  Apple Store Employees Chide Union in Rare Disp...             Bloomberg   \n",
       "3        Apple and Amazon resume Twitter advertising   Yahoo Finance Video   \n",
       "4  Foxconn plans to reopen worlds largest iPhone ...          Fox Business   \n",
       "5  UPDATE 1-MercadoLibre files complaints against...               Reuters   \n",
       "6  The clock has struck midnight in China: Wedbus...               Fortune   \n",
       "7  Apples big new headset release date is going t...       The Independent   \n",
       "8  MercadoLibre files complaints against Apple fo...               Reuters   \n",
       "9  MercadoLibre files complaints against Apple fo...               Reuters   \n",
       "\n",
       "                                                body        date  prob_posi  \\\n",
       "0   Constellation Research Principal Analyst and ...  2022-12-05        0.0   \n",
       "1   Yahoo Finance entertainment reporter Allie Ca...  2022-12-05        0.0   \n",
       "2   (Bloomberg) -- Apple Inc. retail employees pu...  2022-12-05        0.0   \n",
       "3   Yahoo Finance tech editor Dan Howley outlines...  2022-12-05        0.0   \n",
       "4   Foxconn, the supplier of Apple's smartphone d...  2022-12-05        0.0   \n",
       "5   (Adds details) By Andre Romani SAO PAULO, Dec...  2022-12-05        0.0   \n",
       "6   Apple and China have been tied at the hip sin...  2022-12-05        0.0   \n",
       "7   The launch of Apple’s major new augmented rea...  2022-12-05        0.0   \n",
       "8   By Andre Romani SAO PAULO (Reuters) -E-commer...  2022-12-05        0.0   \n",
       "9   By Andre Romani SAO PAULO, Dec 5 (Reuters) - ...  2022-12-05        0.0   \n",
       "\n",
       "   prob_nega  prob_neut  sentiment  \n",
       "0        0.0        0.0          0  \n",
       "1        0.0        0.0          0  \n",
       "2        0.0        0.0          0  \n",
       "3        0.0        0.0          0  \n",
       "4        0.0        0.0          0  \n",
       "5        0.0        0.0          0  \n",
       "6        0.0        0.0          0  \n",
       "7        0.0        0.0          0  \n",
       "8        0.0        0.0          0  \n",
       "9        0.0        0.0          0  "
      ]
     },
     "execution_count": 67,
     "metadata": {},
     "output_type": "execute_result"
    }
   ],
   "source": [
    "df_final"
   ]
  },
  {
   "cell_type": "markdown",
   "metadata": {},
   "source": [
    "## Stock Price Merger"
   ]
  },
  {
   "cell_type": "code",
   "execution_count": 69,
   "metadata": {},
   "outputs": [],
   "source": [
    "def stock_price(ticker, start, end):\n",
    "    df = yf.download(\n",
    "        ticker, \n",
    "        start=start, \n",
    "        end=end, \n",
    "        progress=False\n",
    "    )\n",
    "\n",
    "    df.loc[df['Open'] > df['Close'], 'target'] = 0\n",
    "    df.loc[df['Open'] < df['Close'], 'target'] = 1\n",
    "    df.loc[df['Open'] == df['Close'], 'target'] = 0\n",
    "    df['target'] = df['target'].astype('int')\n",
    "\n",
    "    df = df.reset_index()\n",
    "    df['Date'] = pd.to_datetime(df['Date'], format='%Y-%m-%d').dt.date\n",
    "\n",
    "    return df\n"
   ]
  },
  {
   "cell_type": "code",
   "execution_count": 70,
   "metadata": {},
   "outputs": [],
   "source": [
    "def dataframe_price_sentiment(ticker, start, end):\n",
    "\n",
    "    df_price = stock_price(ticker, start, end)\n",
    "    df_news = scrape_yahoo_news(ticker)\n",
    "    df_prepped = dataframe_prep(df_news)\n",
    "\n",
    "    df_final = pd.merge(df_price, df_prepped, right_on='date', left_on='Date')\n",
    "\n",
    "    return df_final"
   ]
  },
  {
   "cell_type": "code",
   "execution_count": 72,
   "metadata": {},
   "outputs": [
    {
     "name": "stdout",
     "output_type": "stream",
     "text": [
      "-----------------\n",
      "-----------------\n",
      "-----------------\n"
     ]
    },
    {
     "data": {
      "text/html": [
       "<div>\n",
       "<style scoped>\n",
       "    .dataframe tbody tr th:only-of-type {\n",
       "        vertical-align: middle;\n",
       "    }\n",
       "\n",
       "    .dataframe tbody tr th {\n",
       "        vertical-align: top;\n",
       "    }\n",
       "\n",
       "    .dataframe thead th {\n",
       "        text-align: right;\n",
       "    }\n",
       "</style>\n",
       "<table border=\"1\" class=\"dataframe\">\n",
       "  <thead>\n",
       "    <tr style=\"text-align: right;\">\n",
       "      <th></th>\n",
       "      <th>Date</th>\n",
       "      <th>Open</th>\n",
       "      <th>High</th>\n",
       "      <th>Low</th>\n",
       "      <th>Close</th>\n",
       "      <th>Adj Close</th>\n",
       "      <th>Volume</th>\n",
       "      <th>target</th>\n",
       "      <th>index</th>\n",
       "      <th>source</th>\n",
       "      <th>headline</th>\n",
       "      <th>url</th>\n",
       "      <th>body</th>\n",
       "      <th>date</th>\n",
       "      <th>prob_posi</th>\n",
       "      <th>prob_nega</th>\n",
       "      <th>prob_neut</th>\n",
       "      <th>sentiment</th>\n",
       "    </tr>\n",
       "  </thead>\n",
       "  <tbody>\n",
       "    <tr>\n",
       "      <th>0</th>\n",
       "      <td>2022-11-03</td>\n",
       "      <td>3.97</td>\n",
       "      <td>4.33</td>\n",
       "      <td>3.88</td>\n",
       "      <td>4.28</td>\n",
       "      <td>4.28</td>\n",
       "      <td>2314300</td>\n",
       "      <td>1</td>\n",
       "      <td>2</td>\n",
       "      <td>Zacks</td>\n",
       "      <td>HudBay Minerals (HBM) Reports Q3 Loss, Tops Re...</td>\n",
       "      <td>https://ca.finance.yahoo.com/news/hudbay-miner...</td>\n",
       "      <td>HudBay Minerals (HBM) came out with a quarter...</td>\n",
       "      <td>2022-11-03</td>\n",
       "      <td>0.0</td>\n",
       "      <td>0.0</td>\n",
       "      <td>0.0</td>\n",
       "      <td>0</td>\n",
       "    </tr>\n",
       "    <tr>\n",
       "      <th>1</th>\n",
       "      <td>2022-11-11</td>\n",
       "      <td>5.50</td>\n",
       "      <td>5.59</td>\n",
       "      <td>5.38</td>\n",
       "      <td>5.46</td>\n",
       "      <td>5.46</td>\n",
       "      <td>2327000</td>\n",
       "      <td>0</td>\n",
       "      <td>1</td>\n",
       "      <td>Simply Wall St.</td>\n",
       "      <td>Hudbay Minerals Inc.'s (TSE:HBM) Financials Ar...</td>\n",
       "      <td>https://ca.finance.yahoo.com/news/hudbay-miner...</td>\n",
       "      <td>Most readers would already be aware that Hudb...</td>\n",
       "      <td>2022-11-11</td>\n",
       "      <td>0.0</td>\n",
       "      <td>0.0</td>\n",
       "      <td>0.0</td>\n",
       "      <td>0</td>\n",
       "    </tr>\n",
       "  </tbody>\n",
       "</table>\n",
       "</div>"
      ],
      "text/plain": [
       "         Date  Open  High   Low  Close  Adj Close   Volume  target  index  \\\n",
       "0  2022-11-03  3.97  4.33  3.88   4.28       4.28  2314300       1      2   \n",
       "1  2022-11-11  5.50  5.59  5.38   5.46       5.46  2327000       0      1   \n",
       "\n",
       "            source                                           headline  \\\n",
       "0            Zacks  HudBay Minerals (HBM) Reports Q3 Loss, Tops Re...   \n",
       "1  Simply Wall St.  Hudbay Minerals Inc.'s (TSE:HBM) Financials Ar...   \n",
       "\n",
       "                                                 url  \\\n",
       "0  https://ca.finance.yahoo.com/news/hudbay-miner...   \n",
       "1  https://ca.finance.yahoo.com/news/hudbay-miner...   \n",
       "\n",
       "                                                body        date  prob_posi  \\\n",
       "0   HudBay Minerals (HBM) came out with a quarter...  2022-11-03        0.0   \n",
       "1   Most readers would already be aware that Hudb...  2022-11-11        0.0   \n",
       "\n",
       "   prob_nega  prob_neut  sentiment  \n",
       "0        0.0        0.0          0  \n",
       "1        0.0        0.0          0  "
      ]
     },
     "execution_count": 72,
     "metadata": {},
     "output_type": "execute_result"
    }
   ],
   "source": [
    "ticker = 'HBM'\n",
    "start = '2021-01-01'\n",
    "end = '2022-11-25'\n",
    "\n",
    "df = dataframe_price_sentiment(\n",
    "    ticker,\n",
    "    start,\n",
    "    end\n",
    ")\n",
    "\n",
    "df.iloc"
   ]
  },
  {
   "cell_type": "code",
   "execution_count": 74,
   "metadata": {},
   "outputs": [],
   "source": [
    "df_x = df.drop(columns=['index', 'url', 'date', 'prob_posi'])"
   ]
  },
  {
   "cell_type": "code",
   "execution_count": 80,
   "metadata": {},
   "outputs": [
    {
     "data": {
      "text/html": [
       "<div>\n",
       "<style scoped>\n",
       "    .dataframe tbody tr th:only-of-type {\n",
       "        vertical-align: middle;\n",
       "    }\n",
       "\n",
       "    .dataframe tbody tr th {\n",
       "        vertical-align: top;\n",
       "    }\n",
       "\n",
       "    .dataframe thead th {\n",
       "        text-align: right;\n",
       "    }\n",
       "</style>\n",
       "<table border=\"1\" class=\"dataframe\">\n",
       "  <thead>\n",
       "    <tr style=\"text-align: right;\">\n",
       "      <th></th>\n",
       "      <th>Date</th>\n",
       "      <th>Open</th>\n",
       "      <th>High</th>\n",
       "      <th>Low</th>\n",
       "      <th>Close</th>\n",
       "      <th>Adj Close</th>\n",
       "      <th>Volume</th>\n",
       "      <th>target</th>\n",
       "      <th>source</th>\n",
       "      <th>headline</th>\n",
       "      <th>body</th>\n",
       "      <th>prob_nega</th>\n",
       "      <th>prob_neut</th>\n",
       "      <th>sentiment</th>\n",
       "    </tr>\n",
       "  </thead>\n",
       "  <tbody>\n",
       "    <tr>\n",
       "      <th>0</th>\n",
       "      <td>2022-11-03</td>\n",
       "      <td>3.97</td>\n",
       "      <td>4.33</td>\n",
       "      <td>3.88</td>\n",
       "      <td>4.28</td>\n",
       "      <td>4.28</td>\n",
       "      <td>2314300</td>\n",
       "      <td>1</td>\n",
       "      <td>Zacks</td>\n",
       "      <td>HudBay Minerals (HBM) Reports Q3 Loss, Tops Re...</td>\n",
       "      <td>HudBay Minerals (HBM) came out with a quarter...</td>\n",
       "      <td>0.0</td>\n",
       "      <td>0.0</td>\n",
       "      <td>0</td>\n",
       "    </tr>\n",
       "  </tbody>\n",
       "</table>\n",
       "</div>"
      ],
      "text/plain": [
       "         Date  Open  High   Low  Close  Adj Close   Volume  target source  \\\n",
       "0  2022-11-03  3.97  4.33  3.88   4.28       4.28  2314300       1  Zacks   \n",
       "\n",
       "                                            headline  \\\n",
       "0  HudBay Minerals (HBM) Reports Q3 Loss, Tops Re...   \n",
       "\n",
       "                                                body  prob_nega  prob_neut  \\\n",
       "0   HudBay Minerals (HBM) came out with a quarter...        0.0        0.0   \n",
       "\n",
       "   sentiment  \n",
       "0          0  "
      ]
     },
     "execution_count": 80,
     "metadata": {},
     "output_type": "execute_result"
    }
   ],
   "source": [
    "df_x.iloc[0:1]"
   ]
  },
  {
   "cell_type": "markdown",
   "metadata": {},
   "source": [
    "### NLP - Sentiment Analysis"
   ]
  },
  {
   "cell_type": "code",
   "execution_count": null,
   "metadata": {},
   "outputs": [],
   "source": [
    "import finbert as fb"
   ]
  },
  {
   "cell_type": "code",
   "execution_count": null,
   "metadata": {},
   "outputs": [],
   "source": [
    "def sentiment_applier(df):\n",
    "\n",
    "    proba_list = fb.sentiment_analysis(df, bert_model='finbert')\n",
    "    mean, sentiment, stacks = fb.get_mean_from_proba(proba_list)\n",
    "\n",
    "    return mean, sentiment"
   ]
  },
  {
   "cell_type": "code",
   "execution_count": null,
   "metadata": {},
   "outputs": [],
   "source": [
    "def sentiment_poster(df):\n",
    "\n",
    "    sent_list = []\n",
    "    sent_list.append(df['body'].apply(lambda x: sentiment_applier(x)))\n",
    "    list2 = sent_list[0]\n",
    "\n",
    "    for n in range(len(list2)): \n",
    "        df.at[n, 'prob_posi'] = float(list2[n][0][0])\n",
    "        df.at[n, 'prob_nega'] = float(list2[n][0][1])\n",
    "        df.at[n, 'prob_neut'] = float(list2[n][0][2])\n",
    "        df.at[n, 'sentiment'] = int(list2[n][1])\n",
    "\n",
    "    return df"
   ]
  },
  {
   "cell_type": "markdown",
   "metadata": {},
   "source": [
    "## CSV Creation"
   ]
  },
  {
   "cell_type": "markdown",
   "metadata": {},
   "source": [
    "#### Custom Models"
   ]
  },
  {
   "cell_type": "code",
   "execution_count": 2,
   "metadata": {},
   "outputs": [],
   "source": [
    "import ws_yahoo as wsy\n",
    "import finbert as fb\n",
    "import pandas as pd\n",
    "\n",
    "import os\n",
    "import glob"
   ]
  },
  {
   "cell_type": "markdown",
   "metadata": {},
   "source": [
    "#### Functions for creating Article CSVs"
   ]
  },
  {
   "cell_type": "code",
   "execution_count": 15,
   "metadata": {},
   "outputs": [],
   "source": [
    "# ticker_list = ['WPM', 'PAAS', 'HL', 'MAG', 'CDE']\n",
    "ticker_list = ['']\n",
    "start = '2017-01-01'\n",
    "end = '2022-11-30'\n",
    "\n",
    "def main_dataframe_creator(ticker_list, start, end):\n",
    "    df_list = []\n",
    "    folder_path = '../csv/'\n",
    "    \n",
    "    for item in ticker_list:\n",
    "        ticker = item\n",
    "        start = start\n",
    "        end = end\n",
    "        df = wsy.dataframe_price_sentiment(ticker, start, end)\n",
    "        df.to_csv(f'{folder_path}{item}.csv', index=False)\n",
    "        df_list.append(df)\n",
    "\n",
    "    df_merged = pd.concat(df_list, ignore_index=True)\n",
    "\n",
    "    return df_merged"
   ]
  },
  {
   "cell_type": "code",
   "execution_count": null,
   "metadata": {},
   "outputs": [],
   "source": [
    "df_merged = main_dataframe_creator(ticker_list, start, end)"
   ]
  },
  {
   "cell_type": "markdown",
   "metadata": {},
   "source": [
    "#### Renaming Columns in CSVs"
   ]
  },
  {
   "cell_type": "code",
   "execution_count": 31,
   "metadata": {},
   "outputs": [
    {
     "name": "stdout",
     "output_type": "stream",
     "text": [
      "['ALB.csv', 'BHP.csv', 'CDE.csv', 'DMLP.csv', 'FCX.csv', 'HBM.csv', 'HL.csv', 'LAC.csv', 'MAG.csv', 'NXE.csv', 'PAAS.csv', 'RIO.csv', 'SBSW.csv', 'TMQ.csv', 'UEC.csv', 'VALE.csv', 'WPM.csv']\n"
     ]
    }
   ],
   "source": [
    "path = '../data/'\n",
    "extension = 'csv'\n",
    "os.chdir(path)\n",
    "result = glob.glob('*.{}'.format(extension))\n",
    "print(result)\n",
    "\n",
    "# df_list = []\n",
    "\n",
    "for item in result:\n",
    "    df = pd.read_csv(item, index_col=0)\n",
    "    df.rename(columns={\n",
    "    'body_posi': 'fb_body_posi',\n",
    "    'body_nega': 'fb_body_nega',\n",
    "    'body_neut': 'fb_body_neut',\n",
    "    'head_posi': 'fb_head_posi',\n",
    "    'head_nega': 'fb_head_nega',\n",
    "    'head_neut': 'fb_head_neut',\n",
    "    'body_stmt': 'fb_body_stmt',\n",
    "    'head_stmt': 'fb_head_stmt'\n",
    "    }, inplace=True)\n",
    "    df.to_csv(f'{path}new-{item}.csv')\n",
    "\n",
    "# df_sentiment_test = pd.concat(df_list, ignore_index=False)\n",
    "# df_csv_all = pd.concat(df_list)"
   ]
  },
  {
   "cell_type": "markdown",
   "metadata": {},
   "source": [
    "#### Create Sentiment CSVs"
   ]
  },
  {
   "cell_type": "code",
   "execution_count": 4,
   "metadata": {},
   "outputs": [
    {
     "name": "stdout",
     "output_type": "stream",
     "text": [
      "['ALB-sentiment.csv', 'BHP-sentiment.csv', 'CDE-sentiment.csv', 'DMLP-sentiment.csv', 'FCX-sentiment.csv', 'HBM-sentiment.csv', 'HL-sentiment.csv', 'LAC-sentiment.csv', 'MAG-sentiment.csv', 'NXE-sentiment.csv', 'PAAS-sentiment.csv', 'RIO-sentiment.csv', 'SBSW-sentiment.csv', 'TMQ-sentiment.csv', 'UEC-sentiment.csv', 'VALE-sentiment.csv', 'WPM-sentiment.csv']\n",
      "ALB-sentiment.csv\n"
     ]
    },
    {
     "ename": "KeyboardInterrupt",
     "evalue": "",
     "output_type": "error",
     "traceback": [
      "\u001b[1;31m---------------------------------------------------------------------------\u001b[0m",
      "\u001b[1;31mKeyboardInterrupt\u001b[0m                         Traceback (most recent call last)",
      "Cell \u001b[1;32mIn [4], line 10\u001b[0m\n\u001b[0;32m      8\u001b[0m \u001b[39mprint\u001b[39m(item)\n\u001b[0;32m      9\u001b[0m df_csv \u001b[39m=\u001b[39m pd\u001b[39m.\u001b[39mread_csv(item)\n\u001b[1;32m---> 10\u001b[0m df_sentiment \u001b[39m=\u001b[39m fb\u001b[39m.\u001b[39;49msentiment_poster(df_csv)\n\u001b[0;32m     11\u001b[0m df_sentiment\u001b[39m.\u001b[39mto_csv(\u001b[39mf\u001b[39m\u001b[39m'\u001b[39m\u001b[39m{\u001b[39;00mpath\u001b[39m}\u001b[39;00m\u001b[39m{\u001b[39;00mdf_sentiment\u001b[39m.\u001b[39mcompany[\u001b[39m0\u001b[39m]\u001b[39m}\u001b[39;00m\u001b[39m-sentiment.csv\u001b[39m\u001b[39m'\u001b[39m)\n",
      "File \u001b[1;32mc:\\Users\\jrilk\\OneDrive\\LHL\\finalProject\\src\\finbert.py:349\u001b[0m, in \u001b[0;36msentiment_poster\u001b[1;34m(df)\u001b[0m\n\u001b[0;32m    346\u001b[0m \u001b[39mif\u001b[39;00m DEBUG:\n\u001b[0;32m    347\u001b[0m     \u001b[39mprint\u001b[39m(\u001b[39mf\u001b[39m\u001b[39m'\u001b[39m\u001b[39m4 - \u001b[39m\u001b[39m{\u001b[39;00mdf\u001b[39m}\u001b[39;00m\u001b[39m'\u001b[39m)\n\u001b[1;32m--> 349\u001b[0m bert_head_list\u001b[39m.\u001b[39mappend(df[\u001b[39m'\u001b[39;49m\u001b[39mheadline\u001b[39;49m\u001b[39m'\u001b[39;49m]\u001b[39m.\u001b[39;49mapply(\u001b[39mlambda\u001b[39;49;00m x: bert_sentiment_applier(x)))\n\u001b[0;32m    350\u001b[0m bert_body_list\u001b[39m.\u001b[39mappend(df[\u001b[39m'\u001b[39m\u001b[39mbody\u001b[39m\u001b[39m'\u001b[39m]\u001b[39m.\u001b[39mapply(\u001b[39mlambda\u001b[39;00m x: bert_sentiment_applier(x)))\n\u001b[0;32m    352\u001b[0m finbert_head_list\u001b[39m.\u001b[39mappend(df[\u001b[39m'\u001b[39m\u001b[39mheadline\u001b[39m\u001b[39m'\u001b[39m]\u001b[39m.\u001b[39mapply(\u001b[39mlambda\u001b[39;00m x: finbert_sentiment_applier(x)))\n",
      "File \u001b[1;32m~\\AppData\\Roaming\\Python\\Python39\\site-packages\\pandas\\core\\series.py:4774\u001b[0m, in \u001b[0;36mSeries.apply\u001b[1;34m(self, func, convert_dtype, args, **kwargs)\u001b[0m\n\u001b[0;32m   4664\u001b[0m \u001b[39mdef\u001b[39;00m \u001b[39mapply\u001b[39m(\n\u001b[0;32m   4665\u001b[0m     \u001b[39mself\u001b[39m,\n\u001b[0;32m   4666\u001b[0m     func: AggFuncType,\n\u001b[1;32m   (...)\u001b[0m\n\u001b[0;32m   4669\u001b[0m     \u001b[39m*\u001b[39m\u001b[39m*\u001b[39mkwargs,\n\u001b[0;32m   4670\u001b[0m ) \u001b[39m-\u001b[39m\u001b[39m>\u001b[39m DataFrame \u001b[39m|\u001b[39m Series:\n\u001b[0;32m   4671\u001b[0m     \u001b[39m\"\"\"\u001b[39;00m\n\u001b[0;32m   4672\u001b[0m \u001b[39m    Invoke function on values of Series.\u001b[39;00m\n\u001b[0;32m   4673\u001b[0m \n\u001b[1;32m   (...)\u001b[0m\n\u001b[0;32m   4772\u001b[0m \u001b[39m    dtype: float64\u001b[39;00m\n\u001b[0;32m   4773\u001b[0m \u001b[39m    \"\"\"\u001b[39;00m\n\u001b[1;32m-> 4774\u001b[0m     \u001b[39mreturn\u001b[39;00m SeriesApply(\u001b[39mself\u001b[39;49m, func, convert_dtype, args, kwargs)\u001b[39m.\u001b[39;49mapply()\n",
      "File \u001b[1;32m~\\AppData\\Roaming\\Python\\Python39\\site-packages\\pandas\\core\\apply.py:1100\u001b[0m, in \u001b[0;36mSeriesApply.apply\u001b[1;34m(self)\u001b[0m\n\u001b[0;32m   1097\u001b[0m     \u001b[39mreturn\u001b[39;00m \u001b[39mself\u001b[39m\u001b[39m.\u001b[39mapply_str()\n\u001b[0;32m   1099\u001b[0m \u001b[39m# self.f is Callable\u001b[39;00m\n\u001b[1;32m-> 1100\u001b[0m \u001b[39mreturn\u001b[39;00m \u001b[39mself\u001b[39;49m\u001b[39m.\u001b[39;49mapply_standard()\n",
      "File \u001b[1;32m~\\AppData\\Roaming\\Python\\Python39\\site-packages\\pandas\\core\\apply.py:1151\u001b[0m, in \u001b[0;36mSeriesApply.apply_standard\u001b[1;34m(self)\u001b[0m\n\u001b[0;32m   1149\u001b[0m     \u001b[39melse\u001b[39;00m:\n\u001b[0;32m   1150\u001b[0m         values \u001b[39m=\u001b[39m obj\u001b[39m.\u001b[39mastype(\u001b[39mobject\u001b[39m)\u001b[39m.\u001b[39m_values\n\u001b[1;32m-> 1151\u001b[0m         mapped \u001b[39m=\u001b[39m lib\u001b[39m.\u001b[39;49mmap_infer(\n\u001b[0;32m   1152\u001b[0m             values,\n\u001b[0;32m   1153\u001b[0m             f,\n\u001b[0;32m   1154\u001b[0m             convert\u001b[39m=\u001b[39;49m\u001b[39mself\u001b[39;49m\u001b[39m.\u001b[39;49mconvert_dtype,\n\u001b[0;32m   1155\u001b[0m         )\n\u001b[0;32m   1157\u001b[0m \u001b[39mif\u001b[39;00m \u001b[39mlen\u001b[39m(mapped) \u001b[39mand\u001b[39;00m \u001b[39misinstance\u001b[39m(mapped[\u001b[39m0\u001b[39m], ABCSeries):\n\u001b[0;32m   1158\u001b[0m     \u001b[39m# GH#43986 Need to do list(mapped) in order to get treated as nested\u001b[39;00m\n\u001b[0;32m   1159\u001b[0m     \u001b[39m#  See also GH#25959 regarding EA support\u001b[39;00m\n\u001b[0;32m   1160\u001b[0m     \u001b[39mreturn\u001b[39;00m obj\u001b[39m.\u001b[39m_constructor_expanddim(\u001b[39mlist\u001b[39m(mapped), index\u001b[39m=\u001b[39mobj\u001b[39m.\u001b[39mindex)\n",
      "File \u001b[1;32m~\\AppData\\Roaming\\Python\\Python39\\site-packages\\pandas\\_libs\\lib.pyx:2919\u001b[0m, in \u001b[0;36mpandas._libs.lib.map_infer\u001b[1;34m()\u001b[0m\n",
      "File \u001b[1;32mc:\\Users\\jrilk\\OneDrive\\LHL\\finalProject\\src\\finbert.py:349\u001b[0m, in \u001b[0;36msentiment_poster.<locals>.<lambda>\u001b[1;34m(x)\u001b[0m\n\u001b[0;32m    346\u001b[0m \u001b[39mif\u001b[39;00m DEBUG:\n\u001b[0;32m    347\u001b[0m     \u001b[39mprint\u001b[39m(\u001b[39mf\u001b[39m\u001b[39m'\u001b[39m\u001b[39m4 - \u001b[39m\u001b[39m{\u001b[39;00mdf\u001b[39m}\u001b[39;00m\u001b[39m'\u001b[39m)\n\u001b[1;32m--> 349\u001b[0m bert_head_list\u001b[39m.\u001b[39mappend(df[\u001b[39m'\u001b[39m\u001b[39mheadline\u001b[39m\u001b[39m'\u001b[39m]\u001b[39m.\u001b[39mapply(\u001b[39mlambda\u001b[39;00m x: bert_sentiment_applier(x)))\n\u001b[0;32m    350\u001b[0m bert_body_list\u001b[39m.\u001b[39mappend(df[\u001b[39m'\u001b[39m\u001b[39mbody\u001b[39m\u001b[39m'\u001b[39m]\u001b[39m.\u001b[39mapply(\u001b[39mlambda\u001b[39;00m x: bert_sentiment_applier(x)))\n\u001b[0;32m    352\u001b[0m finbert_head_list\u001b[39m.\u001b[39mappend(df[\u001b[39m'\u001b[39m\u001b[39mheadline\u001b[39m\u001b[39m'\u001b[39m]\u001b[39m.\u001b[39mapply(\u001b[39mlambda\u001b[39;00m x: finbert_sentiment_applier(x)))\n",
      "File \u001b[1;32mc:\\Users\\jrilk\\OneDrive\\LHL\\finalProject\\src\\finbert.py:288\u001b[0m, in \u001b[0;36mbert_sentiment_applier\u001b[1;34m(df)\u001b[0m\n\u001b[0;32m    285\u001b[0m \u001b[39mif\u001b[39;00m DEBUG:\n\u001b[0;32m    286\u001b[0m     \u001b[39mprint\u001b[39m(\u001b[39mf\u001b[39m\u001b[39m'\u001b[39m\u001b[39m1-\u001b[39m\u001b[39m{\u001b[39;00mdf\u001b[39m}\u001b[39;00m\u001b[39m'\u001b[39m)\n\u001b[1;32m--> 288\u001b[0m bert_proba_list, finbert_proba_list \u001b[39m=\u001b[39m sentiment_analysis(df)\n\u001b[0;32m    290\u001b[0m bert_mean, bert_sentiment, bert_stacks, finbert_mean, finbert_sentiment, finbert_stacks \u001b[39m=\u001b[39m get_mean_from_proba(bert_proba_list, finbert_proba_list)\n\u001b[0;32m    292\u001b[0m \u001b[39mreturn\u001b[39;00m bert_mean, bert_sentiment\n",
      "File \u001b[1;32mc:\\Users\\jrilk\\OneDrive\\LHL\\finalProject\\src\\finbert.py:235\u001b[0m, in \u001b[0;36msentiment_analysis\u001b[1;34m(txt)\u001b[0m\n\u001b[0;32m    233\u001b[0m \u001b[39mdef\u001b[39;00m \u001b[39msentiment_analysis\u001b[39m(txt):\n\u001b[1;32m--> 235\u001b[0m     bert_model \u001b[39m=\u001b[39m BertForSequenceClassification\u001b[39m.\u001b[39;49mfrom_pretrained(bert)\n\u001b[0;32m    236\u001b[0m     finbert_model \u001b[39m=\u001b[39m BertForSequenceClassification\u001b[39m.\u001b[39mfrom_pretrained(finbert)\n\u001b[0;32m    238\u001b[0m     \u001b[39mif\u001b[39;00m DEBUG:\n",
      "File \u001b[1;32m~\\AppData\\Roaming\\Python\\Python39\\site-packages\\transformers\\modeling_utils.py:2326\u001b[0m, in \u001b[0;36mPreTrainedModel.from_pretrained\u001b[1;34m(cls, pretrained_model_name_or_path, *model_args, **kwargs)\u001b[0m\n\u001b[0;32m   2323\u001b[0m     \u001b[39mif\u001b[39;00m dtype_orig \u001b[39mis\u001b[39;00m \u001b[39mnot\u001b[39;00m \u001b[39mNone\u001b[39;00m:\n\u001b[0;32m   2324\u001b[0m         torch\u001b[39m.\u001b[39mset_default_dtype(dtype_orig)\n\u001b[1;32m-> 2326\u001b[0m     model, missing_keys, unexpected_keys, mismatched_keys, error_msgs \u001b[39m=\u001b[39m \u001b[39mcls\u001b[39;49m\u001b[39m.\u001b[39;49m_load_pretrained_model(\n\u001b[0;32m   2327\u001b[0m         model,\n\u001b[0;32m   2328\u001b[0m         state_dict,\n\u001b[0;32m   2329\u001b[0m         loaded_state_dict_keys,  \u001b[39m# XXX: rename?\u001b[39;49;00m\n\u001b[0;32m   2330\u001b[0m         resolved_archive_file,\n\u001b[0;32m   2331\u001b[0m         pretrained_model_name_or_path,\n\u001b[0;32m   2332\u001b[0m         ignore_mismatched_sizes\u001b[39m=\u001b[39;49mignore_mismatched_sizes,\n\u001b[0;32m   2333\u001b[0m         sharded_metadata\u001b[39m=\u001b[39;49msharded_metadata,\n\u001b[0;32m   2334\u001b[0m         _fast_init\u001b[39m=\u001b[39;49m_fast_init,\n\u001b[0;32m   2335\u001b[0m         low_cpu_mem_usage\u001b[39m=\u001b[39;49mlow_cpu_mem_usage,\n\u001b[0;32m   2336\u001b[0m         device_map\u001b[39m=\u001b[39;49mdevice_map,\n\u001b[0;32m   2337\u001b[0m         offload_folder\u001b[39m=\u001b[39;49moffload_folder,\n\u001b[0;32m   2338\u001b[0m         offload_state_dict\u001b[39m=\u001b[39;49moffload_state_dict,\n\u001b[0;32m   2339\u001b[0m         dtype\u001b[39m=\u001b[39;49mtorch_dtype,\n\u001b[0;32m   2340\u001b[0m         load_in_8bit\u001b[39m=\u001b[39;49mload_in_8bit,\n\u001b[0;32m   2341\u001b[0m     )\n\u001b[0;32m   2343\u001b[0m \u001b[39m# make sure token embedding weights are still tied if needed\u001b[39;00m\n\u001b[0;32m   2344\u001b[0m model\u001b[39m.\u001b[39mtie_weights()\n",
      "File \u001b[1;32m~\\AppData\\Roaming\\Python\\Python39\\site-packages\\transformers\\modeling_utils.py:2517\u001b[0m, in \u001b[0;36mPreTrainedModel._load_pretrained_model\u001b[1;34m(cls, model, state_dict, loaded_keys, resolved_archive_file, pretrained_model_name_or_path, ignore_mismatched_sizes, sharded_metadata, _fast_init, low_cpu_mem_usage, device_map, offload_folder, offload_state_dict, dtype, load_in_8bit)\u001b[0m\n\u001b[0;32m   2507\u001b[0m \u001b[39mif\u001b[39;00m state_dict \u001b[39mis\u001b[39;00m \u001b[39mnot\u001b[39;00m \u001b[39mNone\u001b[39;00m:\n\u001b[0;32m   2508\u001b[0m     \u001b[39m# Whole checkpoint\u001b[39;00m\n\u001b[0;32m   2509\u001b[0m     mismatched_keys \u001b[39m=\u001b[39m _find_mismatched_keys(\n\u001b[0;32m   2510\u001b[0m         state_dict,\n\u001b[0;32m   2511\u001b[0m         model_state_dict,\n\u001b[1;32m   (...)\u001b[0m\n\u001b[0;32m   2515\u001b[0m         ignore_mismatched_sizes,\n\u001b[0;32m   2516\u001b[0m     )\n\u001b[1;32m-> 2517\u001b[0m     error_msgs \u001b[39m=\u001b[39m _load_state_dict_into_model(model_to_load, state_dict, start_prefix)\n\u001b[0;32m   2518\u001b[0m \u001b[39melse\u001b[39;00m:\n\u001b[0;32m   2519\u001b[0m     \u001b[39m# Sharded checkpoint or whole but low_cpu_mem_usage==True\u001b[39;00m\n\u001b[0;32m   2520\u001b[0m \n\u001b[0;32m   2521\u001b[0m     \u001b[39m# This should always be a list but, just to be sure.\u001b[39;00m\n\u001b[0;32m   2522\u001b[0m     \u001b[39mif\u001b[39;00m \u001b[39mnot\u001b[39;00m \u001b[39misinstance\u001b[39m(resolved_archive_file, \u001b[39mlist\u001b[39m):\n",
      "File \u001b[1;32m~\\AppData\\Roaming\\Python\\Python39\\site-packages\\transformers\\modeling_utils.py:475\u001b[0m, in \u001b[0;36m_load_state_dict_into_model\u001b[1;34m(model_to_load, state_dict, start_prefix)\u001b[0m\n\u001b[0;32m    472\u001b[0m         \u001b[39mif\u001b[39;00m child \u001b[39mis\u001b[39;00m \u001b[39mnot\u001b[39;00m \u001b[39mNone\u001b[39;00m:\n\u001b[0;32m    473\u001b[0m             load(child, state_dict, prefix \u001b[39m+\u001b[39m name \u001b[39m+\u001b[39m \u001b[39m\"\u001b[39m\u001b[39m.\u001b[39m\u001b[39m\"\u001b[39m)\n\u001b[1;32m--> 475\u001b[0m load(model_to_load, state_dict, prefix\u001b[39m=\u001b[39;49mstart_prefix)\n\u001b[0;32m    476\u001b[0m \u001b[39m# Delete `state_dict` so it could be collected by GC earlier. Note that `state_dict` is a copy of the argument, so\u001b[39;00m\n\u001b[0;32m    477\u001b[0m \u001b[39m# it's safe to delete it.\u001b[39;00m\n\u001b[0;32m    478\u001b[0m \u001b[39mdel\u001b[39;00m state_dict\n",
      "File \u001b[1;32m~\\AppData\\Roaming\\Python\\Python39\\site-packages\\transformers\\modeling_utils.py:473\u001b[0m, in \u001b[0;36m_load_state_dict_into_model.<locals>.load\u001b[1;34m(module, state_dict, prefix)\u001b[0m\n\u001b[0;32m    471\u001b[0m \u001b[39mfor\u001b[39;00m name, child \u001b[39min\u001b[39;00m module\u001b[39m.\u001b[39m_modules\u001b[39m.\u001b[39mitems():\n\u001b[0;32m    472\u001b[0m     \u001b[39mif\u001b[39;00m child \u001b[39mis\u001b[39;00m \u001b[39mnot\u001b[39;00m \u001b[39mNone\u001b[39;00m:\n\u001b[1;32m--> 473\u001b[0m         load(child, state_dict, prefix \u001b[39m+\u001b[39;49m name \u001b[39m+\u001b[39;49m \u001b[39m\"\u001b[39;49m\u001b[39m.\u001b[39;49m\u001b[39m\"\u001b[39;49m)\n",
      "File \u001b[1;32m~\\AppData\\Roaming\\Python\\Python39\\site-packages\\transformers\\modeling_utils.py:473\u001b[0m, in \u001b[0;36m_load_state_dict_into_model.<locals>.load\u001b[1;34m(module, state_dict, prefix)\u001b[0m\n\u001b[0;32m    471\u001b[0m \u001b[39mfor\u001b[39;00m name, child \u001b[39min\u001b[39;00m module\u001b[39m.\u001b[39m_modules\u001b[39m.\u001b[39mitems():\n\u001b[0;32m    472\u001b[0m     \u001b[39mif\u001b[39;00m child \u001b[39mis\u001b[39;00m \u001b[39mnot\u001b[39;00m \u001b[39mNone\u001b[39;00m:\n\u001b[1;32m--> 473\u001b[0m         load(child, state_dict, prefix \u001b[39m+\u001b[39;49m name \u001b[39m+\u001b[39;49m \u001b[39m\"\u001b[39;49m\u001b[39m.\u001b[39;49m\u001b[39m\"\u001b[39;49m)\n",
      "    \u001b[1;31m[... skipping similar frames: _load_state_dict_into_model.<locals>.load at line 473 (4 times)]\u001b[0m\n",
      "File \u001b[1;32m~\\AppData\\Roaming\\Python\\Python39\\site-packages\\transformers\\modeling_utils.py:473\u001b[0m, in \u001b[0;36m_load_state_dict_into_model.<locals>.load\u001b[1;34m(module, state_dict, prefix)\u001b[0m\n\u001b[0;32m    471\u001b[0m \u001b[39mfor\u001b[39;00m name, child \u001b[39min\u001b[39;00m module\u001b[39m.\u001b[39m_modules\u001b[39m.\u001b[39mitems():\n\u001b[0;32m    472\u001b[0m     \u001b[39mif\u001b[39;00m child \u001b[39mis\u001b[39;00m \u001b[39mnot\u001b[39;00m \u001b[39mNone\u001b[39;00m:\n\u001b[1;32m--> 473\u001b[0m         load(child, state_dict, prefix \u001b[39m+\u001b[39;49m name \u001b[39m+\u001b[39;49m \u001b[39m\"\u001b[39;49m\u001b[39m.\u001b[39;49m\u001b[39m\"\u001b[39;49m)\n",
      "File \u001b[1;32m~\\AppData\\Roaming\\Python\\Python39\\site-packages\\transformers\\modeling_utils.py:469\u001b[0m, in \u001b[0;36m_load_state_dict_into_model.<locals>.load\u001b[1;34m(module, state_dict, prefix)\u001b[0m\n\u001b[0;32m    467\u001b[0m                     module\u001b[39m.\u001b[39m_load_from_state_dict(\u001b[39m*\u001b[39margs)\n\u001b[0;32m    468\u001b[0m     \u001b[39melse\u001b[39;00m:\n\u001b[1;32m--> 469\u001b[0m         module\u001b[39m.\u001b[39;49m_load_from_state_dict(\u001b[39m*\u001b[39;49margs)\n\u001b[0;32m    471\u001b[0m \u001b[39mfor\u001b[39;00m name, child \u001b[39min\u001b[39;00m module\u001b[39m.\u001b[39m_modules\u001b[39m.\u001b[39mitems():\n\u001b[0;32m    472\u001b[0m     \u001b[39mif\u001b[39;00m child \u001b[39mis\u001b[39;00m \u001b[39mnot\u001b[39;00m \u001b[39mNone\u001b[39;00m:\n",
      "File \u001b[1;32m~\\AppData\\Roaming\\Python\\Python39\\site-packages\\torch\\nn\\modules\\module.py:1568\u001b[0m, in \u001b[0;36mModule._load_from_state_dict\u001b[1;34m(self, state_dict, prefix, local_metadata, strict, missing_keys, unexpected_keys, error_msgs)\u001b[0m\n\u001b[0;32m   1566\u001b[0m \u001b[39mtry\u001b[39;00m:\n\u001b[0;32m   1567\u001b[0m     \u001b[39mwith\u001b[39;00m torch\u001b[39m.\u001b[39mno_grad():\n\u001b[1;32m-> 1568\u001b[0m         param\u001b[39m.\u001b[39;49mcopy_(input_param)\n\u001b[0;32m   1569\u001b[0m \u001b[39mexcept\u001b[39;00m \u001b[39mException\u001b[39;00m \u001b[39mas\u001b[39;00m ex:\n\u001b[0;32m   1570\u001b[0m     error_msgs\u001b[39m.\u001b[39mappend(\u001b[39m'\u001b[39m\u001b[39mWhile copying the parameter named \u001b[39m\u001b[39m\"\u001b[39m\u001b[39m{}\u001b[39;00m\u001b[39m\"\u001b[39m\u001b[39m, \u001b[39m\u001b[39m'\u001b[39m\n\u001b[0;32m   1571\u001b[0m                       \u001b[39m'\u001b[39m\u001b[39mwhose dimensions in the model are \u001b[39m\u001b[39m{}\u001b[39;00m\u001b[39m and \u001b[39m\u001b[39m'\u001b[39m\n\u001b[0;32m   1572\u001b[0m                       \u001b[39m'\u001b[39m\u001b[39mwhose dimensions in the checkpoint are \u001b[39m\u001b[39m{}\u001b[39;00m\u001b[39m, \u001b[39m\u001b[39m'\u001b[39m\n\u001b[0;32m   1573\u001b[0m                       \u001b[39m'\u001b[39m\u001b[39man exception occurred : \u001b[39m\u001b[39m{}\u001b[39;00m\u001b[39m.\u001b[39m\u001b[39m'\u001b[39m\n\u001b[0;32m   1574\u001b[0m                       \u001b[39m.\u001b[39mformat(key, param\u001b[39m.\u001b[39msize(), input_param\u001b[39m.\u001b[39msize(), ex\u001b[39m.\u001b[39margs))\n",
      "\u001b[1;31mKeyboardInterrupt\u001b[0m: "
     ]
    }
   ],
   "source": [
    "csv_path = '../csv/'\n",
    "sentiment_path = '../sentiment/'\n",
    "extension = 'csv'\n",
    "os.chdir(csv_path)\n",
    "result = glob.glob('*.{}'.format(extension))\n",
    "print(result)\n",
    "\n",
    "for item in result:\n",
    "    print(item)\n",
    "    df_csv = pd.read_csv(item)\n",
    "    df_sentiment = fb.sentiment_poster(df_csv)\n",
    "    df_sentiment.to_csv(f'{sentiment_path}{df_sentiment.company[0]}-sentiment.csv')"
   ]
  },
  {
   "cell_type": "markdown",
   "metadata": {},
   "source": [
    "#### Creation of Dataframe from Sentiment CSVs"
   ]
  },
  {
   "cell_type": "code",
   "execution_count": 22,
   "metadata": {},
   "outputs": [
    {
     "name": "stdout",
     "output_type": "stream",
     "text": [
      "['ALB-sentiment.csv', 'BHP-sentiment.csv', 'CDE-sentiment.csv', 'DMLP-sentiment.csv', 'FCX-sentiment.csv', 'HBM-sentiment.csv', 'HL-sentiment.csv', 'LAC-sentiment.csv', 'MAG-sentiment.csv', 'NXE-sentiment.csv', 'PAAS-sentiment.csv', 'RIO-sentiment.csv', 'SBSW-sentiment.csv', 'TMQ-sentiment.csv', 'UEC-sentiment.csv', 'VALE-sentiment.csv', 'WPM-sentiment.csv']\n"
     ]
    }
   ],
   "source": [
    "path = '/Users/jrilk/OneDrive/LHL/finalProject/data/'\n",
    "extension = 'csv'\n",
    "os.chdir(path)\n",
    "result = glob.glob('*.{}'.format(extension))\n",
    "print(result)\n",
    "\n",
    "df_list = []\n",
    "\n",
    "for item in result:\n",
    "    df = pd.read_csv(item, index_col=0)\n",
    "    df_list.append(df)\n",
    "\n",
    "df_sentiment = pd.concat(df_list, ignore_index=False)\n",
    "# df_csv_all = pd.concat(df_list)"
   ]
  },
  {
   "cell_type": "code",
   "execution_count": 23,
   "metadata": {},
   "outputs": [],
   "source": [
    "df_sentiment\n",
    "columns_to_drop = ['level_0', 'index', 'date', 'url',# useless columns\n",
    "'Date', # Categorical columns  'headline', 'body',\n",
    "'Open', 'High', 'Low', 'Close', 'Adj Close', 'Volume' # Financial columns , 'len_head', 'len_body'\n",
    "]\n",
    "\n",
    "df_final = df_sentiment.drop(columns=columns_to_drop).reset_index(drop=True)\n",
    "# df_sentiment_test.columns"
   ]
  },
  {
   "cell_type": "markdown",
   "metadata": {},
   "source": [
    "#### Not Used Currently"
   ]
  },
  {
   "cell_type": "code",
   "execution_count": null,
   "metadata": {},
   "outputs": [],
   "source": []
  },
  {
   "cell_type": "code",
   "execution_count": 12,
   "metadata": {},
   "outputs": [],
   "source": [
    "df_renamed = df_csv_all.rename(columns={\n",
    "    'body_posi': 'fb_body_posi',\n",
    "    'body_nega': 'fb_body_nega',\n",
    "    'body_neut': 'fb_body_neut',\n",
    "    'head_posi': 'fb_head_posi',\n",
    "    'head_nega': 'fb_head_nega',\n",
    "    'head_neut': 'fb_head_neut',\n",
    "    'body_stmt': 'fb_body_stmt',\n",
    "    'head_stmt': 'fb_head_stmt'\n",
    "})\n",
    "\n",
    "df_renamed[['fb_body_posi', 'fb_body_nega', 'fb_body_neut', 'fb_head_posi', 'fb_head_nega', 'fb_head_neut',\n",
    "        'b_body_posi', 'b_body_nega', 'b_head_posi', 'b_head_nega']] = float()\n",
    "df_renamed[['fb_body_stmt', 'fb_head_stmt', 'b_body_stmt', 'b_head_stmt']] = int()"
   ]
  },
  {
   "cell_type": "code",
   "execution_count": 16,
   "metadata": {},
   "outputs": [],
   "source": [
    "df_renamed.reset_index(inplace=True)"
   ]
  },
  {
   "cell_type": "code",
   "execution_count": 17,
   "metadata": {},
   "outputs": [
    {
     "name": "stderr",
     "output_type": "stream",
     "text": [
      "Some weights of the model checkpoint at bert-base-uncased were not used when initializing BertForSequenceClassification: ['cls.predictions.transform.dense.weight', 'cls.predictions.transform.LayerNorm.bias', 'cls.predictions.decoder.weight', 'cls.predictions.bias', 'cls.predictions.transform.LayerNorm.weight', 'cls.seq_relationship.weight', 'cls.seq_relationship.bias', 'cls.predictions.transform.dense.bias']\n",
      "- This IS expected if you are initializing BertForSequenceClassification from the checkpoint of a model trained on another task or with another architecture (e.g. initializing a BertForSequenceClassification model from a BertForPreTraining model).\n",
      "- This IS NOT expected if you are initializing BertForSequenceClassification from the checkpoint of a model that you expect to be exactly identical (initializing a BertForSequenceClassification model from a BertForSequenceClassification model).\n",
      "Some weights of BertForSequenceClassification were not initialized from the model checkpoint at bert-base-uncased and are newly initialized: ['classifier.bias', 'classifier.weight']\n",
      "You should probably TRAIN this model on a down-stream task to be able to use it for predictions and inference.\n",
      "Some weights of the model checkpoint at bert-base-uncased were not used when initializing BertForSequenceClassification: ['cls.predictions.transform.dense.weight', 'cls.predictions.transform.LayerNorm.bias', 'cls.predictions.decoder.weight', 'cls.predictions.bias', 'cls.predictions.transform.LayerNorm.weight', 'cls.seq_relationship.weight', 'cls.seq_relationship.bias', 'cls.predictions.transform.dense.bias']\n",
      "- This IS expected if you are initializing BertForSequenceClassification from the checkpoint of a model trained on another task or with another architecture (e.g. initializing a BertForSequenceClassification model from a BertForPreTraining model).\n",
      "- This IS NOT expected if you are initializing BertForSequenceClassification from the checkpoint of a model that you expect to be exactly identical (initializing a BertForSequenceClassification model from a BertForSequenceClassification model).\n",
      "Some weights of BertForSequenceClassification were not initialized from the model checkpoint at bert-base-uncased and are newly initialized: ['classifier.bias', 'classifier.weight']\n",
      "You should probably TRAIN this model on a down-stream task to be able to use it for predictions and inference.\n",
      "C:\\Users\\jrilk\\AppData\\Roaming\\Python\\Python39\\site-packages\\torch\\_tensor.py:760: UserWarning: non-inplace resize is deprecated\n",
      "  warnings.warn(\"non-inplace resize is deprecated\")\n",
      "Some weights of the model checkpoint at bert-base-uncased were not used when initializing BertForSequenceClassification: ['cls.predictions.transform.dense.weight', 'cls.predictions.transform.LayerNorm.bias', 'cls.predictions.decoder.weight', 'cls.predictions.bias', 'cls.predictions.transform.LayerNorm.weight', 'cls.seq_relationship.weight', 'cls.seq_relationship.bias', 'cls.predictions.transform.dense.bias']\n",
      "- This IS expected if you are initializing BertForSequenceClassification from the checkpoint of a model trained on another task or with another architecture (e.g. initializing a BertForSequenceClassification model from a BertForPreTraining model).\n",
      "- This IS NOT expected if you are initializing BertForSequenceClassification from the checkpoint of a model that you expect to be exactly identical (initializing a BertForSequenceClassification model from a BertForSequenceClassification model).\n",
      "Some weights of BertForSequenceClassification were not initialized from the model checkpoint at bert-base-uncased and are newly initialized: ['classifier.bias', 'classifier.weight']\n",
      "You should probably TRAIN this model on a down-stream task to be able to use it for predictions and inference.\n",
      "Some weights of the model checkpoint at bert-base-uncased were not used when initializing BertForSequenceClassification: ['cls.predictions.transform.dense.weight', 'cls.predictions.transform.LayerNorm.bias', 'cls.predictions.decoder.weight', 'cls.predictions.bias', 'cls.predictions.transform.LayerNorm.weight', 'cls.seq_relationship.weight', 'cls.seq_relationship.bias', 'cls.predictions.transform.dense.bias']\n",
      "- This IS expected if you are initializing BertForSequenceClassification from the checkpoint of a model trained on another task or with another architecture (e.g. initializing a BertForSequenceClassification model from a BertForPreTraining model).\n",
      "- This IS NOT expected if you are initializing BertForSequenceClassification from the checkpoint of a model that you expect to be exactly identical (initializing a BertForSequenceClassification model from a BertForSequenceClassification model).\n",
      "Some weights of BertForSequenceClassification were not initialized from the model checkpoint at bert-base-uncased and are newly initialized: ['classifier.bias', 'classifier.weight']\n",
      "You should probably TRAIN this model on a down-stream task to be able to use it for predictions and inference.\n",
      "Some weights of the model checkpoint at bert-base-uncased were not used when initializing BertForSequenceClassification: ['cls.predictions.transform.dense.weight', 'cls.predictions.transform.LayerNorm.bias', 'cls.predictions.decoder.weight', 'cls.predictions.bias', 'cls.predictions.transform.LayerNorm.weight', 'cls.seq_relationship.weight', 'cls.seq_relationship.bias', 'cls.predictions.transform.dense.bias']\n",
      "- This IS expected if you are initializing BertForSequenceClassification from the checkpoint of a model trained on another task or with another architecture (e.g. initializing a BertForSequenceClassification model from a BertForPreTraining model).\n",
      "- This IS NOT expected if you are initializing BertForSequenceClassification from the checkpoint of a model that you expect to be exactly identical (initializing a BertForSequenceClassification model from a BertForSequenceClassification model).\n",
      "Some weights of BertForSequenceClassification were not initialized from the model checkpoint at bert-base-uncased and are newly initialized: ['classifier.bias', 'classifier.weight']\n",
      "You should probably TRAIN this model on a down-stream task to be able to use it for predictions and inference.\n",
      "Some weights of the model checkpoint at bert-base-uncased were not used when initializing BertForSequenceClassification: ['cls.predictions.transform.dense.weight', 'cls.predictions.transform.LayerNorm.bias', 'cls.predictions.decoder.weight', 'cls.predictions.bias', 'cls.predictions.transform.LayerNorm.weight', 'cls.seq_relationship.weight', 'cls.seq_relationship.bias', 'cls.predictions.transform.dense.bias']\n",
      "- This IS expected if you are initializing BertForSequenceClassification from the checkpoint of a model trained on another task or with another architecture (e.g. initializing a BertForSequenceClassification model from a BertForPreTraining model).\n",
      "- This IS NOT expected if you are initializing BertForSequenceClassification from the checkpoint of a model that you expect to be exactly identical (initializing a BertForSequenceClassification model from a BertForSequenceClassification model).\n",
      "Some weights of BertForSequenceClassification were not initialized from the model checkpoint at bert-base-uncased and are newly initialized: ['classifier.bias', 'classifier.weight']\n",
      "You should probably TRAIN this model on a down-stream task to be able to use it for predictions and inference.\n",
      "Some weights of the model checkpoint at bert-base-uncased were not used when initializing BertForSequenceClassification: ['cls.predictions.transform.dense.weight', 'cls.predictions.transform.LayerNorm.bias', 'cls.predictions.decoder.weight', 'cls.predictions.bias', 'cls.predictions.transform.LayerNorm.weight', 'cls.seq_relationship.weight', 'cls.seq_relationship.bias', 'cls.predictions.transform.dense.bias']\n",
      "- This IS expected if you are initializing BertForSequenceClassification from the checkpoint of a model trained on another task or with another architecture (e.g. initializing a BertForSequenceClassification model from a BertForPreTraining model).\n",
      "- This IS NOT expected if you are initializing BertForSequenceClassification from the checkpoint of a model that you expect to be exactly identical (initializing a BertForSequenceClassification model from a BertForSequenceClassification model).\n",
      "Some weights of BertForSequenceClassification were not initialized from the model checkpoint at bert-base-uncased and are newly initialized: ['classifier.bias', 'classifier.weight']\n",
      "You should probably TRAIN this model on a down-stream task to be able to use it for predictions and inference.\n",
      "Token indices sequence length is longer than the specified maximum sequence length for this model (1093 > 512). Running this sequence through the model will result in indexing errors\n",
      "Token indices sequence length is longer than the specified maximum sequence length for this model (1093 > 512). Running this sequence through the model will result in indexing errors\n",
      "Some weights of the model checkpoint at bert-base-uncased were not used when initializing BertForSequenceClassification: ['cls.predictions.transform.dense.weight', 'cls.predictions.transform.LayerNorm.bias', 'cls.predictions.decoder.weight', 'cls.predictions.bias', 'cls.predictions.transform.LayerNorm.weight', 'cls.seq_relationship.weight', 'cls.seq_relationship.bias', 'cls.predictions.transform.dense.bias']\n",
      "- This IS expected if you are initializing BertForSequenceClassification from the checkpoint of a model trained on another task or with another architecture (e.g. initializing a BertForSequenceClassification model from a BertForPreTraining model).\n",
      "- This IS NOT expected if you are initializing BertForSequenceClassification from the checkpoint of a model that you expect to be exactly identical (initializing a BertForSequenceClassification model from a BertForSequenceClassification model).\n",
      "Some weights of BertForSequenceClassification were not initialized from the model checkpoint at bert-base-uncased and are newly initialized: ['classifier.bias', 'classifier.weight']\n",
      "You should probably TRAIN this model on a down-stream task to be able to use it for predictions and inference.\n",
      "Some weights of the model checkpoint at bert-base-uncased were not used when initializing BertForSequenceClassification: ['cls.predictions.transform.dense.weight', 'cls.predictions.transform.LayerNorm.bias', 'cls.predictions.decoder.weight', 'cls.predictions.bias', 'cls.predictions.transform.LayerNorm.weight', 'cls.seq_relationship.weight', 'cls.seq_relationship.bias', 'cls.predictions.transform.dense.bias']\n",
      "- This IS expected if you are initializing BertForSequenceClassification from the checkpoint of a model trained on another task or with another architecture (e.g. initializing a BertForSequenceClassification model from a BertForPreTraining model).\n",
      "- This IS NOT expected if you are initializing BertForSequenceClassification from the checkpoint of a model that you expect to be exactly identical (initializing a BertForSequenceClassification model from a BertForSequenceClassification model).\n",
      "Some weights of BertForSequenceClassification were not initialized from the model checkpoint at bert-base-uncased and are newly initialized: ['classifier.bias', 'classifier.weight']\n",
      "You should probably TRAIN this model on a down-stream task to be able to use it for predictions and inference.\n",
      "Some weights of the model checkpoint at bert-base-uncased were not used when initializing BertForSequenceClassification: ['cls.predictions.transform.dense.weight', 'cls.predictions.transform.LayerNorm.bias', 'cls.predictions.decoder.weight', 'cls.predictions.bias', 'cls.predictions.transform.LayerNorm.weight', 'cls.seq_relationship.weight', 'cls.seq_relationship.bias', 'cls.predictions.transform.dense.bias']\n",
      "- This IS expected if you are initializing BertForSequenceClassification from the checkpoint of a model trained on another task or with another architecture (e.g. initializing a BertForSequenceClassification model from a BertForPreTraining model).\n",
      "- This IS NOT expected if you are initializing BertForSequenceClassification from the checkpoint of a model that you expect to be exactly identical (initializing a BertForSequenceClassification model from a BertForSequenceClassification model).\n",
      "Some weights of BertForSequenceClassification were not initialized from the model checkpoint at bert-base-uncased and are newly initialized: ['classifier.bias', 'classifier.weight']\n",
      "You should probably TRAIN this model on a down-stream task to be able to use it for predictions and inference.\n",
      "Some weights of the model checkpoint at bert-base-uncased were not used when initializing BertForSequenceClassification: ['cls.predictions.transform.dense.weight', 'cls.predictions.transform.LayerNorm.bias', 'cls.predictions.decoder.weight', 'cls.predictions.bias', 'cls.predictions.transform.LayerNorm.weight', 'cls.seq_relationship.weight', 'cls.seq_relationship.bias', 'cls.predictions.transform.dense.bias']\n",
      "- This IS expected if you are initializing BertForSequenceClassification from the checkpoint of a model trained on another task or with another architecture (e.g. initializing a BertForSequenceClassification model from a BertForPreTraining model).\n",
      "- This IS NOT expected if you are initializing BertForSequenceClassification from the checkpoint of a model that you expect to be exactly identical (initializing a BertForSequenceClassification model from a BertForSequenceClassification model).\n",
      "Some weights of BertForSequenceClassification were not initialized from the model checkpoint at bert-base-uncased and are newly initialized: ['classifier.bias', 'classifier.weight']\n",
      "You should probably TRAIN this model on a down-stream task to be able to use it for predictions and inference.\n",
      "Some weights of the model checkpoint at bert-base-uncased were not used when initializing BertForSequenceClassification: ['cls.predictions.transform.dense.weight', 'cls.predictions.transform.LayerNorm.bias', 'cls.predictions.decoder.weight', 'cls.predictions.bias', 'cls.predictions.transform.LayerNorm.weight', 'cls.seq_relationship.weight', 'cls.seq_relationship.bias', 'cls.predictions.transform.dense.bias']\n",
      "- This IS expected if you are initializing BertForSequenceClassification from the checkpoint of a model trained on another task or with another architecture (e.g. initializing a BertForSequenceClassification model from a BertForPreTraining model).\n",
      "- This IS NOT expected if you are initializing BertForSequenceClassification from the checkpoint of a model that you expect to be exactly identical (initializing a BertForSequenceClassification model from a BertForSequenceClassification model).\n",
      "Some weights of BertForSequenceClassification were not initialized from the model checkpoint at bert-base-uncased and are newly initialized: ['classifier.bias', 'classifier.weight']\n",
      "You should probably TRAIN this model on a down-stream task to be able to use it for predictions and inference.\n",
      "Some weights of the model checkpoint at bert-base-uncased were not used when initializing BertForSequenceClassification: ['cls.predictions.transform.dense.weight', 'cls.predictions.transform.LayerNorm.bias', 'cls.predictions.decoder.weight', 'cls.predictions.bias', 'cls.predictions.transform.LayerNorm.weight', 'cls.seq_relationship.weight', 'cls.seq_relationship.bias', 'cls.predictions.transform.dense.bias']\n",
      "- This IS expected if you are initializing BertForSequenceClassification from the checkpoint of a model trained on another task or with another architecture (e.g. initializing a BertForSequenceClassification model from a BertForPreTraining model).\n",
      "- This IS NOT expected if you are initializing BertForSequenceClassification from the checkpoint of a model that you expect to be exactly identical (initializing a BertForSequenceClassification model from a BertForSequenceClassification model).\n",
      "Some weights of BertForSequenceClassification were not initialized from the model checkpoint at bert-base-uncased and are newly initialized: ['classifier.bias', 'classifier.weight']\n",
      "You should probably TRAIN this model on a down-stream task to be able to use it for predictions and inference.\n",
      "Some weights of the model checkpoint at bert-base-uncased were not used when initializing BertForSequenceClassification: ['cls.predictions.transform.dense.weight', 'cls.predictions.transform.LayerNorm.bias', 'cls.predictions.decoder.weight', 'cls.predictions.bias', 'cls.predictions.transform.LayerNorm.weight', 'cls.seq_relationship.weight', 'cls.seq_relationship.bias', 'cls.predictions.transform.dense.bias']\n",
      "- This IS expected if you are initializing BertForSequenceClassification from the checkpoint of a model trained on another task or with another architecture (e.g. initializing a BertForSequenceClassification model from a BertForPreTraining model).\n",
      "- This IS NOT expected if you are initializing BertForSequenceClassification from the checkpoint of a model that you expect to be exactly identical (initializing a BertForSequenceClassification model from a BertForSequenceClassification model).\n",
      "Some weights of BertForSequenceClassification were not initialized from the model checkpoint at bert-base-uncased and are newly initialized: ['classifier.bias', 'classifier.weight']\n",
      "You should probably TRAIN this model on a down-stream task to be able to use it for predictions and inference.\n",
      "Some weights of the model checkpoint at bert-base-uncased were not used when initializing BertForSequenceClassification: ['cls.predictions.transform.dense.weight', 'cls.predictions.transform.LayerNorm.bias', 'cls.predictions.decoder.weight', 'cls.predictions.bias', 'cls.predictions.transform.LayerNorm.weight', 'cls.seq_relationship.weight', 'cls.seq_relationship.bias', 'cls.predictions.transform.dense.bias']\n",
      "- This IS expected if you are initializing BertForSequenceClassification from the checkpoint of a model trained on another task or with another architecture (e.g. initializing a BertForSequenceClassification model from a BertForPreTraining model).\n",
      "- This IS NOT expected if you are initializing BertForSequenceClassification from the checkpoint of a model that you expect to be exactly identical (initializing a BertForSequenceClassification model from a BertForSequenceClassification model).\n",
      "Some weights of BertForSequenceClassification were not initialized from the model checkpoint at bert-base-uncased and are newly initialized: ['classifier.bias', 'classifier.weight']\n",
      "You should probably TRAIN this model on a down-stream task to be able to use it for predictions and inference.\n",
      "Token indices sequence length is longer than the specified maximum sequence length for this model (1093 > 512). Running this sequence through the model will result in indexing errors\n",
      "Token indices sequence length is longer than the specified maximum sequence length for this model (1093 > 512). Running this sequence through the model will result in indexing errors\n",
      "Some weights of the model checkpoint at bert-base-uncased were not used when initializing BertForSequenceClassification: ['cls.predictions.transform.dense.weight', 'cls.predictions.transform.LayerNorm.bias', 'cls.predictions.decoder.weight', 'cls.predictions.bias', 'cls.predictions.transform.LayerNorm.weight', 'cls.seq_relationship.weight', 'cls.seq_relationship.bias', 'cls.predictions.transform.dense.bias']\n",
      "- This IS expected if you are initializing BertForSequenceClassification from the checkpoint of a model trained on another task or with another architecture (e.g. initializing a BertForSequenceClassification model from a BertForPreTraining model).\n",
      "- This IS NOT expected if you are initializing BertForSequenceClassification from the checkpoint of a model that you expect to be exactly identical (initializing a BertForSequenceClassification model from a BertForSequenceClassification model).\n",
      "Some weights of BertForSequenceClassification were not initialized from the model checkpoint at bert-base-uncased and are newly initialized: ['classifier.bias', 'classifier.weight']\n",
      "You should probably TRAIN this model on a down-stream task to be able to use it for predictions and inference.\n"
     ]
    }
   ],
   "source": [
    "df_sentiment2 = fb.sentiment_poster(df_renamed[:2])"
   ]
  },
  {
   "cell_type": "code",
   "execution_count": 7,
   "metadata": {},
   "outputs": [
    {
     "ename": "NameError",
     "evalue": "name 'df_renamed' is not defined",
     "output_type": "error",
     "traceback": [
      "\u001b[1;31m---------------------------------------------------------------------------\u001b[0m",
      "\u001b[1;31mNameError\u001b[0m                                 Traceback (most recent call last)",
      "Cell \u001b[1;32mIn [7], line 1\u001b[0m\n\u001b[1;32m----> 1\u001b[0m df_renamed\n",
      "\u001b[1;31mNameError\u001b[0m: name 'df_renamed' is not defined"
     ]
    }
   ],
   "source": [
    "df_renamed"
   ]
  },
  {
   "cell_type": "markdown",
   "metadata": {},
   "source": [
    "## Feature Engineering"
   ]
  },
  {
   "cell_type": "code",
   "execution_count": 137,
   "metadata": {},
   "outputs": [
    {
     "data": {
      "text/plain": [
       "<AxesSubplot: xlabel='source,b_head_stmt'>"
      ]
     },
     "execution_count": 137,
     "metadata": {},
     "output_type": "execute_result"
    },
    {
     "data": {
      "image/png": "[encoded data removed]",
      "text/plain": [
       "<Figure size 640x480 with 1 Axes>"
      ]
     },
     "metadata": {},
     "output_type": "display_data"
    }
   ],
   "source": [
    "df_final.groupby('source').agg('b_head_stmt').value_counts()"
   ]
  },
  {
   "cell_type": "code",
   "execution_count": 69,
   "metadata": {},
   "outputs": [],
   "source": [
    "def feature_set1(df):\n",
    "    # df['len_head'] = df['headline'].apply(lambda x: len(x.split())) \n",
    "    # df['len_body'] = df['body'].apply(lambda x: len(x.split()))\n",
    "\n",
    "    # weight of sentiment, depending on which sentiment, the other two weighted against the dominant\n",
    "    df.loc[df['fb_body_stmt'] == 0, 'fb_body_weight'] = (df['fb_body_posi'] / (df['fb_body_neut'] + df['fb_body_nega']))\n",
    "    df.loc[df['fb_body_stmt'] == 1, 'fb_body_weight'] = (df['fb_body_nega'] / (df['fb_body_posi'] + df['fb_body_neut']))\n",
    "    df.loc[df['fb_body_stmt'] == 2, 'fb_body_weight'] = (df['fb_body_neut'] / (df['fb_body_posi'] + df['fb_body_nega']))\n",
    "    df.loc[df['fb_head_stmt'] == 0, 'fb_head_weight'] = (df['fb_head_posi'] / (df['fb_head_neut'] + df['fb_head_nega']))\n",
    "    df.loc[df['fb_head_stmt'] == 1, 'fb_head_weight'] = (df['fb_head_nega'] / (df['fb_head_posi'] + df['fb_head_neut']))\n",
    "    df.loc[df['fb_head_stmt'] == 2, 'fb_head_weight'] = (df['fb_head_neut'] / (df['fb_head_posi'] + df['fb_head_nega']))\n",
    "\n",
    "    # do the headlines and body sentiments align\n",
    "    df.loc[df['b_body_stmt'] == df['b_head_stmt'], 'b_alignment'] = 1\n",
    "    df.loc[df['b_body_stmt'] != df['b_head_stmt'], 'b_alignment'] = 0\n",
    "    df.loc[df['fb_body_stmt'] == df['fb_head_stmt'], 'fb_alignment'] = 1\n",
    "    df.loc[df['fb_body_stmt'] != df['fb_head_stmt'], 'fb_alignment'] = 0\n",
    "    df.loc[df['b_alignment'] == df['fb_alignment'], 'all_alignment'] = 1\n",
    "    df.loc[df['b_alignment'] != df['fb_alignment'], 'all_alignment'] = 0\n",
    "\n",
    "    # get dummies\n",
    "    # df = pd.concat([df, pd.get_dummies(df['source'], prefix='source')], axis=1)\n",
    "    # df = pd.concat([df, pd.get_dummies(df['company'], prefix='company')], axis=1)\n",
    "    df = pd.concat([df, pd.get_dummies(df['b_body_stmt'], prefix='body_stmt')], axis=1)\n",
    "    df = pd.concat([df, pd.get_dummies(df['b_head_stmt'], prefix='head_stmt')], axis=1)\n",
    "\n",
    "    df = pd.concat([df, pd.get_dummies(df['fb_body_stmt'], prefix='body_stmt')], axis=1)\n",
    "    df = pd.concat([df, pd.get_dummies(df['fb_head_stmt'], prefix='head_stmt')], axis=1)\n",
    "\n",
    "    columns_to_drop = [ # useless columns 'level_0', 'index', 'date', 'url', 'level_0',\n",
    "    'headline', 'body', 'source', 'company', # Categorical columns 'Date', \n",
    "    # 'Open', 'High', 'Low', 'Close', 'Adj Close', 'Volume',  # Financial columns 'len_head', 'len_body'\n",
    "    ]\n",
    "\n",
    "    df_final = df.drop(columns=columns_to_drop).reset_index(drop=True)\n",
    "\n",
    "    return df_final"
   ]
  },
  {
   "cell_type": "code",
   "execution_count": 70,
   "metadata": {},
   "outputs": [],
   "source": [
    "df = feature_set1(df_final)"
   ]
  },
  {
   "cell_type": "code",
   "execution_count": 71,
   "metadata": {},
   "outputs": [
    {
     "data": {
      "text/plain": [
       "Index(['target', 'fb_body_posi', 'fb_body_nega', 'fb_body_neut',\n",
       "       'fb_head_posi', 'fb_head_nega', 'fb_head_neut', 'fb_body_stmt',\n",
       "       'fb_head_stmt', 'b_body_posi', 'b_body_nega', 'b_body_stmt',\n",
       "       'b_head_posi', 'b_head_nega', 'b_head_stmt', 'len_head', 'len_body',\n",
       "       'fb_body_weight', 'fb_head_weight', 'b_alignment', 'fb_alignment',\n",
       "       'all_alignment', 'body_stmt_0.0', 'body_stmt_1.0', 'head_stmt_0.0',\n",
       "       'head_stmt_1.0', 'body_stmt_0', 'body_stmt_1', 'body_stmt_2',\n",
       "       'head_stmt_0', 'head_stmt_1', 'head_stmt_2'],\n",
       "      dtype='object')"
      ]
     },
     "execution_count": 71,
     "metadata": {},
     "output_type": "execute_result"
    }
   ],
   "source": [
    "df.columns"
   ]
  },
  {
   "cell_type": "code",
   "execution_count": null,
   "metadata": {},
   "outputs": [],
   "source": [
    "def feature_set_engineering_application(df_sentiment):\n",
    "    columns_to_drop = ['date', 'url', # useless columns 'level_0', 'index', \n",
    "    'Date', 'headline', 'body', 'source' # Categorical columns\n",
    "    'Open', 'High', 'Low', 'Close', 'Adj Close', 'Volume',  # Financial columns 'len_head', 'len_body'\n",
    "    ]\n",
    "    df1 = feature_set1(df)"
   ]
  },
  {
   "cell_type": "code",
   "execution_count": 58,
   "metadata": {},
   "outputs": [],
   "source": [
    "def features(df_sentiment):\n",
    "    # all on in set 1\n",
    "\n",
    "    # df_sentiment['len_head'] = df_sentiment['headline'].apply(lambda x: len(x.split())) # removed in set 3\n",
    "    # df_sentiment['len_body'] = df_sentiment['body'].apply(lambda x: len(x.split())) # removed in set 3\n",
    "\n",
    "    columns_to_drop = ['level_0', 'index', 'date', 'url', # useless columns\n",
    "    'Date', 'headline', 'body', # Categorical columns\n",
    "    'Open', 'High', 'Low', 'Close', 'Adj Close', 'Volume', 'len_head', 'len_body' # Financial columns\n",
    "    ]\n",
    "\n",
    "    df = df_sentiment.drop(columns=columns_to_drop).reset_index()\n",
    "\n",
    "    # weight of sentiment, depending on which sentiment, the other two weighted against the dominant\n",
    "    # df.loc[df['body_stmt'] == 0, 'body_weight'] = (df['body_posi'] / (df['body_neut'] + df['body_nega'])) # removed in set 4\n",
    "    # df.loc[df['body_stmt'] == 1, 'body_weight'] = (df['body_nega'] / (df['body_posi'] + df['body_neut'])) # removed in set 4\n",
    "    # df.loc[df['body_stmt'] == 2, 'body_weight'] = (df['body_neut'] / (df['body_posi'] + df['body_nega'])) # removed in set 4\n",
    "    # df.loc[df['head_stmt'] == 0, 'head_weight'] = (df['head_posi'] / (df['head_neut'] + df['head_nega'])) # removed in set 4\n",
    "    # df.loc[df['head_stmt'] == 1, 'head_weight'] = (df['head_nega'] / (df['head_posi'] + df['head_neut'])) # removed in set 4\n",
    "    # df.loc[df['head_stmt'] == 2, 'head_weight'] = (df['head_neut'] / (df['head_posi'] + df['head_nega'])) # removed in set 4\n",
    "\n",
    "    # do the headlines and body sentiments align\n",
    "    # df.loc[df['body_stmt'] == df['head_stmt'], 'alignment'] = 1 # removed in set 5\n",
    "    # df.loc[df['body_stmt'] != df['head_stmt'], 'alignment'] = 0 # removed in set 5\n",
    "\n",
    "    # get dummies\n",
    "    # df = pd.concat([df, pd.get_dummies(df['source'], prefix='source')], axis=1) #- removed on set 2\n",
    "    # df = pd.concat([df, pd.get_dummies(df['company'], prefix='company')], axis=1) #- removed on set 2\n",
    "    # df = pd.concat([df, pd.get_dummies(df['body_stmt'], prefix='body_stmt')], axis=1)\n",
    "    # df = pd.concat([df, pd.get_dummies(df['head_stmt'], prefix='head_stmt')], axis=1)\n",
    "    \n",
    "    df.drop(columns='index', inplace=True)\n",
    "\n",
    "    return df"
   ]
  },
  {
   "cell_type": "markdown",
   "metadata": {},
   "source": [
    "## ML Pipeline"
   ]
  },
  {
   "cell_type": "markdown",
   "metadata": {},
   "source": [
    "#### ML Modules"
   ]
  },
  {
   "cell_type": "code",
   "execution_count": 72,
   "metadata": {},
   "outputs": [],
   "source": [
    "from sklearn.pipeline import Pipeline, FeatureUnion\n",
    "from sklearn.compose import ColumnTransformer\n",
    "from sklearn.preprocessing import StandardScaler, OneHotEncoder\n",
    "\n",
    "from sklearn.decomposition import PCA\n",
    "from sklearn.feature_selection import SelectKBest\n",
    "\n",
    "from sklearn.model_selection import GridSearchCV, train_test_split\n",
    "from sklearn.linear_model import LogisticRegression\n",
    "from sklearn.ensemble import RandomForestClassifier, GradientBoostingClassifier\n",
    "from sklearn.feature_extraction.text import CountVectorizer\n",
    "from sklearn.metrics import confusion_matrix, accuracy_score, f1_score, precision_score, recall_score, roc_auc_score\n",
    "import xgboost as xgb\n",
    "\n",
    "import warnings\n",
    "# from sklearn.exceptions import DataConversionWarning\n",
    "warnings.filterwarnings(action='ignore')\n",
    "\n",
    "lr = LogisticRegression()\n",
    "rfc = RandomForestClassifier()\n",
    "gbc = GradientBoostingClassifier()  \n",
    "xboost = xgb.XGBClassifier()"
   ]
  },
  {
   "cell_type": "markdown",
   "metadata": {},
   "source": [
    "#### Datamodel Functions"
   ]
  },
  {
   "cell_type": "code",
   "execution_count": 73,
   "metadata": {},
   "outputs": [],
   "source": [
    "def datamodel_creation(df):\n",
    "    # Identify numeric and categorical features, columns to keep and drop\n",
    "    drop_feats = ['target', 'b_body_stmt', 'b_head_stmt', 'fb_body_stmt', 'fb_head_stmt']\n",
    "    target_feat = ['target']\n",
    "\n",
    "    df_target = df[target_feat]\n",
    "    df_pipeline = df.drop(columns=drop_feats)\n",
    "    model_feats = df_pipeline.columns.tolist()\n",
    "\n",
    "    X_train, X_test, y_train, y_test = train_test_split(df_pipeline, df_target, test_size=0.20, random_state=42)\n",
    "\n",
    "    datamodel = [X_train, y_train, X_test, y_test]\n",
    "\n",
    "    return datamodel, model_feats"
   ]
  },
  {
   "cell_type": "markdown",
   "metadata": {},
   "source": [
    "#### Metrics and Pipeline"
   ]
  },
  {
   "cell_type": "code",
   "execution_count": 74,
   "metadata": {},
   "outputs": [],
   "source": [
    "def metrics(y_test, y_pred):\n",
    "    cm = confusion_matrix(y_test, y_pred)\n",
    "    recall = recall_score(y_test, y_pred)\n",
    "    accuracy = accuracy_score(y_test, y_pred)\n",
    "    precision = precision_score(y_test, y_pred)\n",
    "    f1 = f1_score(y_test, y_pred)\n",
    "    roc_auc = roc_auc_score(y_test, y_pred)\n",
    "    metrics_list = [recall, precision, accuracy, f1, roc_auc]\n",
    "    metrics_tag = ['recall', 'precision', 'accuracy', 'f1 score', 'roc auc score']\n",
    "    metrics_def = [\n",
    "        '--> Recall is the fraction correctly identified as positive out of all predicted positives',\n",
    "        '--> Precision is the fraction correctly identified as positive out of all positives',\n",
    "        '--> Accuracy is the fraction of predictions our model got correct',\n",
    "        '--> F1 Score is the harmonic mean of models precision and recall',\n",
    "        '--> ROC-AUC Score shows the performance of the model at all classification levels']\n",
    "\n",
    "    for i in range(len(metrics_list)):\n",
    "        print(f'the {metrics_tag[i]} is: {metrics_list[i]} {metrics_def[i]}')\n",
    "\n",
    "    print(f'the confusion matrix is:\\n{cm}')\n",
    "\n",
    "    return metrics_list"
   ]
  },
  {
   "cell_type": "code",
   "execution_count": 128,
   "metadata": {},
   "outputs": [],
   "source": [
    "def pipeline(model, datamodel):\n",
    "\n",
    "    numeric_transform = Pipeline([\n",
    "        ('scaling', StandardScaler()),\n",
    "        ('select_k_best', SelectKBest(k=3))\n",
    "    ])\n",
    "\n",
    "    # categorical_transform = Pipeline([\n",
    "    #     ('one-hot-encode', OneHotEncoder(sparse=False)),\n",
    "    #     ('pca', PCA(n_components=3))\n",
    "    # ])\n",
    "\n",
    "    preprocessing = ColumnTransformer([\n",
    "        ('numeric', numeric_transform, model_feats),\n",
    "        # ('categorical', categorical_transform, cat_feats)\n",
    "    ])\n",
    "\n",
    "    union = FeatureUnion([\n",
    "        ('pca', PCA(n_components=3)),\n",
    "        ('select_k_best', SelectKBest(k=3))\n",
    "    ])\n",
    "\n",
    "    pipeline = Pipeline([\n",
    "        ('preprocessing', preprocessing),\n",
    "        ('features', union),\n",
    "        ('model', model)\n",
    "    ])\n",
    "\n",
    "    if model == lr:\n",
    "        params = {\n",
    "            'features__pca__n_components': [1, 2, 3, 4, 5],\n",
    "            'features__select_k_best__k': [1, 2, 3, 4, 5],\n",
    "            'model__solver': ['newton-cg', 'lbfgs', 'liblinear', 'sag', 'saga'],\n",
    "            'model__penalty': ['1l', 'l2', 'elasticnet', 'none']\n",
    "        }\n",
    "    elif model == rfc:\n",
    "        params = {\n",
    "            'features__pca__n_components': [1, 2, 3, 4, 5],\n",
    "            'features__select_k_best__k': [1, 2, 3, 4, 5],\n",
    "            # 'model__criterion' : [\"gini\", \"entropy\", \"log_loss\"],\n",
    "            'model__max_depth': [10, 25, 50, 100],\n",
    "            'model__n_jobs' : [-1],\n",
    "            # 'model__max_features': [\"sqrt\", \"log2\", None],\n",
    "            'model__n_estimators': [10, 50, 75, 100, 250]\n",
    "        }\n",
    "    elif model == gbc:\n",
    "        params = {\n",
    "            'features__pca__n_components': [1, 2, 3, 4, 5],\n",
    "            'features__select_k_best__k': [1, 2, 3, 4, 5],\n",
    "            'model__n_estimators': [50, 75, 100, 250, 500]\n",
    "        }\n",
    "    elif model == xboost:\n",
    "        params = {\n",
    "        'model__max_depth': [2, 3, 4, 5, 6],\n",
    "        'model__eta': [1, 2, 3], \n",
    "        'model__nthread': [-1],\n",
    "        'model__objective': ['binary:logistic']\n",
    "        }\n",
    "\n",
    "    # model = pipeline.fit(datamodel[0], datamodel[1])\n",
    "\n",
    "    grid_search = GridSearchCV(pipeline, params, verbose=0)\n",
    "    model = grid_search.fit(datamodel[0], datamodel[1])\n",
    "    print(f'The parameters were:\\n{grid_search.best_params_}') \n",
    "    print(f'The best score was: {grid_search.best_score_}')\n",
    "\n",
    "    y_pred = model.predict(datamodel[2])\n",
    "    y_prob = model.predict_proba(datamodel[2])\n",
    "    y_best = model.best_score_\n",
    "    # y_feats = grid_search.feature_importances_\n",
    "\n",
    "    metrics_list = metrics(datamodel[3], y_pred)\n",
    "    \n",
    "    return model, metrics_list, y_prob, y_pred, y_best, # y_feats"
   ]
  },
  {
   "cell_type": "markdown",
   "metadata": {},
   "source": [
    "#### Function Runs"
   ]
  },
  {
   "cell_type": "code",
   "execution_count": 115,
   "metadata": {},
   "outputs": [],
   "source": [
    "# df = features(df_sentiment)\n",
    "datamodel, model_feats = datamodel_creation(df)"
   ]
  },
  {
   "cell_type": "code",
   "execution_count": 116,
   "metadata": {},
   "outputs": [
    {
     "name": "stdout",
     "output_type": "stream",
     "text": [
      "The parameters were:\n",
      "{'features__pca__n_components': 1, 'features__select_k_best__k': 2, 'model__penalty': 'l2', 'model__solver': 'newton-cg'}\n",
      "The best score was: 0.520656814449918\n"
     ]
    },
    {
     "ename": "AttributeError",
     "evalue": "'Pipeline' object has no attribute 'feature_importance'",
     "output_type": "error",
     "traceback": [
      "\u001b[1;31m---------------------------------------------------------------------------\u001b[0m",
      "\u001b[1;31mAttributeError\u001b[0m                            Traceback (most recent call last)",
      "Cell \u001b[1;32mIn [116], line 2\u001b[0m\n\u001b[0;32m      1\u001b[0m \u001b[39m# 16.8s\u001b[39;00m\n\u001b[1;32m----> 2\u001b[0m model_lr, metrics_lr, prob_lr, pred_lr, best_lr, feats_lr \u001b[39m=\u001b[39m pipeline(lr, datamodel)\n",
      "Cell \u001b[1;32mIn [114], line 70\u001b[0m, in \u001b[0;36mpipeline\u001b[1;34m(model, datamodel)\u001b[0m\n\u001b[0;32m     68\u001b[0m y_prob \u001b[39m=\u001b[39m model\u001b[39m.\u001b[39mpredict_proba(datamodel[\u001b[39m2\u001b[39m])\n\u001b[0;32m     69\u001b[0m y_best \u001b[39m=\u001b[39m model\u001b[39m.\u001b[39mbest_score_\n\u001b[1;32m---> 70\u001b[0m y_feats \u001b[39m=\u001b[39m grid_search\u001b[39m.\u001b[39;49mbest_estimator_\u001b[39m.\u001b[39;49mfeature_importance()\n\u001b[0;32m     72\u001b[0m metrics_list \u001b[39m=\u001b[39m metrics(datamodel[\u001b[39m3\u001b[39m], y_pred)\n\u001b[0;32m     74\u001b[0m \u001b[39mreturn\u001b[39;00m model, metrics_list, y_prob, y_pred, y_best, y_feats\n",
      "\u001b[1;31mAttributeError\u001b[0m: 'Pipeline' object has no attribute 'feature_importance'"
     ]
    }
   ],
   "source": [
    "# 16.8s\n",
    "model_lr, metrics_lr, prob_lr, pred_lr, best_lr, feats_lr = pipeline(lr, datamodel)"
   ]
  },
  {
   "cell_type": "code",
   "execution_count": 78,
   "metadata": {},
   "outputs": [
    {
     "name": "stdout",
     "output_type": "stream",
     "text": [
      "The parameters were:\n",
      "{'features__pca__n_components': 2, 'features__select_k_best__k': 3, 'model__max_depth': 100, 'model__n_estimators': 10, 'model__n_jobs': -1}\n",
      "The best score was: 0.5561904761904761\n",
      "the recall is: 0.4392523364485981 --> Recall is the fraction correctly identified as positive out of all predicted positives\n",
      "the precision is: 0.5280898876404494 --> Precision is the fraction correctly identified as positive out of all positives\n",
      "the accuracy is: 0.5321100917431193 --> Accuracy is the fraction of predictions our model got correct\n",
      "the f1 score is: 0.4795918367346939 --> F1 Score is the harmonic mean of models precision and recall\n",
      "the roc auc score is: 0.5304369790351098 --> ROC-AUC Score shows the performance of the model at all classification levels\n",
      "the confusion matrix is:\n",
      "[[69 42]\n",
      " [60 47]]\n"
     ]
    }
   ],
   "source": [
    "# 1m 25.6s\n",
    "model_rfc, metrics_rfc, prob_rfc, pred_rfc, best_rfc, feats_rfc = pipeline(rfc, datamodel)"
   ]
  },
  {
   "cell_type": "code",
   "execution_count": 79,
   "metadata": {},
   "outputs": [
    {
     "name": "stdout",
     "output_type": "stream",
     "text": [
      "The parameters were:\n",
      "{'features__pca__n_components': 3, 'features__select_k_best__k': 3, 'model__n_estimators': 500}\n",
      "The best score was: 0.5527027914614121\n",
      "the recall is: 0.4205607476635514 --> Recall is the fraction correctly identified as positive out of all predicted positives\n",
      "the precision is: 0.5172413793103449 --> Precision is the fraction correctly identified as positive out of all positives\n",
      "the accuracy is: 0.5229357798165137 --> Accuracy is the fraction of predictions our model got correct\n",
      "the f1 score is: 0.46391752577319584 --> F1 Score is the harmonic mean of models precision and recall\n",
      "the roc auc score is: 0.5210911846425865 --> ROC-AUC Score shows the performance of the model at all classification levels\n",
      "the confusion matrix is:\n",
      "[[69 42]\n",
      " [62 45]]\n"
     ]
    }
   ],
   "source": [
    "# 21.7s\n",
    "model_gbc, metrics_gbc, prob_gbc, pred_gbc, best_gbc, feats_gbc = pipeline(gbc, datamodel)"
   ]
  },
  {
   "cell_type": "code",
   "execution_count": 129,
   "metadata": {},
   "outputs": [
    {
     "name": "stdout",
     "output_type": "stream",
     "text": [
      "The parameters were:\n",
      "{'model__eta': 2, 'model__max_depth': 5, 'model__nthread': -1, 'model__objective': 'binary:logistic'}\n",
      "The best score was: 0.5481970443349754\n",
      "the recall is: 0.616822429906542 --> Recall is the fraction correctly identified as positive out of all predicted positives\n",
      "the precision is: 0.528 --> Precision is the fraction correctly identified as positive out of all positives\n",
      "the accuracy is: 0.5412844036697247 --> Accuracy is the fraction of predictions our model got correct\n",
      "the f1 score is: 0.5689655172413793 --> F1 Score is the harmonic mean of models precision and recall\n",
      "the roc auc score is: 0.5426454491875052 --> ROC-AUC Score shows the performance of the model at all classification levels\n",
      "the confusion matrix is:\n",
      "[[52 59]\n",
      " [41 66]]\n"
     ]
    }
   ],
   "source": [
    "# 2.8s\n",
    "model_xgb, metrics_xgb, prob_xgb, pred_xgb, best_xgb = pipeline(xboost, datamodel) #  feats_xgb"
   ]
  },
  {
   "cell_type": "markdown",
   "metadata": {},
   "source": [
    "#### Model Metrics and Graphics"
   ]
  },
  {
   "cell_type": "code",
   "execution_count": 101,
   "metadata": {},
   "outputs": [
    {
     "ename": "AttributeError",
     "evalue": "'GridSearchCV' object has no attribute 'feature_importances_'",
     "output_type": "error",
     "traceback": [
      "\u001b[1;31m---------------------------------------------------------------------------\u001b[0m",
      "\u001b[1;31mAttributeError\u001b[0m                            Traceback (most recent call last)",
      "Cell \u001b[1;32mIn [101], line 1\u001b[0m\n\u001b[1;32m----> 1\u001b[0m model_rfc\u001b[39m.\u001b[39;49mfeature_importances_\n",
      "\u001b[1;31mAttributeError\u001b[0m: 'GridSearchCV' object has no attribute 'feature_importances_'"
     ]
    }
   ],
   "source": [
    "model_rfc.feature_importances_"
   ]
  },
  {
   "cell_type": "code",
   "execution_count": 100,
   "metadata": {},
   "outputs": [
    {
     "ename": "AttributeError",
     "evalue": "'DataFrame' object has no attribute 'set_axis_bgcolor'",
     "output_type": "error",
     "traceback": [
      "\u001b[1;31m---------------------------------------------------------------------------\u001b[0m",
      "\u001b[1;31mAttributeError\u001b[0m                            Traceback (most recent call last)",
      "Cell \u001b[1;32mIn [100], line 42\u001b[0m\n\u001b[0;32m     29\u001b[0m \u001b[39m# graph.style.use('dark_background')\u001b[39;00m\n\u001b[0;32m     33\u001b[0m graph\u001b[39m.\u001b[39mplot(\n\u001b[0;32m     34\u001b[0m     kind\u001b[39m=\u001b[39m\u001b[39m'\u001b[39m\u001b[39mbar\u001b[39m\u001b[39m'\u001b[39m, \n\u001b[0;32m     35\u001b[0m     ylim\u001b[39m=\u001b[39m(\u001b[39m0\u001b[39m,\u001b[39m1\u001b[39m),\n\u001b[1;32m   (...)\u001b[0m\n\u001b[0;32m     40\u001b[0m     \u001b[39m# background='black'   \u001b[39;00m\n\u001b[0;32m     41\u001b[0m )\n\u001b[1;32m---> 42\u001b[0m graph\u001b[39m.\u001b[39;49mset_axis_bgcolor(\u001b[39m'\u001b[39m\u001b[39mb\u001b[39m\u001b[39m'\u001b[39m)\n",
      "File \u001b[1;32m~\\AppData\\Roaming\\Python\\Python39\\site-packages\\pandas\\core\\generic.py:5907\u001b[0m, in \u001b[0;36mNDFrame.__getattr__\u001b[1;34m(self, name)\u001b[0m\n\u001b[0;32m   5900\u001b[0m \u001b[39mif\u001b[39;00m (\n\u001b[0;32m   5901\u001b[0m     name \u001b[39mnot\u001b[39;00m \u001b[39min\u001b[39;00m \u001b[39mself\u001b[39m\u001b[39m.\u001b[39m_internal_names_set\n\u001b[0;32m   5902\u001b[0m     \u001b[39mand\u001b[39;00m name \u001b[39mnot\u001b[39;00m \u001b[39min\u001b[39;00m \u001b[39mself\u001b[39m\u001b[39m.\u001b[39m_metadata\n\u001b[0;32m   5903\u001b[0m     \u001b[39mand\u001b[39;00m name \u001b[39mnot\u001b[39;00m \u001b[39min\u001b[39;00m \u001b[39mself\u001b[39m\u001b[39m.\u001b[39m_accessors\n\u001b[0;32m   5904\u001b[0m     \u001b[39mand\u001b[39;00m \u001b[39mself\u001b[39m\u001b[39m.\u001b[39m_info_axis\u001b[39m.\u001b[39m_can_hold_identifiers_and_holds_name(name)\n\u001b[0;32m   5905\u001b[0m ):\n\u001b[0;32m   5906\u001b[0m     \u001b[39mreturn\u001b[39;00m \u001b[39mself\u001b[39m[name]\n\u001b[1;32m-> 5907\u001b[0m \u001b[39mreturn\u001b[39;00m \u001b[39mobject\u001b[39;49m\u001b[39m.\u001b[39;49m\u001b[39m__getattribute__\u001b[39;49m(\u001b[39mself\u001b[39;49m, name)\n",
      "\u001b[1;31mAttributeError\u001b[0m: 'DataFrame' object has no attribute 'set_axis_bgcolor'"
     ]
    },
    {
     "data": {
      "image/png": "[encoded data removed]",
      "text/plain": [
       "<Figure size 1000x700 with 1 Axes>"
      ]
     },
     "metadata": {},
     "output_type": "display_data"
    }
   ],
   "source": [
    "import numpy as np\n",
    "metrics_tag = ['recall', 'precision', 'accuracy', 'f1 score', 'roc auc score']\n",
    "model_bests = [best_lr, best_rfc, best_gbc, best_xgb]\n",
    "\n",
    "df_met_lr = pd.DataFrame(np.array(metrics_lr).reshape(1,-1), columns=metrics_tag).T\n",
    "df_met_lr['model'] = 'Logistic Regression'\n",
    "df_met_rfc = pd.DataFrame(np.array(metrics_rfc).reshape(1,-1), columns=metrics_tag).T\n",
    "df_met_rfc['model'] = 'Random Forest'\n",
    "df_met_gbc = pd.DataFrame(np.array(metrics_gbc).reshape(1,-1), columns=metrics_tag).T\n",
    "df_met_gbc['model'] = 'Gradient Boosting'\n",
    "df_met_xgb = pd.DataFrame(np.array(metrics_xgb).reshape(1,-1), columns=metrics_tag).T\n",
    "df_met_xgb['model'] = 'XGBoost'\n",
    "\n",
    "\n",
    "df_met = pd.concat([df_met_lr, df_met_rfc, df_met_gbc, df_met_xgb])\n",
    "df_met = df_met.reset_index()\n",
    "# df_met = df_met[['model', 'recall', 'precision', 'accuracy', 'f1 score']]\n",
    "df_met = df_met.rename(columns={'index':'metric', 0:'score'})\n",
    "df_met\n",
    "\n",
    "graph = pd.pivot_table(\n",
    "    df_met,\n",
    "    values=['score'],\n",
    "    index=['metric'],\n",
    "    columns=['model'],\n",
    "    aggfunc=np.sum,\n",
    ")\n",
    "\n",
    "# graph.style.use('dark_background')\n",
    "\n",
    "graph.plot(\n",
    "    kind='bar', \n",
    "    ylim=(0,1),\n",
    "    title='Model Metrics',\n",
    "    figsize=(10,7),\n",
    "    fontsize=15,\n",
    "    rot=45,\n",
    "    \n",
    ")\n",
    "\n",
    "graph.set_axis_bgcolor('b')"
   ]
  },
  {
   "cell_type": "markdown",
   "metadata": {},
   "source": [
    "## Testing Pipeline Function"
   ]
  },
  {
   "cell_type": "markdown",
   "metadata": {},
   "source": [
    "#### Metrics Tracker"
   ]
  },
  {
   "cell_type": "code",
   "execution_count": 14,
   "metadata": {},
   "outputs": [],
   "source": [
    "best_models_list = []\n",
    "feat_dict = {}\n",
    "metrics_list = []"
   ]
  },
  {
   "cell_type": "code",
   "execution_count": 35,
   "metadata": {},
   "outputs": [],
   "source": [
    "def metrics_dictionary(df_metrics, df, feat_dict, metrics_list, model_bests, test_num):\n",
    "    \n",
    "    feature_list = df.columns.to_list()\n",
    "    df_metrics['features'] = f'set {test_num}'\n",
    "    feat_dict[f'set {test_num}']  = feature_list\n",
    "    metrics_list.append(df_metrics)\n",
    "    best_models_list.append(model_bests)\n",
    "\n",
    "    return feat_dict, metrics_list"
   ]
  },
  {
   "cell_type": "code",
   "execution_count": 69,
   "metadata": {},
   "outputs": [],
   "source": [
    "feature_set = 5\n",
    "feat_dict, metrics_list = metrics_dictionary(df_met, datamodel[0], feat_dict, metrics_list, best_models_list, feature_set)"
   ]
  },
  {
   "cell_type": "code",
   "execution_count": 70,
   "metadata": {},
   "outputs": [
    {
     "data": {
      "text/plain": [
       "['body_posi', 'body_nega', 'body_neut', 'head_posi', 'head_nega', 'head_neut']"
      ]
     },
     "execution_count": 70,
     "metadata": {},
     "output_type": "execute_result"
    }
   ],
   "source": [
    "feat_dict['set 5']"
   ]
  },
  {
   "cell_type": "code",
   "execution_count": null,
   "metadata": {},
   "outputs": [],
   "source": []
  },
  {
   "cell_type": "markdown",
   "metadata": {},
   "source": [
    "## To delete"
   ]
  },
  {
   "cell_type": "code",
   "execution_count": 62,
   "metadata": {},
   "outputs": [],
   "source": [
    "df_sentiment['len_head'] = df_sentiment['headline'].apply(lambda x: len(x.split()))\n",
    "df_sentiment['len_body'] = df_sentiment['body'].apply(lambda x: len(x.split()))\n",
    "\n",
    "columns_to_drop = ['level_0', 'index', 'date', 'url', # useless columns\n",
    "'Date', 'headline', 'body', # Categorical columns\n",
    "'Open', 'High', 'Low', 'Close', 'Adj Close', 'Volume' # Financial columns\n",
    "]\n",
    "\n",
    "df = df_sentiment.drop(columns=columns_to_drop).reset_index()"
   ]
  },
  {
   "cell_type": "code",
   "execution_count": 63,
   "metadata": {},
   "outputs": [],
   "source": [
    "# weight of sentiment, depending on which sentiment, the other two weighted against the dominant\n",
    "df.loc[df['body_stmt'] == 0, 'body_weight'] = (df['body_posi'] / (df['body_neut'] + df['body_nega']))\n",
    "df.loc[df['body_stmt'] == 1, 'body_weight'] = (df['body_nega'] / (df['body_posi'] + df['body_neut']))\n",
    "df.loc[df['body_stmt'] == 2, 'body_weight'] = (df['body_neut'] / (df['body_posi'] + df['body_nega']))\n",
    "df.loc[df['head_stmt'] == 0, 'head_weight'] = (df['head_posi'] / (df['head_neut'] + df['head_nega']))\n",
    "df.loc[df['head_stmt'] == 1, 'head_weight'] = (df['head_nega'] / (df['head_posi'] + df['head_neut']))\n",
    "df.loc[df['head_stmt'] == 2, 'head_weight'] = (df['head_neut'] / (df['head_posi'] + df['head_nega']))\n",
    "\n",
    "# do the headlines and body sentiments align\n",
    "df.loc[df['body_stmt'] == df['head_stmt'], 'alignment'] = 1\n",
    "df.loc[df['body_stmt'] != df['head_stmt'], 'alignment'] = 0\n",
    "\n",
    "# get dummies\n",
    "df = pd.concat([df, pd.get_dummies(df['source'], prefix='source')], axis=1)\n",
    "df = pd.concat([df, pd.get_dummies(df['company'], prefix='company')], axis=1)\n",
    "df = pd.concat([df, pd.get_dummies(df['body_stmt'], prefix='body_stmt')], axis=1)\n",
    "df = pd.concat([df, pd.get_dummies(df['head_stmt'], prefix='head_stmt')], axis=1)"
   ]
  },
  {
   "cell_type": "markdown",
   "metadata": {},
   "source": [
    "#### To delete"
   ]
  },
  {
   "cell_type": "code",
   "execution_count": null,
   "metadata": {},
   "outputs": [],
   "source": [
    "# Identify numeric and categorical features, columns to keep and drop\n",
    "drop_feats = ['target', 'company','source', 'company', 'body_stmt', 'head_stmt']\n",
    "target_feat = ['target']"
   ]
  },
  {
   "cell_type": "code",
   "execution_count": null,
   "metadata": {},
   "outputs": [],
   "source": [
    "df_target = df[target_feat]\n",
    "df_pipeline = df.drop(columns=drop_feats)\n",
    "model_feats = df_pipeline.columns.tolist()"
   ]
  },
  {
   "cell_type": "code",
   "execution_count": null,
   "metadata": {},
   "outputs": [
    {
     "data": {
      "text/html": [
       "<div>\n",
       "<style scoped>\n",
       "    .dataframe tbody tr th:only-of-type {\n",
       "        vertical-align: middle;\n",
       "    }\n",
       "\n",
       "    .dataframe tbody tr th {\n",
       "        vertical-align: top;\n",
       "    }\n",
       "\n",
       "    .dataframe thead th {\n",
       "        text-align: right;\n",
       "    }\n",
       "</style>\n",
       "<table border=\"1\" class=\"dataframe\">\n",
       "  <thead>\n",
       "    <tr style=\"text-align: right;\">\n",
       "      <th></th>\n",
       "      <th>index</th>\n",
       "      <th>body_posi</th>\n",
       "      <th>body_nega</th>\n",
       "      <th>body_neut</th>\n",
       "      <th>head_posi</th>\n",
       "      <th>head_nega</th>\n",
       "      <th>head_neut</th>\n",
       "      <th>len_head</th>\n",
       "      <th>len_body</th>\n",
       "      <th>body_weight</th>\n",
       "      <th>...</th>\n",
       "      <th>company_TMQ</th>\n",
       "      <th>company_UEC</th>\n",
       "      <th>company_VALE</th>\n",
       "      <th>company_WPM</th>\n",
       "      <th>body_stmt_0</th>\n",
       "      <th>body_stmt_1</th>\n",
       "      <th>body_stmt_2</th>\n",
       "      <th>head_stmt_0</th>\n",
       "      <th>head_stmt_1</th>\n",
       "      <th>head_stmt_2</th>\n",
       "    </tr>\n",
       "  </thead>\n",
       "  <tbody>\n",
       "    <tr>\n",
       "      <th>0</th>\n",
       "      <td>0</td>\n",
       "      <td>0.047281</td>\n",
       "      <td>0.036910</td>\n",
       "      <td>0.915810</td>\n",
       "      <td>0.742239</td>\n",
       "      <td>0.074669</td>\n",
       "      <td>0.183092</td>\n",
       "      <td>4</td>\n",
       "      <td>377</td>\n",
       "      <td>10.877876</td>\n",
       "      <td>...</td>\n",
       "      <td>0</td>\n",
       "      <td>0</td>\n",
       "      <td>0</td>\n",
       "      <td>0</td>\n",
       "      <td>0</td>\n",
       "      <td>0</td>\n",
       "      <td>1</td>\n",
       "      <td>1</td>\n",
       "      <td>0</td>\n",
       "      <td>0</td>\n",
       "    </tr>\n",
       "    <tr>\n",
       "      <th>1</th>\n",
       "      <td>1</td>\n",
       "      <td>0.393008</td>\n",
       "      <td>0.186979</td>\n",
       "      <td>0.420013</td>\n",
       "      <td>0.151248</td>\n",
       "      <td>0.067651</td>\n",
       "      <td>0.781101</td>\n",
       "      <td>8</td>\n",
       "      <td>727</td>\n",
       "      <td>0.724177</td>\n",
       "      <td>...</td>\n",
       "      <td>0</td>\n",
       "      <td>0</td>\n",
       "      <td>0</td>\n",
       "      <td>0</td>\n",
       "      <td>0</td>\n",
       "      <td>0</td>\n",
       "      <td>1</td>\n",
       "      <td>0</td>\n",
       "      <td>0</td>\n",
       "      <td>1</td>\n",
       "    </tr>\n",
       "    <tr>\n",
       "      <th>2</th>\n",
       "      <td>2</td>\n",
       "      <td>0.027425</td>\n",
       "      <td>0.366215</td>\n",
       "      <td>0.606360</td>\n",
       "      <td>0.194353</td>\n",
       "      <td>0.057130</td>\n",
       "      <td>0.748516</td>\n",
       "      <td>11</td>\n",
       "      <td>720</td>\n",
       "      <td>1.540392</td>\n",
       "      <td>...</td>\n",
       "      <td>0</td>\n",
       "      <td>0</td>\n",
       "      <td>0</td>\n",
       "      <td>0</td>\n",
       "      <td>0</td>\n",
       "      <td>0</td>\n",
       "      <td>1</td>\n",
       "      <td>0</td>\n",
       "      <td>0</td>\n",
       "      <td>1</td>\n",
       "    </tr>\n",
       "    <tr>\n",
       "      <th>3</th>\n",
       "      <td>3</td>\n",
       "      <td>0.135358</td>\n",
       "      <td>0.262391</td>\n",
       "      <td>0.602251</td>\n",
       "      <td>0.553251</td>\n",
       "      <td>0.045959</td>\n",
       "      <td>0.400790</td>\n",
       "      <td>10</td>\n",
       "      <td>767</td>\n",
       "      <td>1.514149</td>\n",
       "      <td>...</td>\n",
       "      <td>0</td>\n",
       "      <td>0</td>\n",
       "      <td>0</td>\n",
       "      <td>0</td>\n",
       "      <td>0</td>\n",
       "      <td>0</td>\n",
       "      <td>1</td>\n",
       "      <td>1</td>\n",
       "      <td>0</td>\n",
       "      <td>0</td>\n",
       "    </tr>\n",
       "    <tr>\n",
       "      <th>4</th>\n",
       "      <td>4</td>\n",
       "      <td>0.379966</td>\n",
       "      <td>0.032846</td>\n",
       "      <td>0.587188</td>\n",
       "      <td>0.175742</td>\n",
       "      <td>0.046158</td>\n",
       "      <td>0.778100</td>\n",
       "      <td>11</td>\n",
       "      <td>562</td>\n",
       "      <td>1.422409</td>\n",
       "      <td>...</td>\n",
       "      <td>0</td>\n",
       "      <td>0</td>\n",
       "      <td>0</td>\n",
       "      <td>0</td>\n",
       "      <td>0</td>\n",
       "      <td>0</td>\n",
       "      <td>1</td>\n",
       "      <td>0</td>\n",
       "      <td>0</td>\n",
       "      <td>1</td>\n",
       "    </tr>\n",
       "  </tbody>\n",
       "</table>\n",
       "<p>5 rows × 66 columns</p>\n",
       "</div>"
      ],
      "text/plain": [
       "   index  body_posi  body_nega  body_neut  head_posi  head_nega  head_neut  \\\n",
       "0      0   0.047281   0.036910   0.915810   0.742239   0.074669   0.183092   \n",
       "1      1   0.393008   0.186979   0.420013   0.151248   0.067651   0.781101   \n",
       "2      2   0.027425   0.366215   0.606360   0.194353   0.057130   0.748516   \n",
       "3      3   0.135358   0.262391   0.602251   0.553251   0.045959   0.400790   \n",
       "4      4   0.379966   0.032846   0.587188   0.175742   0.046158   0.778100   \n",
       "\n",
       "   len_head  len_body  body_weight  ...  company_TMQ  company_UEC  \\\n",
       "0         4       377    10.877876  ...            0            0   \n",
       "1         8       727     0.724177  ...            0            0   \n",
       "2        11       720     1.540392  ...            0            0   \n",
       "3        10       767     1.514149  ...            0            0   \n",
       "4        11       562     1.422409  ...            0            0   \n",
       "\n",
       "   company_VALE  company_WPM  body_stmt_0  body_stmt_1  body_stmt_2  \\\n",
       "0             0            0            0            0            1   \n",
       "1             0            0            0            0            1   \n",
       "2             0            0            0            0            1   \n",
       "3             0            0            0            0            1   \n",
       "4             0            0            0            0            1   \n",
       "\n",
       "   head_stmt_0  head_stmt_1  head_stmt_2  \n",
       "0            1            0            0  \n",
       "1            0            0            1  \n",
       "2            0            0            1  \n",
       "3            1            0            0  \n",
       "4            0            0            1  \n",
       "\n",
       "[5 rows x 66 columns]"
      ]
     },
     "metadata": {},
     "output_type": "display_data"
    }
   ],
   "source": [
    "df_pipeline.head()"
   ]
  },
  {
   "cell_type": "code",
   "execution_count": null,
   "metadata": {},
   "outputs": [],
   "source": []
  },
  {
   "cell_type": "code",
   "execution_count": null,
   "metadata": {},
   "outputs": [],
   "source": [
    "X_train, X_test, y_train, y_test = train_test_split(df_pipeline, df_target, test_size=0.33, random_state=42)"
   ]
  },
  {
   "cell_type": "code",
   "execution_count": null,
   "metadata": {},
   "outputs": [],
   "source": [
    "datamodel = [X_train, y_train, X_test, y_test]"
   ]
  },
  {
   "cell_type": "markdown",
   "metadata": {},
   "source": [
    "#### UPDATE THIS WHEN RUNNING NEW FEATURES"
   ]
  },
  {
   "cell_type": "code",
   "execution_count": null,
   "metadata": {},
   "outputs": [],
   "source": [
    "df_met['features'] = 'set 1'"
   ]
  },
  {
   "cell_type": "code",
   "execution_count": null,
   "metadata": {},
   "outputs": [],
   "source": [
    "features_dictionary = {\n",
    "    'set 1': feature_list\n",
    "}"
   ]
  },
  {
   "cell_type": "code",
   "execution_count": null,
   "metadata": {},
   "outputs": [
    {
     "data": {
      "text/plain": [
       "dict_items([('set 1', ['index', 'body_posi', 'body_nega', 'body_neut', 'head_posi', 'head_nega', 'head_neut', 'len_head', 'len_body', 'body_weight', 'head_weight', 'alignment', 'source_ ACCESSWIRE', 'source_ American City Business Journals', 'source_ Barrons.com', 'source_ Benzinga', 'source_ Bloomberg', 'source_ Business Wire', 'source_ CNW Group', 'source_ FX Empire', 'source_ Financial Times', 'source_ GlobeNewswire', 'source_ GuruFocus.com', 'source_ Insider Monkey', 'source_ Investing.com', 'source_ Investopedia', \"source_ Investor's Business Daily\", 'source_ InvestorPlace', 'source_ MarketWatch', 'source_ MoneyWise', \"source_ Moody's\", 'source_ Motley Fool', 'source_ Newsfile', 'source_ Oilprice.com', 'source_ PR Newswire', 'source_ Reuters', 'source_ Simply Wall St.', 'source_ The Wall Street Journal', 'source_ TheStreet.com', 'source_ TipRanks', 'source_ Yahoo Finance UK', 'source_ Yahoo Finance Video', 'source_ Zacks', 'company_ALB', 'company_BHP', 'company_CDE', 'company_DMLP', 'company_FCX', 'company_HBM', 'company_HL', 'company_LAC', 'company_MAG', 'company_NXE', 'company_PAAS', 'company_RIO', 'company_SBSW', 'company_TMQ', 'company_UEC', 'company_VALE', 'company_WPM', 'body_stmt_0', 'body_stmt_1', 'body_stmt_2', 'head_stmt_0', 'head_stmt_1', 'head_stmt_2'])])"
      ]
     },
     "metadata": {},
     "output_type": "display_data"
    }
   ],
   "source": [
    "features_dictionary.items()"
   ]
  },
  {
   "cell_type": "code",
   "execution_count": null,
   "metadata": {},
   "outputs": [],
   "source": [
    "metrics_list.append(df_met)"
   ]
  },
  {
   "cell_type": "code",
   "execution_count": null,
   "metadata": {},
   "outputs": [
    {
     "data": {
      "text/plain": [
       "[           metric     score                model features\n",
       " 0          recall  0.366460  Logistic Regression    set 1\n",
       " 1       precision  0.412587  Logistic Regression    set 1\n",
       " 2        accuracy  0.483333  Logistic Regression    set 1\n",
       " 3        f1 score  0.388158  Logistic Regression    set 1\n",
       " 4   roc auc score  0.472175  Logistic Regression    set 1\n",
       " 5          recall  0.440994        Random Forest    set 1\n",
       " 6       precision  0.422619        Random Forest    set 1\n",
       " 7        accuracy  0.480556        Random Forest    set 1\n",
       " 8        f1 score  0.431611        Random Forest    set 1\n",
       " 9   roc auc score  0.476778        Random Forest    set 1\n",
       " 10         recall  0.490683    Gradient Boosting    set 1\n",
       " 11      precision  0.438889    Gradient Boosting    set 1\n",
       " 12       accuracy  0.491667    Gradient Boosting    set 1\n",
       " 13       f1 score  0.463343    Gradient Boosting    set 1\n",
       " 14  roc auc score  0.491573    Gradient Boosting    set 1\n",
       " 15         recall  0.465839              XGBoost    set 1\n",
       " 16      precision  0.412088              XGBoost    set 1\n",
       " 17       accuracy  0.463889              XGBoost    set 1\n",
       " 18       f1 score  0.437318              XGBoost    set 1\n",
       " 19  roc auc score  0.464075              XGBoost    set 1]"
      ]
     },
     "metadata": {},
     "output_type": "display_data"
    }
   ],
   "source": [
    "metrics_list"
   ]
  },
  {
   "cell_type": "code",
   "execution_count": null,
   "metadata": {},
   "outputs": [],
   "source": []
  }
 ],
 "metadata": {
  "kernelspec": {
   "display_name": "Python 3.9.13 64-bit",
   "language": "python",
   "name": "python3"
  },
  "language_info": {
   "codemirror_mode": {
    "name": "ipython",
    "version": 3
   },
   "file_extension": ".py",
   "mimetype": "text/x-python",
   "name": "python",
   "nbconvert_exporter": "python",
   "pygments_lexer": "ipython3",
   "version": "3.9.13"
  },
  "orig_nbformat": 4,
  "vscode": {
   "interpreter": {
    "hash": "11938c6bc6919ae2720b4d5011047913343b08a43b18698fd82dedb0d4417594"
   }
  }
 },
 "nbformat": 4,
 "nbformat_minor": 2
}
