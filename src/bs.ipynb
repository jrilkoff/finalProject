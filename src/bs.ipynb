{
 "cells": [
  {
   "cell_type": "code",
   "execution_count": 1,
   "metadata": {},
   "outputs": [],
   "source": [
    "from bs4 import BeautifulSoup as bs\n",
    "from urllib.parse import urlparse\n",
    "from urllib.request import Request, urlopen\n",
    "import urllib\n",
    "import re\n",
    "import requests\n",
    "import csv\n",
    "import pandas as pd\n",
    "from datetime import datetime, date\n",
    "import yfinance as yf"
   ]
  },
  {
   "cell_type": "markdown",
   "metadata": {},
   "source": [
    "## Website with directions\n",
    "https://blog.jovian.ai/web-scraping-yahoo-finance-using-python-7c4612fab70c"
   ]
  },
  {
   "cell_type": "markdown",
   "metadata": {},
   "source": [
    "### Main Yahoo Finance Webscraping"
   ]
  },
  {
   "cell_type": "code",
   "execution_count": 2,
   "metadata": {},
   "outputs": [],
   "source": [
    "def get_page(url):\n",
    "    \"\"\"Download a webpage and return a beautiful soup doc\"\"\"\n",
    "    \n",
    "    response = requests.get(url)\n",
    "    if not response.ok:\n",
    "        print('Status code:', response.status_code)\n",
    "        # raise Exception('Failed to load page {}'.format(url))\n",
    "    page_content = response.text\n",
    "    doc = bs(page_content, 'html.parser')\n",
    "    return doc"
   ]
  },
  {
   "cell_type": "code",
   "execution_count": 3,
   "metadata": {},
   "outputs": [],
   "source": [
    "def get_news_tags(doc):\n",
    "    \"\"\"Get the list of tags containing news information\"\"\"\n",
    "    \n",
    "    news_class = \"Ov(h) Pend(44px) Pstart(25px)\" ## class name of div tag \n",
    "    news_list  = doc.find_all('div', {'class': news_class})\n",
    "    return news_list"
   ]
  },
  {
   "cell_type": "code",
   "execution_count": 4,
   "metadata": {},
   "outputs": [],
   "source": [
    "def parse_news(news_tag):\n",
    "    \"\"\"Get the news data point and return dictionary\"\"\"\n",
    "    \n",
    "    base_url = 'https://ca.finance.yahoo.com'\n",
    "    news_source = news_tag.find('div').text #source\n",
    "    news_headline = news_tag.find('a').text #heading\n",
    "    news_url = news_tag.find('a')['href'] #link\n",
    "    return { 'source' : news_source,\n",
    "            'headline' : news_headline,\n",
    "            'url' : base_url + news_url\n",
    "           }"
   ]
  },
  {
   "cell_type": "code",
   "execution_count": 5,
   "metadata": {},
   "outputs": [],
   "source": [
    "def scrape_yahoo_news(ticker):\n",
    "    \"\"\"Get the yahoo finance market news and write them to CSV file \"\"\"\n",
    "    \n",
    "    yahoo_url = 'https://ca.finance.yahoo.com/quote/'\n",
    "    url = yahoo_url + ticker\n",
    "    \n",
    "    doc = get_page(url)\n",
    "    news_list = get_news_tags(doc)\n",
    "    news_data = [parse_news(news_tag) for news_tag in news_list]\n",
    "    news_df = pd.DataFrame(news_data)\n",
    "\n",
    "    return news_df "
   ]
  },
  {
   "cell_type": "markdown",
   "metadata": {},
   "source": [
    "### Individual Article Page Scraping Functions"
   ]
  },
  {
   "cell_type": "code",
   "execution_count": 6,
   "metadata": {},
   "outputs": [],
   "source": [
    "def parse_paragraphs(doc):\n",
    "    \"\"\"Get the list of tags containing news information\"\"\"\n",
    "    news_class = \"caas-body\" ## class name of div tag \n",
    "    news_list  = doc.find_all('div', {'class': news_class})\n",
    "    \n",
    "    return news_list"
   ]
  },
  {
   "cell_type": "code",
   "execution_count": 7,
   "metadata": {},
   "outputs": [],
   "source": [
    "def parse_news_article(news_tag):\n",
    "    table = news_tag[0].find_all('p')\n",
    "    para_list = []\n",
    "    body_string = ''\n",
    "    \n",
    "    for x in table:\n",
    "        para_list.append(x.text)\n",
    "\n",
    "    for x in para_list:\n",
    "        body_string += ' ' + x\n",
    "\n",
    "    body_string = body_string.replace(\"\\\"\", '')\n",
    "    \n",
    "    return body_string"
   ]
  },
  {
   "cell_type": "code",
   "execution_count": 8,
   "metadata": {},
   "outputs": [],
   "source": [
    "def get_article_date(url):\n",
    "    date_class = 'caas-attr-meta-time' ## class name of time stamp\n",
    "    doc = get_page(url)\n",
    "    date_stamp = doc.find_all('time', {'class': date_class})\n",
    "    date = date_stamp[0].get('datetime')\n",
    "    \n",
    "    return date"
   ]
  },
  {
   "cell_type": "code",
   "execution_count": 9,
   "metadata": {},
   "outputs": [],
   "source": [
    "def get_article_body(url):\n",
    "        \n",
    "    doc = get_page(url)\n",
    "    article = parse_paragraphs(doc)\n",
    "    article_body = parse_news_article(article)\n",
    "\n",
    "    return article_body"
   ]
  },
  {
   "cell_type": "code",
   "execution_count": 10,
   "metadata": {},
   "outputs": [],
   "source": [
    "def dataframe_prep(news_df):\n",
    "    news_df['body'] = news_df['url'][:2].apply(lambda x: get_article_body(x))\n",
    "    news_df['date'] = news_df['url'][:2].apply(lambda x: get_article_date(x))\n",
    "    news_df['date'] = pd.to_datetime(news_df['date'], format='%Y-%m-%dT%H:%M:%S.%fZ').dt.date\n",
    "    news_df[['prob_posi', 'prob_nega', 'prob_neut']] = float()\n",
    "    news_df['sentiment'] = int()\n",
    "\n",
    "    return news_df"
   ]
  },
  {
   "cell_type": "markdown",
   "metadata": {},
   "source": [
    "### Scrape Yahoo Finance, Individual Pages, Create Sentiment Columns"
   ]
  },
  {
   "cell_type": "code",
   "execution_count": 11,
   "metadata": {},
   "outputs": [],
   "source": [
    "def stock_price(ticker, start, end):\n",
    "    df = yf.download(\n",
    "        ticker, \n",
    "        start=start, \n",
    "        end=end, \n",
    "        progress=False\n",
    "    )\n",
    "\n",
    "    df.loc[df['Open'] > df['Close'], 'target'] = 0\n",
    "    df.loc[df['Open'] < df['Close'], 'target'] = 1\n",
    "    df.loc[df['Open'] == df['Close'], 'target'] = 0\n",
    "    df['target'] = df['target'].astype('int')\n",
    "\n",
    "    df = df.reset_index()\n",
    "    df['Date'] = pd.to_datetime(df['Date'], format='%Y-%m-%d').dt.date\n",
    "\n",
    "    return df"
   ]
  },
  {
   "cell_type": "code",
   "execution_count": 12,
   "metadata": {},
   "outputs": [],
   "source": [
    "def dataframe_price_sentiment(ticker, start, end):\n",
    "\n",
    "    df_price = stock_price(ticker, start, end)\n",
    "    df_news = scrape_yahoo_news(ticker)\n",
    "    df_prepped = dataframe_prep(df_news)\n",
    "\n",
    "    df_final = pd.merge(df_price, df_prepped, right_on='date', left_on='Date')\n",
    "\n",
    "    return df_final"
   ]
  },
  {
   "cell_type": "code",
   "execution_count": 13,
   "metadata": {},
   "outputs": [
    {
     "data": {
      "text/html": [
       "<div>\n",
       "<style scoped>\n",
       "    .dataframe tbody tr th:only-of-type {\n",
       "        vertical-align: middle;\n",
       "    }\n",
       "\n",
       "    .dataframe tbody tr th {\n",
       "        vertical-align: top;\n",
       "    }\n",
       "\n",
       "    .dataframe thead th {\n",
       "        text-align: right;\n",
       "    }\n",
       "</style>\n",
       "<table border=\"1\" class=\"dataframe\">\n",
       "  <thead>\n",
       "    <tr style=\"text-align: right;\">\n",
       "      <th></th>\n",
       "      <th>Date</th>\n",
       "      <th>Open</th>\n",
       "      <th>High</th>\n",
       "      <th>Low</th>\n",
       "      <th>Close</th>\n",
       "      <th>Adj Close</th>\n",
       "      <th>Volume</th>\n",
       "      <th>target</th>\n",
       "      <th>source</th>\n",
       "      <th>headline</th>\n",
       "      <th>url</th>\n",
       "      <th>body</th>\n",
       "      <th>date</th>\n",
       "      <th>prob_posi</th>\n",
       "      <th>prob_nega</th>\n",
       "      <th>prob_neut</th>\n",
       "      <th>sentiment</th>\n",
       "    </tr>\n",
       "  </thead>\n",
       "  <tbody>\n",
       "    <tr>\n",
       "      <th>0</th>\n",
       "      <td>2022-11-11</td>\n",
       "      <td>33.000000</td>\n",
       "      <td>34.849998</td>\n",
       "      <td>32.529999</td>\n",
       "      <td>33.560001</td>\n",
       "      <td>33.560001</td>\n",
       "      <td>4618400</td>\n",
       "      <td>1</td>\n",
       "      <td>Bloomberg</td>\n",
       "      <td>China Has Links to Dozens of Canadian Miners T...</td>\n",
       "      <td>https://ca.finance.yahoo.com/news/china-links-...</td>\n",
       "      <td>(Bloomberg) -- China has built up stakes in m...</td>\n",
       "      <td>2022-11-11</td>\n",
       "      <td>0.0</td>\n",
       "      <td>0.0</td>\n",
       "      <td>0.0</td>\n",
       "      <td>0</td>\n",
       "    </tr>\n",
       "    <tr>\n",
       "      <th>1</th>\n",
       "      <td>2022-11-22</td>\n",
       "      <td>30.790001</td>\n",
       "      <td>31.440001</td>\n",
       "      <td>30.059999</td>\n",
       "      <td>31.170000</td>\n",
       "      <td>31.170000</td>\n",
       "      <td>1707400</td>\n",
       "      <td>1</td>\n",
       "      <td>CNW Group</td>\n",
       "      <td>VOX ACQUIRES AUSTRALIAN GOLD ROYALTY OVER CARD...</td>\n",
       "      <td>https://ca.finance.yahoo.com/news/vox-acquires...</td>\n",
       "      <td>TORONTO, Nov. 22, 2022 /CNW/ - Vox Royalty Co...</td>\n",
       "      <td>2022-11-22</td>\n",
       "      <td>0.0</td>\n",
       "      <td>0.0</td>\n",
       "      <td>0.0</td>\n",
       "      <td>0</td>\n",
       "    </tr>\n",
       "  </tbody>\n",
       "</table>\n",
       "</div>"
      ],
      "text/plain": [
       "         Date       Open       High        Low      Close  Adj Close   Volume  \\\n",
       "0  2022-11-11  33.000000  34.849998  32.529999  33.560001  33.560001  4618400   \n",
       "1  2022-11-22  30.790001  31.440001  30.059999  31.170000  31.170000  1707400   \n",
       "\n",
       "   target     source                                           headline  \\\n",
       "0       1  Bloomberg  China Has Links to Dozens of Canadian Miners T...   \n",
       "1       1  CNW Group  VOX ACQUIRES AUSTRALIAN GOLD ROYALTY OVER CARD...   \n",
       "\n",
       "                                                 url  \\\n",
       "0  https://ca.finance.yahoo.com/news/china-links-...   \n",
       "1  https://ca.finance.yahoo.com/news/vox-acquires...   \n",
       "\n",
       "                                                body        date  prob_posi  \\\n",
       "0   (Bloomberg) -- China has built up stakes in m...  2022-11-11        0.0   \n",
       "1   TORONTO, Nov. 22, 2022 /CNW/ - Vox Royalty Co...  2022-11-22        0.0   \n",
       "\n",
       "   prob_nega  prob_neut  sentiment  \n",
       "0        0.0        0.0          0  \n",
       "1        0.0        0.0          0  "
      ]
     },
     "execution_count": 13,
     "metadata": {},
     "output_type": "execute_result"
    }
   ],
   "source": [
    "ticker = 'FM.TO'\n",
    "start = '2021-01-01'\n",
    "end = '2022-11-25'\n",
    "\n",
    "df = dataframe_price_sentiment(\n",
    "    ticker,\n",
    "    start,\n",
    "    end\n",
    ")\n",
    "\n",
    "df"
   ]
  },
  {
   "cell_type": "markdown",
   "metadata": {},
   "source": [
    "## NLP Work"
   ]
  },
  {
   "cell_type": "markdown",
   "metadata": {},
   "source": [
    "### Sentiment Analysis"
   ]
  },
  {
   "cell_type": "code",
   "execution_count": 14,
   "metadata": {},
   "outputs": [
    {
     "name": "stderr",
     "output_type": "stream",
     "text": [
      "c:\\Users\\jrilk\\AppData\\Local\\Programs\\Python\\Python39\\lib\\site-packages\\tqdm\\auto.py:22: TqdmWarning: IProgress not found. Please update jupyter and ipywidgets. See https://ipywidgets.readthedocs.io/en/stable/user_install.html\n",
      "  from .autonotebook import tqdm as notebook_tqdm\n"
     ]
    }
   ],
   "source": [
    "import finbert as fb"
   ]
  },
  {
   "cell_type": "code",
   "execution_count": 15,
   "metadata": {},
   "outputs": [],
   "source": [
    "def sentiment_applier(df):\n",
    "\n",
    "    proba_list = fb.sentiment_analysis(df, bert_model='finbert')\n",
    "    mean, sentiment, stacks = fb.get_mean_from_proba(proba_list)\n",
    "\n",
    "    return mean, sentiment"
   ]
  },
  {
   "cell_type": "code",
   "execution_count": 16,
   "metadata": {},
   "outputs": [],
   "source": [
    "def sentiment_poster(df):\n",
    "\n",
    "    sent_list = []\n",
    "    sent_list.append(df['body'].apply(lambda x: sentiment_applier(x)))\n",
    "    list2 = sent_list[0]\n",
    "\n",
    "    for n in range(len(list2)): \n",
    "        df.at[n, 'prob_posi'] = float(list2[n][0][0])\n",
    "        df.at[n, 'prob_nega'] = float(list2[n][0][1])\n",
    "        df.at[n, 'prob_neut'] = float(list2[n][0][2])\n",
    "        df.at[n, 'sentiment'] = int(list2[n][1])\n",
    "\n",
    "    return df"
   ]
  },
  {
   "cell_type": "code",
   "execution_count": 17,
   "metadata": {},
   "outputs": [
    {
     "name": "stderr",
     "output_type": "stream",
     "text": [
      "Token indices sequence length is longer than the specified maximum sequence length for this model (946 > 512). Running this sequence through the model will result in indexing errors\n",
      "c:\\Users\\jrilk\\AppData\\Local\\Programs\\Python\\Python39\\lib\\site-packages\\torch\\_tensor.py:760: UserWarning: non-inplace resize is deprecated\n",
      "  warnings.warn(\"non-inplace resize is deprecated\")\n",
      "Token indices sequence length is longer than the specified maximum sequence length for this model (3873 > 512). Running this sequence through the model will result in indexing errors\n"
     ]
    }
   ],
   "source": [
    "# df_new = sentiment_poster(df)"
   ]
  },
  {
   "cell_type": "code",
   "execution_count": 18,
   "metadata": {},
   "outputs": [
    {
     "data": {
      "text/html": [
       "<div>\n",
       "<style scoped>\n",
       "    .dataframe tbody tr th:only-of-type {\n",
       "        vertical-align: middle;\n",
       "    }\n",
       "\n",
       "    .dataframe tbody tr th {\n",
       "        vertical-align: top;\n",
       "    }\n",
       "\n",
       "    .dataframe thead th {\n",
       "        text-align: right;\n",
       "    }\n",
       "</style>\n",
       "<table border=\"1\" class=\"dataframe\">\n",
       "  <thead>\n",
       "    <tr style=\"text-align: right;\">\n",
       "      <th></th>\n",
       "      <th>Date</th>\n",
       "      <th>Open</th>\n",
       "      <th>High</th>\n",
       "      <th>Low</th>\n",
       "      <th>Close</th>\n",
       "      <th>Adj Close</th>\n",
       "      <th>Volume</th>\n",
       "      <th>target</th>\n",
       "      <th>source</th>\n",
       "      <th>headline</th>\n",
       "      <th>url</th>\n",
       "      <th>body</th>\n",
       "      <th>date</th>\n",
       "      <th>prob_posi</th>\n",
       "      <th>prob_nega</th>\n",
       "      <th>prob_neut</th>\n",
       "      <th>sentiment</th>\n",
       "    </tr>\n",
       "  </thead>\n",
       "  <tbody>\n",
       "    <tr>\n",
       "      <th>0</th>\n",
       "      <td>2022-11-11</td>\n",
       "      <td>33.000000</td>\n",
       "      <td>34.849998</td>\n",
       "      <td>32.529999</td>\n",
       "      <td>33.560001</td>\n",
       "      <td>33.560001</td>\n",
       "      <td>4618400</td>\n",
       "      <td>1</td>\n",
       "      <td>Bloomberg</td>\n",
       "      <td>China Has Links to Dozens of Canadian Miners T...</td>\n",
       "      <td>https://ca.finance.yahoo.com/news/china-links-...</td>\n",
       "      <td>(Bloomberg) -- China has built up stakes in m...</td>\n",
       "      <td>2022-11-11</td>\n",
       "      <td>0.062349</td>\n",
       "      <td>0.440163</td>\n",
       "      <td>0.497488</td>\n",
       "      <td>2</td>\n",
       "    </tr>\n",
       "    <tr>\n",
       "      <th>1</th>\n",
       "      <td>2022-11-22</td>\n",
       "      <td>30.790001</td>\n",
       "      <td>31.440001</td>\n",
       "      <td>30.059999</td>\n",
       "      <td>31.170000</td>\n",
       "      <td>31.170000</td>\n",
       "      <td>1707400</td>\n",
       "      <td>1</td>\n",
       "      <td>CNW Group</td>\n",
       "      <td>VOX ACQUIRES AUSTRALIAN GOLD ROYALTY OVER CARD...</td>\n",
       "      <td>https://ca.finance.yahoo.com/news/vox-acquires...</td>\n",
       "      <td>TORONTO, Nov. 22, 2022 /CNW/ - Vox Royalty Co...</td>\n",
       "      <td>2022-11-22</td>\n",
       "      <td>0.069084</td>\n",
       "      <td>0.034001</td>\n",
       "      <td>0.896915</td>\n",
       "      <td>2</td>\n",
       "    </tr>\n",
       "  </tbody>\n",
       "</table>\n",
       "</div>"
      ],
      "text/plain": [
       "         Date       Open       High        Low      Close  Adj Close   Volume  \\\n",
       "0  2022-11-11  33.000000  34.849998  32.529999  33.560001  33.560001  4618400   \n",
       "1  2022-11-22  30.790001  31.440001  30.059999  31.170000  31.170000  1707400   \n",
       "\n",
       "   target     source                                           headline  \\\n",
       "0       1  Bloomberg  China Has Links to Dozens of Canadian Miners T...   \n",
       "1       1  CNW Group  VOX ACQUIRES AUSTRALIAN GOLD ROYALTY OVER CARD...   \n",
       "\n",
       "                                                 url  \\\n",
       "0  https://ca.finance.yahoo.com/news/china-links-...   \n",
       "1  https://ca.finance.yahoo.com/news/vox-acquires...   \n",
       "\n",
       "                                                body        date  prob_posi  \\\n",
       "0   (Bloomberg) -- China has built up stakes in m...  2022-11-11   0.062349   \n",
       "1   TORONTO, Nov. 22, 2022 /CNW/ - Vox Royalty Co...  2022-11-22   0.069084   \n",
       "\n",
       "   prob_nega  prob_neut  sentiment  \n",
       "0   0.440163   0.497488          2  \n",
       "1   0.034001   0.896915          2  "
      ]
     },
     "execution_count": 18,
     "metadata": {},
     "output_type": "execute_result"
    }
   ],
   "source": [
    "df_new"
   ]
  },
  {
   "cell_type": "code",
   "execution_count": null,
   "metadata": {},
   "outputs": [],
   "source": []
  },
  {
   "cell_type": "markdown",
   "metadata": {},
   "source": [
    "## Test - Successful!"
   ]
  },
  {
   "cell_type": "code",
   "execution_count": 19,
   "metadata": {},
   "outputs": [],
   "source": [
    "import ws_yahoo as wsy\n",
    "import finbert as fb"
   ]
  },
  {
   "cell_type": "code",
   "execution_count": 20,
   "metadata": {},
   "outputs": [
    {
     "data": {
      "text/html": [
       "<div>\n",
       "<style scoped>\n",
       "    .dataframe tbody tr th:only-of-type {\n",
       "        vertical-align: middle;\n",
       "    }\n",
       "\n",
       "    .dataframe tbody tr th {\n",
       "        vertical-align: top;\n",
       "    }\n",
       "\n",
       "    .dataframe thead th {\n",
       "        text-align: right;\n",
       "    }\n",
       "</style>\n",
       "<table border=\"1\" class=\"dataframe\">\n",
       "  <thead>\n",
       "    <tr style=\"text-align: right;\">\n",
       "      <th></th>\n",
       "      <th>Date</th>\n",
       "      <th>Open</th>\n",
       "      <th>High</th>\n",
       "      <th>Low</th>\n",
       "      <th>Close</th>\n",
       "      <th>Adj Close</th>\n",
       "      <th>Volume</th>\n",
       "      <th>target</th>\n",
       "      <th>source</th>\n",
       "      <th>headline</th>\n",
       "      <th>url</th>\n",
       "      <th>body</th>\n",
       "      <th>date</th>\n",
       "      <th>prob_posi</th>\n",
       "      <th>prob_nega</th>\n",
       "      <th>prob_neut</th>\n",
       "      <th>sentiment</th>\n",
       "    </tr>\n",
       "  </thead>\n",
       "  <tbody>\n",
       "    <tr>\n",
       "      <th>0</th>\n",
       "      <td>2022-11-03</td>\n",
       "      <td>5.24</td>\n",
       "      <td>5.93</td>\n",
       "      <td>5.24</td>\n",
       "      <td>5.87</td>\n",
       "      <td>5.87</td>\n",
       "      <td>2530200</td>\n",
       "      <td>1</td>\n",
       "      <td>Zacks</td>\n",
       "      <td>HudBay Minerals (HBM) Reports Q3 Loss, Tops Re...</td>\n",
       "      <td>https://ca.finance.yahoo.com/news/hudbay-miner...</td>\n",
       "      <td>HudBay Minerals (HBM) came out with a quarter...</td>\n",
       "      <td>2022-11-03</td>\n",
       "      <td>0.0</td>\n",
       "      <td>0.0</td>\n",
       "      <td>0.0</td>\n",
       "      <td>0</td>\n",
       "    </tr>\n",
       "    <tr>\n",
       "      <th>1</th>\n",
       "      <td>2022-11-11</td>\n",
       "      <td>7.30</td>\n",
       "      <td>7.43</td>\n",
       "      <td>7.16</td>\n",
       "      <td>7.27</td>\n",
       "      <td>7.27</td>\n",
       "      <td>1277800</td>\n",
       "      <td>0</td>\n",
       "      <td>Simply Wall St.</td>\n",
       "      <td>Hudbay Minerals Inc.'s (TSE:HBM) Financials Ar...</td>\n",
       "      <td>https://ca.finance.yahoo.com/news/hudbay-miner...</td>\n",
       "      <td>Most readers would already be aware that Hudb...</td>\n",
       "      <td>2022-11-11</td>\n",
       "      <td>0.0</td>\n",
       "      <td>0.0</td>\n",
       "      <td>0.0</td>\n",
       "      <td>0</td>\n",
       "    </tr>\n",
       "  </tbody>\n",
       "</table>\n",
       "</div>"
      ],
      "text/plain": [
       "         Date  Open  High   Low  Close  Adj Close   Volume  target  \\\n",
       "0  2022-11-03  5.24  5.93  5.24   5.87       5.87  2530200       1   \n",
       "1  2022-11-11  7.30  7.43  7.16   7.27       7.27  1277800       0   \n",
       "\n",
       "            source                                           headline  \\\n",
       "0            Zacks  HudBay Minerals (HBM) Reports Q3 Loss, Tops Re...   \n",
       "1  Simply Wall St.  Hudbay Minerals Inc.'s (TSE:HBM) Financials Ar...   \n",
       "\n",
       "                                                 url  \\\n",
       "0  https://ca.finance.yahoo.com/news/hudbay-miner...   \n",
       "1  https://ca.finance.yahoo.com/news/hudbay-miner...   \n",
       "\n",
       "                                                body        date  prob_posi  \\\n",
       "0   HudBay Minerals (HBM) came out with a quarter...  2022-11-03        0.0   \n",
       "1   Most readers would already be aware that Hudb...  2022-11-11        0.0   \n",
       "\n",
       "   prob_nega  prob_neut  sentiment  \n",
       "0        0.0        0.0          0  \n",
       "1        0.0        0.0          0  "
      ]
     },
     "execution_count": 20,
     "metadata": {},
     "output_type": "execute_result"
    }
   ],
   "source": [
    "ticker = 'HBM.TO'\n",
    "start = '2021-01-01'\n",
    "end = '2022-11-25'\n",
    "\n",
    "df = wsy.dataframe_price_sentiment(\n",
    "    ticker,\n",
    "    start,\n",
    "    end\n",
    ")\n",
    "\n",
    "df"
   ]
  },
  {
   "cell_type": "code",
   "execution_count": 21,
   "metadata": {},
   "outputs": [
    {
     "name": "stderr",
     "output_type": "stream",
     "text": [
      "Token indices sequence length is longer than the specified maximum sequence length for this model (882 > 512). Running this sequence through the model will result in indexing errors\n",
      "c:\\Users\\jrilk\\AppData\\Local\\Programs\\Python\\Python39\\lib\\site-packages\\torch\\_tensor.py:760: UserWarning: non-inplace resize is deprecated\n",
      "  warnings.warn(\"non-inplace resize is deprecated\")\n",
      "Token indices sequence length is longer than the specified maximum sequence length for this model (1123 > 512). Running this sequence through the model will result in indexing errors\n"
     ]
    }
   ],
   "source": [
    "df_final = fb.sentiment_poster(df)"
   ]
  },
  {
   "cell_type": "code",
   "execution_count": 22,
   "metadata": {},
   "outputs": [
    {
     "data": {
      "text/html": [
       "<div>\n",
       "<style scoped>\n",
       "    .dataframe tbody tr th:only-of-type {\n",
       "        vertical-align: middle;\n",
       "    }\n",
       "\n",
       "    .dataframe tbody tr th {\n",
       "        vertical-align: top;\n",
       "    }\n",
       "\n",
       "    .dataframe thead th {\n",
       "        text-align: right;\n",
       "    }\n",
       "</style>\n",
       "<table border=\"1\" class=\"dataframe\">\n",
       "  <thead>\n",
       "    <tr style=\"text-align: right;\">\n",
       "      <th></th>\n",
       "      <th>Date</th>\n",
       "      <th>Open</th>\n",
       "      <th>High</th>\n",
       "      <th>Low</th>\n",
       "      <th>Close</th>\n",
       "      <th>Adj Close</th>\n",
       "      <th>Volume</th>\n",
       "      <th>target</th>\n",
       "      <th>source</th>\n",
       "      <th>headline</th>\n",
       "      <th>url</th>\n",
       "      <th>body</th>\n",
       "      <th>date</th>\n",
       "      <th>prob_posi</th>\n",
       "      <th>prob_nega</th>\n",
       "      <th>prob_neut</th>\n",
       "      <th>sentiment</th>\n",
       "    </tr>\n",
       "  </thead>\n",
       "  <tbody>\n",
       "    <tr>\n",
       "      <th>0</th>\n",
       "      <td>2022-11-03</td>\n",
       "      <td>5.24</td>\n",
       "      <td>5.93</td>\n",
       "      <td>5.24</td>\n",
       "      <td>5.87</td>\n",
       "      <td>5.87</td>\n",
       "      <td>2530200</td>\n",
       "      <td>1</td>\n",
       "      <td>Zacks</td>\n",
       "      <td>HudBay Minerals (HBM) Reports Q3 Loss, Tops Re...</td>\n",
       "      <td>https://ca.finance.yahoo.com/news/hudbay-miner...</td>\n",
       "      <td>HudBay Minerals (HBM) came out with a quarter...</td>\n",
       "      <td>2022-11-03</td>\n",
       "      <td>0.101192</td>\n",
       "      <td>0.266295</td>\n",
       "      <td>0.632513</td>\n",
       "      <td>2</td>\n",
       "    </tr>\n",
       "    <tr>\n",
       "      <th>1</th>\n",
       "      <td>2022-11-11</td>\n",
       "      <td>7.30</td>\n",
       "      <td>7.43</td>\n",
       "      <td>7.16</td>\n",
       "      <td>7.27</td>\n",
       "      <td>7.27</td>\n",
       "      <td>1277800</td>\n",
       "      <td>0</td>\n",
       "      <td>Simply Wall St.</td>\n",
       "      <td>Hudbay Minerals Inc.'s (TSE:HBM) Financials Ar...</td>\n",
       "      <td>https://ca.finance.yahoo.com/news/hudbay-miner...</td>\n",
       "      <td>Most readers would already be aware that Hudb...</td>\n",
       "      <td>2022-11-11</td>\n",
       "      <td>0.053361</td>\n",
       "      <td>0.558811</td>\n",
       "      <td>0.387828</td>\n",
       "      <td>1</td>\n",
       "    </tr>\n",
       "  </tbody>\n",
       "</table>\n",
       "</div>"
      ],
      "text/plain": [
       "         Date  Open  High   Low  Close  Adj Close   Volume  target  \\\n",
       "0  2022-11-03  5.24  5.93  5.24   5.87       5.87  2530200       1   \n",
       "1  2022-11-11  7.30  7.43  7.16   7.27       7.27  1277800       0   \n",
       "\n",
       "            source                                           headline  \\\n",
       "0            Zacks  HudBay Minerals (HBM) Reports Q3 Loss, Tops Re...   \n",
       "1  Simply Wall St.  Hudbay Minerals Inc.'s (TSE:HBM) Financials Ar...   \n",
       "\n",
       "                                                 url  \\\n",
       "0  https://ca.finance.yahoo.com/news/hudbay-miner...   \n",
       "1  https://ca.finance.yahoo.com/news/hudbay-miner...   \n",
       "\n",
       "                                                body        date  prob_posi  \\\n",
       "0   HudBay Minerals (HBM) came out with a quarter...  2022-11-03   0.101192   \n",
       "1   Most readers would already be aware that Hudb...  2022-11-11   0.053361   \n",
       "\n",
       "   prob_nega  prob_neut  sentiment  \n",
       "0   0.266295   0.632513          2  \n",
       "1   0.558811   0.387828          1  "
      ]
     },
     "execution_count": 22,
     "metadata": {},
     "output_type": "execute_result"
    }
   ],
   "source": [
    "df_final"
   ]
  },
  {
   "cell_type": "code",
   "execution_count": null,
   "metadata": {},
   "outputs": [],
   "source": []
  },
  {
   "cell_type": "code",
   "execution_count": 23,
   "metadata": {},
   "outputs": [],
   "source": [
    "def fv_get_page(ticker):\n",
    "    \"\"\"Download a webpage and return a beautiful soup doc\"\"\"\n",
    "\n",
    "    headers = {\n",
    "    'User-Agent': 'Mozilla/5.0'}\n",
    "\n",
    "    base_url = f'https://finviz.com/quote.ashx?t={ticker}&p=d'\n",
    "    html = requests.get(base_url, headers=headers)\n",
    "    doc = bs(html.content, \"html.parser\")\n",
    "    \n",
    "    # response = requests.get(url)\n",
    "    # if not response.ok:\n",
    "    #     print('Status code:', response.status_code)\n",
    "    #     # raise Exception('Failed to load page {}'.format(url))\n",
    "    # page_content = response.text\n",
    "    # doc = bs(page_content, 'html.parser')\n",
    "       \n",
    "    return doc"
   ]
  },
  {
   "cell_type": "code",
   "execution_count": 24,
   "metadata": {},
   "outputs": [],
   "source": [
    "def fv_get_news_tags(doc):\n",
    "    \"\"\"Get the list of tags containing news information\"\"\"\n",
    "    \n",
    "    # news_class = \"Ov(h) Pend(44px) Pstart(25px)\" ## class name of div tag \n",
    "    news_list  = doc.find('table', {'id': 'news-table'}) #attrs=\n",
    "    return news_list"
   ]
  },
  {
   "cell_type": "code",
   "execution_count": 25,
   "metadata": {},
   "outputs": [],
   "source": [
    "def fv_parse_news(news_tag):\n",
    "    \"\"\"Get the news data point and return dictionary\"\"\"\n",
    "\n",
    "    news_source = news_tag.find('div').text #source\n",
    "    news_headline = news_tag.find('a').text #heading\n",
    "    news_url = news_tag.find('a')['href'] #link\n",
    "    \n",
    "    # base_url = 'https://ca.finance.yahoo.com'\n",
    "    # news_source = news_tag.find('div', {'class': 'news-link-left'}).text #source\n",
    "    # news_headline = news_tag.find('a') #heading .text\n",
    "    \n",
    "    # if news_headline == -1:\n",
    "    #     print('yes')\n",
    "\n",
    "    # news_headline = news_tag.find('div', {'class': 'news-link-left'})\n",
    "    # print(news_headline)\n",
    "    # news_url = news_tag.find('a')\n",
    "    # news = news_url.find('href') #link ['href']\n",
    "    # print(news)\n",
    "    return {# 'source' : news_source,\n",
    "            'headline' : news_headline,\n",
    "            'url' : news_url # base_url + \n",
    "           }"
   ]
  },
  {
   "cell_type": "code",
   "execution_count": 26,
   "metadata": {},
   "outputs": [],
   "source": [
    "def scrape_finviz2(ticker):\n",
    "    \"\"\"Get the yahoo finance market news and write them to CSV file \"\"\"\n",
    "    \n",
    "    finviz_url = f'https://finviz.com/quote.ashx?t={ticker}&p=d'\n",
    "    url = finviz_url + ticker\n",
    "    \n",
    "    doc = get_page(url)\n",
    "    news_list = get_news_tags(doc)\n",
    "    news_data = [parse_news(news_tag) for news_tag in news_list]\n",
    "    news_df = pd.DataFrame(news_data)\n",
    "\n",
    "    return news_df "
   ]
  },
  {
   "cell_type": "code",
   "execution_count": 27,
   "metadata": {},
   "outputs": [],
   "source": [
    "doc = fv_get_page('HBM')\n",
    "news_list = fv_get_news_tags(doc)\n",
    "# news_data = [fv_parse_news(news_tag) for news_tag in news_list]"
   ]
  },
  {
   "cell_type": "code",
   "execution_count": 28,
   "metadata": {},
   "outputs": [],
   "source": [
    "url_list = news_list.find_all('a')\n",
    "url = url_list"
   ]
  },
  {
   "cell_type": "code",
   "execution_count": 34,
   "metadata": {},
   "outputs": [
    {
     "data": {
      "text/html": [
       "<div>\n",
       "<style scoped>\n",
       "    .dataframe tbody tr th:only-of-type {\n",
       "        vertical-align: middle;\n",
       "    }\n",
       "\n",
       "    .dataframe tbody tr th {\n",
       "        vertical-align: top;\n",
       "    }\n",
       "\n",
       "    .dataframe thead th {\n",
       "        text-align: right;\n",
       "    }\n",
       "</style>\n",
       "<table border=\"1\" class=\"dataframe\">\n",
       "  <thead>\n",
       "    <tr style=\"text-align: right;\">\n",
       "      <th></th>\n",
       "      <th>url</th>\n",
       "      <th>headline</th>\n",
       "    </tr>\n",
       "  </thead>\n",
       "  <tbody>\n",
       "    <tr>\n",
       "      <th>0</th>\n",
       "      <td>https://finance.yahoo.com/news/hudbay-minerals...</td>\n",
       "      <td>Hudbay Minerals Inc.'s (TSE:HBM) Financials Ar...</td>\n",
       "    </tr>\n",
       "    <tr>\n",
       "      <th>1</th>\n",
       "      <td>https://finance.yahoo.com/news/10-best-copper-...</td>\n",
       "      <td>10 Best Copper Stocks to Buy Now</td>\n",
       "    </tr>\n",
       "    <tr>\n",
       "      <th>2</th>\n",
       "      <td>https://finance.yahoo.com/news/hudbay-minerals...</td>\n",
       "      <td>HudBay Minerals (HBM) Reports Q3 Loss, Tops Re...</td>\n",
       "    </tr>\n",
       "    <tr>\n",
       "      <th>3</th>\n",
       "      <td>https://finance.yahoo.com/news/hudbay-provides...</td>\n",
       "      <td>Hudbay Provides Exploration Update and Announc...</td>\n",
       "    </tr>\n",
       "    <tr>\n",
       "      <th>4</th>\n",
       "      <td>https://finance.yahoo.com/news/hudbay-announce...</td>\n",
       "      <td>Hudbay Announces Third Quarter 2022 Results</td>\n",
       "    </tr>\n",
       "    <tr>\n",
       "      <th>...</th>\n",
       "      <td>...</td>\n",
       "      <td>...</td>\n",
       "    </tr>\n",
       "    <tr>\n",
       "      <th>93</th>\n",
       "      <td>https://finance.yahoo.com/news/hudbay-host-con...</td>\n",
       "      <td>Hudbay to Host Conference Call for First Quart...</td>\n",
       "    </tr>\n",
       "    <tr>\n",
       "      <th>94</th>\n",
       "      <td>https://finance.yahoo.com/news/hudbay-commence...</td>\n",
       "      <td>Hudbay Commences Pampacancha Pit Development</td>\n",
       "    </tr>\n",
       "    <tr>\n",
       "      <th>97</th>\n",
       "      <td>https://finance.yahoo.com/news/hudbay-announce...</td>\n",
       "      <td>Hudbay Announces Positive Preliminary Economic...</td>\n",
       "    </tr>\n",
       "    <tr>\n",
       "      <th>98</th>\n",
       "      <td>https://finance.yahoo.com/news/hudbay-announce...</td>\n",
       "      <td>Hudbay Announces Updated Constancia and Snow L...</td>\n",
       "    </tr>\n",
       "    <tr>\n",
       "      <th>99</th>\n",
       "      <td>https://finance.yahoo.com/news/hudbay-announce...</td>\n",
       "      <td>Hudbay Announces Significant New Discovery at ...</td>\n",
       "    </tr>\n",
       "  </tbody>\n",
       "</table>\n",
       "<p>95 rows × 2 columns</p>\n",
       "</div>"
      ],
      "text/plain": [
       "                                                  url  \\\n",
       "0   https://finance.yahoo.com/news/hudbay-minerals...   \n",
       "1   https://finance.yahoo.com/news/10-best-copper-...   \n",
       "2   https://finance.yahoo.com/news/hudbay-minerals...   \n",
       "3   https://finance.yahoo.com/news/hudbay-provides...   \n",
       "4   https://finance.yahoo.com/news/hudbay-announce...   \n",
       "..                                                ...   \n",
       "93  https://finance.yahoo.com/news/hudbay-host-con...   \n",
       "94  https://finance.yahoo.com/news/hudbay-commence...   \n",
       "97  https://finance.yahoo.com/news/hudbay-announce...   \n",
       "98  https://finance.yahoo.com/news/hudbay-announce...   \n",
       "99  https://finance.yahoo.com/news/hudbay-announce...   \n",
       "\n",
       "                                             headline  \n",
       "0   Hudbay Minerals Inc.'s (TSE:HBM) Financials Ar...  \n",
       "1                    10 Best Copper Stocks to Buy Now  \n",
       "2   HudBay Minerals (HBM) Reports Q3 Loss, Tops Re...  \n",
       "3   Hudbay Provides Exploration Update and Announc...  \n",
       "4         Hudbay Announces Third Quarter 2022 Results  \n",
       "..                                                ...  \n",
       "93  Hudbay to Host Conference Call for First Quart...  \n",
       "94       Hudbay Commences Pampacancha Pit Development  \n",
       "97  Hudbay Announces Positive Preliminary Economic...  \n",
       "98  Hudbay Announces Updated Constancia and Snow L...  \n",
       "99  Hudbay Announces Significant New Discovery at ...  \n",
       "\n",
       "[95 rows x 2 columns]"
      ]
     },
     "execution_count": 34,
     "metadata": {},
     "output_type": "execute_result"
    }
   ],
   "source": [
    "df_finviz = pd.DataFrame()\n",
    "\n",
    "df_finviz[['url', 'headline']] = \"\"\n",
    "\n",
    "for n in range(len(url_list)):\n",
    "        url = url_list[n]['href']\n",
    "        headl = url_list[n].text\n",
    "        if 'finance.yahoo' in url:\n",
    "            df_finviz.at[n, 'url'] = url\n",
    "            df_finviz.at[n, 'headline'] = headl\n",
    "        else:\n",
    "            pass\n",
    "\n",
    "df_finviz\n"
   ]
  },
  {
   "cell_type": "code",
   "execution_count": null,
   "metadata": {},
   "outputs": [
    {
     "data": {
      "text/plain": [
       "{'url': 'https://finance.yahoo.com/news/hudbay-announces-significant-discovery-copper-212000046.html',\n",
       " 'headline': 'Hudbay Announces Significant New Discovery at its Copper World Properties Adjacent to Rosemont'}"
      ]
     },
     "execution_count": 126,
     "metadata": {},
     "output_type": "execute_result"
    }
   ],
   "source": [
    "dictt"
   ]
  },
  {
   "cell_type": "code",
   "execution_count": null,
   "metadata": {},
   "outputs": [
    {
     "data": {
      "text/plain": [
       "\"Hudbay Minerals Inc.'s (TSE:HBM) Financials Are Too Obscure To Link With Current Share Price Momentum: What's In Store For the Stock? Simply Wall St.\""
      ]
     },
     "execution_count": 79,
     "metadata": {},
     "output_type": "execute_result"
    }
   ],
   "source": [
    "news_list.find('div').text"
   ]
  },
  {
   "cell_type": "code",
   "execution_count": null,
   "metadata": {},
   "outputs": [
    {
     "data": {
      "text/plain": [
       "\"Hudbay Minerals Inc.'s (TSE:HBM) Financials Are Too Obscure To Link With Current Share Price Momentum: What's In Store For the Stock?\""
      ]
     },
     "execution_count": 42,
     "metadata": {},
     "output_type": "execute_result"
    }
   ],
   "source": [
    "headline"
   ]
  },
  {
   "cell_type": "code",
   "execution_count": null,
   "metadata": {},
   "outputs": [
    {
     "data": {
      "text/plain": [
       "'https://finance.yahoo.com/news/10-best-copper-stocks-buy-161324595.html'"
      ]
     },
     "execution_count": 69,
     "metadata": {},
     "output_type": "execute_result"
    }
   ],
   "source": [
    "news_list.find('a')['href']"
   ]
  },
  {
   "cell_type": "code",
   "execution_count": null,
   "metadata": {},
   "outputs": [],
   "source": [
    "import pandas as pd\n",
    "\n",
    "# To extract fundamental data\n",
    "from bs4 import BeautifulSoup as bs\n",
    "import requests\n",
    "\n",
    "headers = {\n",
    "    'User-Agent': 'Mozilla/5.0'}\n",
    "\n",
    "\n",
    "base_url = 'https://finviz.com/quote.ashx?t=HBM&p=d'\n",
    "html = requests.get(base_url, headers=headers)\n",
    "soup = bs(html.content, \"html.parser\")\n",
    "main_div = soup.find('table', attrs={'id': 'news-table'})\n",
    "news_source = main_div.find('div').text #source\n",
    "news_headline = main_div.find('a').text #heading\n",
    "news_url = main_div.find('a')['href'] #link\n",
    "# table = main_div.find('table')\n",
    "# sub = table.findAll('tr')\n",
    "# rows = sub[5].findAll('td')"
   ]
  },
  {
   "cell_type": "code",
   "execution_count": null,
   "metadata": {},
   "outputs": [],
   "source": [
    "main_div"
   ]
  },
  {
   "cell_type": "code",
   "execution_count": null,
   "metadata": {},
   "outputs": [],
   "source": []
  },
  {
   "cell_type": "code",
   "execution_count": null,
   "metadata": {},
   "outputs": [],
   "source": [
    "import pandas as pd\n",
    "\n",
    "# To extract fundamental data\n",
    "from bs4 import BeautifulSoup as bs\n",
    "import requests\n",
    "\n",
    "headers = {\n",
    "    'User-Agent': 'Mozilla/5.0'}\n",
    "\n",
    "\n",
    "base_url = 'https://finviz.com/quote.ashx?t=HBM&p=d'\n",
    "html = requests.get(base_url, headers=headers)\n",
    "soup = bs(html.content, \"html.parser\")\n",
    "main_div = soup.find('div', attrs={'id': 'news-table'})\n",
    "table = main_div.find('table')\n",
    "sub = table.findAll('tr')\n",
    "rows = sub[5].findAll('td')\n",
    "\n",
    "data = []\n",
    "\n",
    "for row in rows:\n",
    "    link = row.a\n",
    "    if link is not None:\n",
    "\n",
    "        data.append(link.get_text())\n",
    "\n",
    "print(data)"
   ]
  },
  {
   "cell_type": "code",
   "execution_count": null,
   "metadata": {},
   "outputs": [],
   "source": []
  }
 ],
 "metadata": {
  "kernelspec": {
   "display_name": "Python 3.9.13 64-bit",
   "language": "python",
   "name": "python3"
  },
  "language_info": {
   "codemirror_mode": {
    "name": "ipython",
    "version": 3
   },
   "file_extension": ".py",
   "mimetype": "text/x-python",
   "name": "python",
   "nbconvert_exporter": "python",
   "pygments_lexer": "ipython3",
   "version": "3.9.13"
  },
  "orig_nbformat": 4,
  "vscode": {
   "interpreter": {
    "hash": "14a1d20d776e3f11c6771539360fae9e951b7848e0a938282c6d0ec899aee920"
   }
  }
 },
 "nbformat": 4,
 "nbformat_minor": 2
}
